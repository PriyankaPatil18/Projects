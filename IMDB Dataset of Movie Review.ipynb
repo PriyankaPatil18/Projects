{
 "cells": [
  {
   "cell_type": "markdown",
   "id": "related-comfort",
   "metadata": {},
   "source": [
    "### Sentiment Analysis Using RNN"
   ]
  },
  {
   "cell_type": "markdown",
   "id": "mediterranean-pregnancy",
   "metadata": {},
   "source": [
    "Steps:\n",
    "\n",
    "1. Importing (or installing) tensorflow and other packages on your system\n",
    "2. Loading your data from disk\n",
    "3. Data Preprocessing and visualization\n",
    "4. Creating your training and testing splits\n",
    "5. Defining your RNN model architecture\n",
    "6. Compiling your RNN model\n",
    "7. Training your model on your training data\n",
    "8. Evaluating your model on your test data\n",
    "9. Making predictions for unseen data"
   ]
  },
  {
   "cell_type": "markdown",
   "id": "universal-roller",
   "metadata": {},
   "source": [
    "### 1. Importing packages on your system"
   ]
  },
  {
   "cell_type": "code",
   "execution_count": 1,
   "id": "deadly-sellers",
   "metadata": {},
   "outputs": [],
   "source": [
    "# import libraries\n",
    "import pandas as pd\n",
    "import numpy as np\n",
    "import re \n",
    "import matplotlib.pyplot as plt\n",
    "from sklearn.model_selection import train_test_split\n",
    "from sklearn.metrics import confusion_matrix , accuracy_score, classification_report\n",
    "from tensorflow import keras\n",
    "from tensorflow.keras.preprocessing.text import Tokenizer\n",
    "from tensorflow.keras.preprocessing.sequence import pad_sequences\n",
    "from tensorflow.keras.layers import Dense,LSTM , GlobalMaxPooling1D\n",
    "from tensorflow.keras.models import Model\n",
    "from tensorflow.keras.layers import Flatten\n",
    "from tensorflow.keras.layers import  Embedding\n",
    "from tensorflow.keras.models import Sequential\n",
    "import tensorflow as tf\n",
    "import itertools\n",
    "\n",
    "import seaborn as sns\n",
    "sns.set()"
   ]
  },
  {
   "cell_type": "code",
   "execution_count": 2,
   "id": "provincial-present",
   "metadata": {},
   "outputs": [],
   "source": [
    "import warnings\n",
    "warnings.filterwarnings('ignore')"
   ]
  },
  {
   "cell_type": "code",
   "execution_count": 3,
   "id": "silent-victoria",
   "metadata": {},
   "outputs": [
    {
     "name": "stdout",
     "output_type": "stream",
     "text": [
      "Tensorflow Version: 2.4.1\n"
     ]
    }
   ],
   "source": [
    "print(\"Tensorflow Version: {}\".format(tf.__version__))"
   ]
  },
  {
   "cell_type": "markdown",
   "id": "hundred-tyler",
   "metadata": {},
   "source": [
    "### 2. Load data from disk"
   ]
  },
  {
   "cell_type": "code",
   "execution_count": 4,
   "id": "radio-honey",
   "metadata": {},
   "outputs": [],
   "source": [
    "df = pd.read_csv(\"dataset/IMDB Dataset.csv\")"
   ]
  },
  {
   "cell_type": "code",
   "execution_count": 5,
   "id": "other-leone",
   "metadata": {},
   "outputs": [
    {
     "data": {
      "text/html": [
       "<div>\n",
       "<style scoped>\n",
       "    .dataframe tbody tr th:only-of-type {\n",
       "        vertical-align: middle;\n",
       "    }\n",
       "\n",
       "    .dataframe tbody tr th {\n",
       "        vertical-align: top;\n",
       "    }\n",
       "\n",
       "    .dataframe thead th {\n",
       "        text-align: right;\n",
       "    }\n",
       "</style>\n",
       "<table border=\"1\" class=\"dataframe\">\n",
       "  <thead>\n",
       "    <tr style=\"text-align: right;\">\n",
       "      <th></th>\n",
       "      <th>review</th>\n",
       "      <th>sentiment</th>\n",
       "    </tr>\n",
       "  </thead>\n",
       "  <tbody>\n",
       "    <tr>\n",
       "      <th>0</th>\n",
       "      <td>One of the other reviewers has mentioned that ...</td>\n",
       "      <td>positive</td>\n",
       "    </tr>\n",
       "    <tr>\n",
       "      <th>1</th>\n",
       "      <td>A wonderful little production. &lt;br /&gt;&lt;br /&gt;The...</td>\n",
       "      <td>positive</td>\n",
       "    </tr>\n",
       "    <tr>\n",
       "      <th>2</th>\n",
       "      <td>I thought this was a wonderful way to spend ti...</td>\n",
       "      <td>positive</td>\n",
       "    </tr>\n",
       "    <tr>\n",
       "      <th>3</th>\n",
       "      <td>Basically there's a family where a little boy ...</td>\n",
       "      <td>negative</td>\n",
       "    </tr>\n",
       "    <tr>\n",
       "      <th>4</th>\n",
       "      <td>Petter Mattei's \"Love in the Time of Money\" is...</td>\n",
       "      <td>positive</td>\n",
       "    </tr>\n",
       "  </tbody>\n",
       "</table>\n",
       "</div>"
      ],
      "text/plain": [
       "                                              review sentiment\n",
       "0  One of the other reviewers has mentioned that ...  positive\n",
       "1  A wonderful little production. <br /><br />The...  positive\n",
       "2  I thought this was a wonderful way to spend ti...  positive\n",
       "3  Basically there's a family where a little boy ...  negative\n",
       "4  Petter Mattei's \"Love in the Time of Money\" is...  positive"
      ]
     },
     "execution_count": 5,
     "metadata": {},
     "output_type": "execute_result"
    }
   ],
   "source": [
    "df.head()"
   ]
  },
  {
   "cell_type": "code",
   "execution_count": 5,
   "id": "victorian-python",
   "metadata": {},
   "outputs": [
    {
     "data": {
      "text/plain": [
       "(50000, 2)"
      ]
     },
     "execution_count": 5,
     "metadata": {},
     "output_type": "execute_result"
    }
   ],
   "source": [
    "df.shape"
   ]
  },
  {
   "cell_type": "code",
   "execution_count": 7,
   "id": "received-greek",
   "metadata": {},
   "outputs": [],
   "source": [
    "# split the data set into train and test\n",
    "\n",
    "train = df.iloc[:40000]\n",
    "test = df.iloc[40000:]\n",
    "\n",
    "# write to disk \n",
    "train.to_csv(\"dataset/movie_reviews_train.csv\", index=False)\n",
    "test.to_csv(\"dataset/movie_reviews_test.csv\", index=False)"
   ]
  },
  {
   "cell_type": "code",
   "execution_count": 8,
   "id": "friendly-sandwich",
   "metadata": {},
   "outputs": [],
   "source": [
    "# read data\n",
    "df_train = pd.read_csv(\"dataset/movie_reviews_train.csv\")\n",
    "df_test =  pd.read_csv(\"dataset/movie_reviews_test.csv\")"
   ]
  },
  {
   "cell_type": "code",
   "execution_count": 9,
   "id": "subjective-courtesy",
   "metadata": {},
   "outputs": [
    {
     "name": "stdout",
     "output_type": "stream",
     "text": [
      "(40000, 2)\n",
      "(10000, 2)\n"
     ]
    }
   ],
   "source": [
    "# check the shape of the dataframe\n",
    "print(df_train.shape) # this dataset contain 40000 records and 2 columns for training\n",
    "print(df_test.shape) # this dataset contain 10000 records and 2 columns for testing"
   ]
  },
  {
   "cell_type": "code",
   "execution_count": 10,
   "id": "former-shelter",
   "metadata": {},
   "outputs": [
    {
     "data": {
      "text/plain": [
       "Index(['review', 'sentiment'], dtype='object')"
      ]
     },
     "execution_count": 10,
     "metadata": {},
     "output_type": "execute_result"
    }
   ],
   "source": [
    "df_train.columns"
   ]
  },
  {
   "cell_type": "code",
   "execution_count": 12,
   "id": "veterinary-twist",
   "metadata": {},
   "outputs": [
    {
     "data": {
      "text/plain": [
       "\"One of the other reviewers has mentioned that after watching just 1 Oz episode you'll be hooked. They are right, as this is exactly what happened with me.<br /><br />The first thing that struck me about Oz was its brutality and unflinching scenes of violence, which set in right from the word GO. Trust me, this is not a show for the faint hearted or timid. This show pulls no punches with regards to drugs, sex or violence. Its is hardcore, in the classic use of the word.<br /><br />It is called OZ as that is the nickname given to the Oswald Maximum Security State Penitentary. It focuses mainly on Emerald City, an experimental section of the prison where all the cells have glass fronts and face inwards, so privacy is not high on the agenda. Em City is home to many..Aryans, Muslims, gangstas, Latinos, Christians, Italians, Irish and more....so scuffles, death stares, dodgy dealings and shady agreements are never far away.<br /><br />I would say the main appeal of the show is due to the fact that it goes where other shows wouldn't dare. Forget pretty pictures painted for mainstream audiences, forget charm, forget romance...OZ doesn't mess around. The first episode I ever saw struck me as so nasty it was surreal, I couldn't say I was ready for it, but as I watched more, I developed a taste for Oz, and got accustomed to the high levels of graphic violence. Not just violence, but injustice (crooked guards who'll be sold out for a nickel, inmates who'll kill on order and get away with it, well mannered, middle class inmates being turned into prison bitches due to their lack of street skills or prison experience) Watching Oz, you may become comfortable with what is uncomfortable viewing....thats if you can get in touch with your darker side.\""
      ]
     },
     "execution_count": 12,
     "metadata": {},
     "output_type": "execute_result"
    }
   ],
   "source": [
    "df_train[\"review\"][0]"
   ]
  },
  {
   "cell_type": "code",
   "execution_count": 11,
   "id": "precise-meter",
   "metadata": {
    "scrolled": true
   },
   "outputs": [
    {
     "data": {
      "text/html": [
       "<div>\n",
       "<style scoped>\n",
       "    .dataframe tbody tr th:only-of-type {\n",
       "        vertical-align: middle;\n",
       "    }\n",
       "\n",
       "    .dataframe tbody tr th {\n",
       "        vertical-align: top;\n",
       "    }\n",
       "\n",
       "    .dataframe thead th {\n",
       "        text-align: right;\n",
       "    }\n",
       "</style>\n",
       "<table border=\"1\" class=\"dataframe\">\n",
       "  <thead>\n",
       "    <tr style=\"text-align: right;\">\n",
       "      <th></th>\n",
       "      <th>review</th>\n",
       "      <th>sentiment</th>\n",
       "    </tr>\n",
       "  </thead>\n",
       "  <tbody>\n",
       "    <tr>\n",
       "      <th>0</th>\n",
       "      <td>One of the other reviewers has mentioned that ...</td>\n",
       "      <td>positive</td>\n",
       "    </tr>\n",
       "    <tr>\n",
       "      <th>1</th>\n",
       "      <td>A wonderful little production. &lt;br /&gt;&lt;br /&gt;The...</td>\n",
       "      <td>positive</td>\n",
       "    </tr>\n",
       "    <tr>\n",
       "      <th>2</th>\n",
       "      <td>I thought this was a wonderful way to spend ti...</td>\n",
       "      <td>positive</td>\n",
       "    </tr>\n",
       "    <tr>\n",
       "      <th>3</th>\n",
       "      <td>Basically there's a family where a little boy ...</td>\n",
       "      <td>negative</td>\n",
       "    </tr>\n",
       "    <tr>\n",
       "      <th>4</th>\n",
       "      <td>Petter Mattei's \"Love in the Time of Money\" is...</td>\n",
       "      <td>positive</td>\n",
       "    </tr>\n",
       "  </tbody>\n",
       "</table>\n",
       "</div>"
      ],
      "text/plain": [
       "                                              review sentiment\n",
       "0  One of the other reviewers has mentioned that ...  positive\n",
       "1  A wonderful little production. <br /><br />The...  positive\n",
       "2  I thought this was a wonderful way to spend ti...  positive\n",
       "3  Basically there's a family where a little boy ...  negative\n",
       "4  Petter Mattei's \"Love in the Time of Money\" is...  positive"
      ]
     },
     "execution_count": 11,
     "metadata": {},
     "output_type": "execute_result"
    }
   ],
   "source": [
    "df_train.head()"
   ]
  },
  {
   "cell_type": "code",
   "execution_count": 12,
   "id": "hollywood-vegetarian",
   "metadata": {},
   "outputs": [
    {
     "data": {
      "text/html": [
       "<div>\n",
       "<style scoped>\n",
       "    .dataframe tbody tr th:only-of-type {\n",
       "        vertical-align: middle;\n",
       "    }\n",
       "\n",
       "    .dataframe tbody tr th {\n",
       "        vertical-align: top;\n",
       "    }\n",
       "\n",
       "    .dataframe thead th {\n",
       "        text-align: right;\n",
       "    }\n",
       "</style>\n",
       "<table border=\"1\" class=\"dataframe\">\n",
       "  <thead>\n",
       "    <tr style=\"text-align: right;\">\n",
       "      <th></th>\n",
       "      <th>review</th>\n",
       "      <th>sentiment</th>\n",
       "    </tr>\n",
       "  </thead>\n",
       "  <tbody>\n",
       "    <tr>\n",
       "      <th>39995</th>\n",
       "      <td>This was a marvelously funny comedy with a gre...</td>\n",
       "      <td>positive</td>\n",
       "    </tr>\n",
       "    <tr>\n",
       "      <th>39996</th>\n",
       "      <td>There is no plot. There are no central charact...</td>\n",
       "      <td>positive</td>\n",
       "    </tr>\n",
       "    <tr>\n",
       "      <th>39997</th>\n",
       "      <td>This show is awesome! I love all the actors! I...</td>\n",
       "      <td>positive</td>\n",
       "    </tr>\n",
       "    <tr>\n",
       "      <th>39998</th>\n",
       "      <td>The fact that this movie has been entitled to ...</td>\n",
       "      <td>negative</td>\n",
       "    </tr>\n",
       "    <tr>\n",
       "      <th>39999</th>\n",
       "      <td>I have to confess that I am severely disappoin...</td>\n",
       "      <td>negative</td>\n",
       "    </tr>\n",
       "  </tbody>\n",
       "</table>\n",
       "</div>"
      ],
      "text/plain": [
       "                                                  review sentiment\n",
       "39995  This was a marvelously funny comedy with a gre...  positive\n",
       "39996  There is no plot. There are no central charact...  positive\n",
       "39997  This show is awesome! I love all the actors! I...  positive\n",
       "39998  The fact that this movie has been entitled to ...  negative\n",
       "39999  I have to confess that I am severely disappoin...  negative"
      ]
     },
     "execution_count": 12,
     "metadata": {},
     "output_type": "execute_result"
    }
   ],
   "source": [
    "df_train.tail()"
   ]
  },
  {
   "cell_type": "code",
   "execution_count": 13,
   "id": "descending-hampton",
   "metadata": {},
   "outputs": [
    {
     "data": {
      "text/html": [
       "<div>\n",
       "<style scoped>\n",
       "    .dataframe tbody tr th:only-of-type {\n",
       "        vertical-align: middle;\n",
       "    }\n",
       "\n",
       "    .dataframe tbody tr th {\n",
       "        vertical-align: top;\n",
       "    }\n",
       "\n",
       "    .dataframe thead th {\n",
       "        text-align: right;\n",
       "    }\n",
       "</style>\n",
       "<table border=\"1\" class=\"dataframe\">\n",
       "  <thead>\n",
       "    <tr style=\"text-align: right;\">\n",
       "      <th></th>\n",
       "      <th>review</th>\n",
       "      <th>sentiment</th>\n",
       "    </tr>\n",
       "  </thead>\n",
       "  <tbody>\n",
       "    <tr>\n",
       "      <th>0</th>\n",
       "      <td>First off I want to say that I lean liberal on...</td>\n",
       "      <td>negative</td>\n",
       "    </tr>\n",
       "    <tr>\n",
       "      <th>1</th>\n",
       "      <td>I was excited to see a sitcom that would hopef...</td>\n",
       "      <td>negative</td>\n",
       "    </tr>\n",
       "    <tr>\n",
       "      <th>2</th>\n",
       "      <td>When you look at the cover and read stuff abou...</td>\n",
       "      <td>negative</td>\n",
       "    </tr>\n",
       "    <tr>\n",
       "      <th>3</th>\n",
       "      <td>Like many others, I counted on the appearance ...</td>\n",
       "      <td>negative</td>\n",
       "    </tr>\n",
       "    <tr>\n",
       "      <th>4</th>\n",
       "      <td>This movie was on t.v the other day, and I did...</td>\n",
       "      <td>negative</td>\n",
       "    </tr>\n",
       "  </tbody>\n",
       "</table>\n",
       "</div>"
      ],
      "text/plain": [
       "                                              review sentiment\n",
       "0  First off I want to say that I lean liberal on...  negative\n",
       "1  I was excited to see a sitcom that would hopef...  negative\n",
       "2  When you look at the cover and read stuff abou...  negative\n",
       "3  Like many others, I counted on the appearance ...  negative\n",
       "4  This movie was on t.v the other day, and I did...  negative"
      ]
     },
     "execution_count": 13,
     "metadata": {},
     "output_type": "execute_result"
    }
   ],
   "source": [
    "df_test.head()"
   ]
  },
  {
   "cell_type": "code",
   "execution_count": 14,
   "id": "intense-moses",
   "metadata": {},
   "outputs": [
    {
     "data": {
      "text/html": [
       "<div>\n",
       "<style scoped>\n",
       "    .dataframe tbody tr th:only-of-type {\n",
       "        vertical-align: middle;\n",
       "    }\n",
       "\n",
       "    .dataframe tbody tr th {\n",
       "        vertical-align: top;\n",
       "    }\n",
       "\n",
       "    .dataframe thead th {\n",
       "        text-align: right;\n",
       "    }\n",
       "</style>\n",
       "<table border=\"1\" class=\"dataframe\">\n",
       "  <thead>\n",
       "    <tr style=\"text-align: right;\">\n",
       "      <th></th>\n",
       "      <th>review</th>\n",
       "      <th>sentiment</th>\n",
       "    </tr>\n",
       "  </thead>\n",
       "  <tbody>\n",
       "    <tr>\n",
       "      <th>9995</th>\n",
       "      <td>I thought this movie did a down right good job...</td>\n",
       "      <td>positive</td>\n",
       "    </tr>\n",
       "    <tr>\n",
       "      <th>9996</th>\n",
       "      <td>Bad plot, bad dialogue, bad acting, idiotic di...</td>\n",
       "      <td>negative</td>\n",
       "    </tr>\n",
       "    <tr>\n",
       "      <th>9997</th>\n",
       "      <td>I am a Catholic taught in parochial elementary...</td>\n",
       "      <td>negative</td>\n",
       "    </tr>\n",
       "    <tr>\n",
       "      <th>9998</th>\n",
       "      <td>I'm going to have to disagree with the previou...</td>\n",
       "      <td>negative</td>\n",
       "    </tr>\n",
       "    <tr>\n",
       "      <th>9999</th>\n",
       "      <td>No one expects the Star Trek movies to be high...</td>\n",
       "      <td>negative</td>\n",
       "    </tr>\n",
       "  </tbody>\n",
       "</table>\n",
       "</div>"
      ],
      "text/plain": [
       "                                                 review sentiment\n",
       "9995  I thought this movie did a down right good job...  positive\n",
       "9996  Bad plot, bad dialogue, bad acting, idiotic di...  negative\n",
       "9997  I am a Catholic taught in parochial elementary...  negative\n",
       "9998  I'm going to have to disagree with the previou...  negative\n",
       "9999  No one expects the Star Trek movies to be high...  negative"
      ]
     },
     "execution_count": 14,
     "metadata": {},
     "output_type": "execute_result"
    }
   ],
   "source": [
    "df_test.tail()"
   ]
  },
  {
   "cell_type": "markdown",
   "id": "offshore-campus",
   "metadata": {},
   "source": [
    "### 3. Data Preprocessing and Visualization"
   ]
  },
  {
   "cell_type": "code",
   "execution_count": 15,
   "id": "pressed-rover",
   "metadata": {},
   "outputs": [
    {
     "data": {
      "text/plain": [
       "<AxesSubplot:xlabel='sentiment', ylabel='count'>"
      ]
     },
     "execution_count": 15,
     "metadata": {},
     "output_type": "execute_result"
    },
    {
     "data": {
      "image/png": "[encoded data removed]",
      "text/plain": [
       "<Figure size 432x288 with 1 Axes>"
      ]
     },
     "metadata": {},
     "output_type": "display_data"
    }
   ],
   "source": [
    "import seaborn as sns\n",
    "sns.countplot(df_train[\"sentiment\"])"
   ]
  },
  {
   "cell_type": "code",
   "execution_count": 16,
   "id": "shared-coach",
   "metadata": {},
   "outputs": [
    {
     "name": "stdout",
     "output_type": "stream",
     "text": [
      "This train_dataset contain 49.98% Neutral Sentiment tweet\n",
      "This train_dataset contain 50.02% Positive Sentiment tweet\n"
     ]
    }
   ],
   "source": [
    "Neg = round(df_train[\"sentiment\"].value_counts()[1]/len(df_train) * 100, 2)\n",
    "Pos = round(df_train[\"sentiment\"].value_counts()[0]/len(df_train) * 100, 2)\n",
    "\n",
    "\n",
    "print('This train_dataset contain {}% Negative Sentiment tweet'.format(Neg))\n",
    "print('This train_dataset contain {}% Positive Sentiment tweet'.format(Pos))"
   ]
  },
  {
   "cell_type": "code",
   "execution_count": 17,
   "id": "pressing-kingdom",
   "metadata": {},
   "outputs": [],
   "source": [
    "# select relevent columns"
   ]
  },
  {
   "cell_type": "code",
   "execution_count": 18,
   "id": "processed-potato",
   "metadata": {
    "scrolled": true
   },
   "outputs": [
    {
     "data": {
      "text/html": [
       "<div>\n",
       "<style scoped>\n",
       "    .dataframe tbody tr th:only-of-type {\n",
       "        vertical-align: middle;\n",
       "    }\n",
       "\n",
       "    .dataframe tbody tr th {\n",
       "        vertical-align: top;\n",
       "    }\n",
       "\n",
       "    .dataframe thead th {\n",
       "        text-align: right;\n",
       "    }\n",
       "</style>\n",
       "<table border=\"1\" class=\"dataframe\">\n",
       "  <thead>\n",
       "    <tr style=\"text-align: right;\">\n",
       "      <th></th>\n",
       "      <th>review</th>\n",
       "      <th>sentiment</th>\n",
       "      <th>label</th>\n",
       "    </tr>\n",
       "  </thead>\n",
       "  <tbody>\n",
       "    <tr>\n",
       "      <th>0</th>\n",
       "      <td>One of the other reviewers has mentioned that ...</td>\n",
       "      <td>positive</td>\n",
       "      <td>1</td>\n",
       "    </tr>\n",
       "    <tr>\n",
       "      <th>1</th>\n",
       "      <td>A wonderful little production. &lt;br /&gt;&lt;br /&gt;The...</td>\n",
       "      <td>positive</td>\n",
       "      <td>1</td>\n",
       "    </tr>\n",
       "    <tr>\n",
       "      <th>2</th>\n",
       "      <td>I thought this was a wonderful way to spend ti...</td>\n",
       "      <td>positive</td>\n",
       "      <td>1</td>\n",
       "    </tr>\n",
       "    <tr>\n",
       "      <th>3</th>\n",
       "      <td>Basically there's a family where a little boy ...</td>\n",
       "      <td>negative</td>\n",
       "      <td>0</td>\n",
       "    </tr>\n",
       "    <tr>\n",
       "      <th>4</th>\n",
       "      <td>Petter Mattei's \"Love in the Time of Money\" is...</td>\n",
       "      <td>positive</td>\n",
       "      <td>1</td>\n",
       "    </tr>\n",
       "  </tbody>\n",
       "</table>\n",
       "</div>"
      ],
      "text/plain": [
       "                                              review sentiment  label\n",
       "0  One of the other reviewers has mentioned that ...  positive      1\n",
       "1  A wonderful little production. <br /><br />The...  positive      1\n",
       "2  I thought this was a wonderful way to spend ti...  positive      1\n",
       "3  Basically there's a family where a little boy ...  negative      0\n",
       "4  Petter Mattei's \"Love in the Time of Money\" is...  positive      1"
      ]
     },
     "execution_count": 18,
     "metadata": {},
     "output_type": "execute_result"
    }
   ],
   "source": [
    "# create a label columns using manual label encoding\n",
    "lab = {\"positive\":1,\"negative\":0}\n",
    "df_train['label']= df_train[\"sentiment\"].map(lab)\n",
    "df_train.head()"
   ]
  },
  {
   "cell_type": "code",
   "execution_count": 19,
   "id": "demanding-division",
   "metadata": {},
   "outputs": [],
   "source": [
    "def clean_review(text): \n",
    "    ''' \n",
    "    Utility function to clean review text by removing links, special characters \n",
    "    using simple regex statements. \n",
    "    '''\n",
    "    return ' '.join(re.sub(\"(@[A-Za-z0-9]+)|([^0-9A-Za-z \\t])|(\\w+:\\/\\/\\S+)\", \" \", text).split()).lower()\n",
    "\n",
    "# clean tweet \n",
    "df_train[\"clean_review\"] = df_train[\"review\"].apply(lambda text : clean_review(text))"
   ]
  },
  {
   "cell_type": "code",
   "execution_count": 20,
   "id": "incredible-partition",
   "metadata": {},
   "outputs": [
    {
     "data": {
      "text/html": [
       "<div>\n",
       "<style scoped>\n",
       "    .dataframe tbody tr th:only-of-type {\n",
       "        vertical-align: middle;\n",
       "    }\n",
       "\n",
       "    .dataframe tbody tr th {\n",
       "        vertical-align: top;\n",
       "    }\n",
       "\n",
       "    .dataframe thead th {\n",
       "        text-align: right;\n",
       "    }\n",
       "</style>\n",
       "<table border=\"1\" class=\"dataframe\">\n",
       "  <thead>\n",
       "    <tr style=\"text-align: right;\">\n",
       "      <th></th>\n",
       "      <th>review</th>\n",
       "      <th>sentiment</th>\n",
       "      <th>label</th>\n",
       "      <th>clean_review</th>\n",
       "    </tr>\n",
       "  </thead>\n",
       "  <tbody>\n",
       "    <tr>\n",
       "      <th>0</th>\n",
       "      <td>One of the other reviewers has mentioned that ...</td>\n",
       "      <td>positive</td>\n",
       "      <td>1</td>\n",
       "      <td>one of the other reviewers has mentioned that ...</td>\n",
       "    </tr>\n",
       "    <tr>\n",
       "      <th>1</th>\n",
       "      <td>A wonderful little production. &lt;br /&gt;&lt;br /&gt;The...</td>\n",
       "      <td>positive</td>\n",
       "      <td>1</td>\n",
       "      <td>a wonderful little production br br the filmin...</td>\n",
       "    </tr>\n",
       "    <tr>\n",
       "      <th>2</th>\n",
       "      <td>I thought this was a wonderful way to spend ti...</td>\n",
       "      <td>positive</td>\n",
       "      <td>1</td>\n",
       "      <td>i thought this was a wonderful way to spend ti...</td>\n",
       "    </tr>\n",
       "    <tr>\n",
       "      <th>3</th>\n",
       "      <td>Basically there's a family where a little boy ...</td>\n",
       "      <td>negative</td>\n",
       "      <td>0</td>\n",
       "      <td>basically there s a family where a little boy ...</td>\n",
       "    </tr>\n",
       "    <tr>\n",
       "      <th>4</th>\n",
       "      <td>Petter Mattei's \"Love in the Time of Money\" is...</td>\n",
       "      <td>positive</td>\n",
       "      <td>1</td>\n",
       "      <td>petter mattei s love in the time of money is a...</td>\n",
       "    </tr>\n",
       "  </tbody>\n",
       "</table>\n",
       "</div>"
      ],
      "text/plain": [
       "                                              review sentiment  label  \\\n",
       "0  One of the other reviewers has mentioned that ...  positive      1   \n",
       "1  A wonderful little production. <br /><br />The...  positive      1   \n",
       "2  I thought this was a wonderful way to spend ti...  positive      1   \n",
       "3  Basically there's a family where a little boy ...  negative      0   \n",
       "4  Petter Mattei's \"Love in the Time of Money\" is...  positive      1   \n",
       "\n",
       "                                        clean_review  \n",
       "0  one of the other reviewers has mentioned that ...  \n",
       "1  a wonderful little production br br the filmin...  \n",
       "2  i thought this was a wonderful way to spend ti...  \n",
       "3  basically there s a family where a little boy ...  \n",
       "4  petter mattei s love in the time of money is a...  "
      ]
     },
     "execution_count": 20,
     "metadata": {},
     "output_type": "execute_result"
    }
   ],
   "source": [
    "df_train.head()"
   ]
  },
  {
   "cell_type": "code",
   "execution_count": 21,
   "id": "authentic-involvement",
   "metadata": {},
   "outputs": [],
   "source": [
    "df_train = df_train[[\"clean_review\", \"label\"]]"
   ]
  },
  {
   "cell_type": "code",
   "execution_count": 22,
   "id": "foreign-pathology",
   "metadata": {
    "scrolled": true
   },
   "outputs": [
    {
     "data": {
      "text/html": [
       "<div>\n",
       "<style scoped>\n",
       "    .dataframe tbody tr th:only-of-type {\n",
       "        vertical-align: middle;\n",
       "    }\n",
       "\n",
       "    .dataframe tbody tr th {\n",
       "        vertical-align: top;\n",
       "    }\n",
       "\n",
       "    .dataframe thead th {\n",
       "        text-align: right;\n",
       "    }\n",
       "</style>\n",
       "<table border=\"1\" class=\"dataframe\">\n",
       "  <thead>\n",
       "    <tr style=\"text-align: right;\">\n",
       "      <th></th>\n",
       "      <th>clean_review</th>\n",
       "      <th>label</th>\n",
       "    </tr>\n",
       "  </thead>\n",
       "  <tbody>\n",
       "    <tr>\n",
       "      <th>0</th>\n",
       "      <td>one of the other reviewers has mentioned that ...</td>\n",
       "      <td>1</td>\n",
       "    </tr>\n",
       "    <tr>\n",
       "      <th>1</th>\n",
       "      <td>a wonderful little production br br the filmin...</td>\n",
       "      <td>1</td>\n",
       "    </tr>\n",
       "    <tr>\n",
       "      <th>2</th>\n",
       "      <td>i thought this was a wonderful way to spend ti...</td>\n",
       "      <td>1</td>\n",
       "    </tr>\n",
       "    <tr>\n",
       "      <th>3</th>\n",
       "      <td>basically there s a family where a little boy ...</td>\n",
       "      <td>0</td>\n",
       "    </tr>\n",
       "    <tr>\n",
       "      <th>4</th>\n",
       "      <td>petter mattei s love in the time of money is a...</td>\n",
       "      <td>1</td>\n",
       "    </tr>\n",
       "  </tbody>\n",
       "</table>\n",
       "</div>"
      ],
      "text/plain": [
       "                                        clean_review  label\n",
       "0  one of the other reviewers has mentioned that ...      1\n",
       "1  a wonderful little production br br the filmin...      1\n",
       "2  i thought this was a wonderful way to spend ti...      1\n",
       "3  basically there s a family where a little boy ...      0\n",
       "4  petter mattei s love in the time of money is a...      1"
      ]
     },
     "execution_count": 22,
     "metadata": {},
     "output_type": "execute_result"
    }
   ],
   "source": [
    "df_train.head()"
   ]
  },
  {
   "cell_type": "code",
   "execution_count": 23,
   "id": "level-success",
   "metadata": {},
   "outputs": [
    {
     "data": {
      "text/plain": [
       "clean_review    0\n",
       "label           0\n",
       "dtype: int64"
      ]
     },
     "execution_count": 23,
     "metadata": {},
     "output_type": "execute_result"
    }
   ],
   "source": [
    "# check for missing value \n",
    "df_train.isnull().sum()"
   ]
  },
  {
   "cell_type": "code",
   "execution_count": 24,
   "id": "northern-inflation",
   "metadata": {},
   "outputs": [],
   "source": [
    "# drop missing rows\n",
    "# df_train = df_train.dropna()\n",
    "# df_train.isnull().sum()"
   ]
  },
  {
   "cell_type": "code",
   "execution_count": 25,
   "id": "billion-theorem",
   "metadata": {},
   "outputs": [],
   "source": [
    "# convert training dataset into tensorflow dataset format\n",
    "\n",
    "train_dataset = (\n",
    "    tf.data.Dataset.from_tensor_slices(\n",
    "        (\n",
    "            tf.cast(df_train[\"clean_review\"].values, tf.string),\n",
    "            tf.cast(df_train['label'].values, tf.int32)\n",
    "        )\n",
    "    )\n",
    ")\n",
    "\n"
   ]
  },
  {
   "cell_type": "code",
   "execution_count": 26,
   "id": "operating-orchestra",
   "metadata": {},
   "outputs": [
    {
     "data": {
      "text/plain": [
       "<TensorSliceDataset shapes: ((), ()), types: (tf.string, tf.int32)>"
      ]
     },
     "execution_count": 26,
     "metadata": {},
     "output_type": "execute_result"
    }
   ],
   "source": [
    "train_dataset"
   ]
  },
  {
   "cell_type": "code",
   "execution_count": 27,
   "id": "breathing-thriller",
   "metadata": {},
   "outputs": [
    {
     "name": "stdout",
     "output_type": "stream",
     "text": [
      "----------------------------------------------------------------------------------------------------\n",
      "example :  b'one of the other reviewers has mentioned that after watching just 1 oz episode you ll be hooked they are right as this is exactly what happened with me br br the first thing that struck me about oz was its brutality and unflinching scenes of violence which set in right from the word go trust me this is not a show for the faint hearted or timid this show pulls no punches with regards to drugs sex or violence its is hardcore in the classic use of the word br br it is called oz as that is the nickname given to the oswald maximum security state penitentary it focuses mainly on emerald city an experimental section of the prison where all the cells have glass fronts and face inwards so privacy is not high on the agenda em city is home to many aryans muslims gangstas latinos christians italians irish and more so scuffles death stares dodgy dealings and shady agreements are never far away br br i would say the main appeal of the show is due to the fact that it goes where other shows wouldn t dare forget pretty pictures painted for mainstream audiences forget charm forget romance oz doesn t mess around the first episode i ever saw struck me as so nasty it was surreal i couldn t say i was ready for it but as i watched more i developed a taste for oz and got accustomed to the high levels of graphic violence not just violence but injustice crooked guards who ll be sold out for a nickel inmates who ll kill on order and get away with it well mannered middle class inmates being turned into prison bitches due to their lack of street skills or prison experience watching oz you may become comfortable with what is uncomfortable viewing thats if you can get in touch with your darker side'\n",
      "\n",
      "label:  1\n",
      "----------------------------------------------------------------------------------------------------\n",
      "example :  b'a wonderful little production br br the filming technique is very unassuming very old time bbc fashion and gives a comforting and sometimes discomforting sense of realism to the entire piece br br the actors are extremely well chosen michael sheen not only has got all the polari but he has all the voices down pat too you can truly see the seamless editing guided by the references to williams diary entries not only is it well worth the watching but it is a terrificly written and performed piece a masterful production about one of the great master s of comedy and his life br br the realism really comes home with the little things the fantasy of the guard which rather than use the traditional dream techniques remains solid then disappears it plays on our knowledge and our senses particularly with the scenes concerning orton and halliwell and the sets particularly of their flat with halliwell s murals decorating every surface are terribly well done'\n",
      "\n",
      "label:  1\n",
      "----------------------------------------------------------------------------------------------------\n",
      "example :  b'i thought this was a wonderful way to spend time on a too hot summer weekend sitting in the air conditioned theater and watching a light hearted comedy the plot is simplistic but the dialogue is witty and the characters are likable even the well bread suspected serial killer while some may be disappointed when they realize this is not match point 2 risk addiction i thought it was proof that woody allen is still fully in control of the style many of us have grown to love br br this was the most i d laughed at one of woody s comedies in years dare i say a decade while i ve never been impressed with scarlet johanson in this she managed to tone down her sexy image and jumped right into a average but spirited young woman br br this may not be the crown jewel of his career but it was wittier than devil wears prada and more interesting than superman a great comedy to go see with friends'\n",
      "\n",
      "label:  1\n",
      "----------------------------------------------------------------------------------------------------\n",
      "example :  b'basically there s a family where a little boy jake thinks there s a zombie in his closet his parents are fighting all the time br br this movie is slower than a soap opera and suddenly jake decides to become rambo and kill the zombie br br ok first of all when you re going to make a film you must decide if its a thriller or a drama as a drama the movie is watchable parents are divorcing arguing like in real life and then we have jake with his closet which totally ruins all the film i expected to see a boogeyman similar movie and instead i watched a drama with some meaningless thriller spots br br 3 out of 10 just for the well playing parents descent dialogs as for the shots with jake just ignore them'\n",
      "\n",
      "label:  0\n",
      "----------------------------------------------------------------------------------------------------\n",
      "example :  b'petter mattei s love in the time of money is a visually stunning film to watch mr mattei offers us a vivid portrait about human relations this is a movie that seems to be telling us what money power and success do to people in the different situations we encounter br br this being a variation on the arthur schnitzler s play about the same theme the director transfers the action to the present time new york where all these different characters meet and connect each one is connected in one way or another to the next person but no one seems to know the previous point of contact stylishly the film has a sophisticated luxurious look we are taken to see how these people live and the world they live in their own habitat br br the only thing one gets out of all these souls in the picture is the different stages of loneliness each one inhabits a big city is not exactly the best place in which human relations find sincere fulfillment as one discerns is the case with most of the people we encounter br br the acting is good under mr mattei s direction steve buscemi rosario dawson carol kane michael imperioli adrian grenier and the rest of the talented cast make these characters come alive br br we wish mr mattei good luck and await anxiously for his next work'\n",
      "\n",
      "label:  1\n"
     ]
    }
   ],
   "source": [
    "# print first five record from train dataset\n",
    "for example, label in train_dataset.take(5):\n",
    "    print(\"--\"*50)\n",
    "    print(\"example : \", example.numpy())\n",
    "    print()\n",
    "    print(\"label: \", label.numpy())"
   ]
  },
  {
   "cell_type": "code",
   "execution_count": 28,
   "id": "abroad-broadcasting",
   "metadata": {},
   "outputs": [],
   "source": [
    "BUFFER_SIZE = 10000\n",
    "BATCH_SIZE = 64"
   ]
  },
  {
   "cell_type": "code",
   "execution_count": 29,
   "id": "according-official",
   "metadata": {},
   "outputs": [],
   "source": [
    "# create batches of the dataset\n",
    "\n",
    "train_dataset = train_dataset.shuffle(BUFFER_SIZE).batch(BATCH_SIZE).prefetch(tf.data.AUTOTUNE)\n",
    "\n",
    "# now every batch will have 64 samples"
   ]
  },
  {
   "cell_type": "code",
   "execution_count": 30,
   "id": "intelligent-overview",
   "metadata": {},
   "outputs": [
    {
     "name": "stdout",
     "output_type": "stream",
     "text": [
      "example :  [b'i want very much to believe that the above quote specifically the english subtitle translation which was actually written not spoken in a rejection letter a publisher sends to the protagonist was meant to be self referential in a tongue in cheek manner but if so director leos carax apparently neglected to inform the actors of the true nature of the film they are all so dreadfully earnest in their portrayals that i have to conclude carax actually takes himself seriously here or else has so much disdain for everyone especially the viewing audience that he can t be bothered letting anyone in on the joke br br some auteurs are able to get away with making oblique bizarre films because they do so with lan and unique personal style e g david lynch and alejandro jodorowsky others use a subtler approach while still weaving surreal elements into the fabric of the story e g krzysztof kieslowski and david cronenberg s later less bizarre works in pola x carax throws a disjointed mess at the viewer and then dares him to find fault with it well here it is the pacing is erratic and choppy in particular continuity is often dispensed with superfluous characters abound e g the gypsy mother and child most of the performances are overwrought the lighting is often poor particularly in the oft discussed sex scene unconnected scenes are thrust into the film for no discernible reason and the list goes on br br not to be completely negative it should be noted that there were some uplifting exceptions i liked the musical score even the cacophonous industrial techno music being played in the sprawling abandoned complex to which the main characters retreat in the second half of the film perhaps a reference to andy warhol s factory of the 60s much of the photography of the countryside was beautiful an obvious attempt at contrast with the grimy city settings and even well into middle age cathering deneuve shows that she still has it her performance was also the only one among the major characters that didn t sink into bathos br br there was an earlier time when i would regard such films as pola x more charitably experimentation is admirable even when the experiment doesn t work but carax tries nothing new here the film is a pastiche of elements borrowed from countless earlier films and after several decades of movie viewing and literally thousands of films later i simply no longer have the patience for this kind of unoriginal poorly crafted tripe at this early moment in the 21st century one is left asking with the exception of jean pierre jeunet are there any directors in france who know how to make a watchable movie anymore rating 3 10'\n",
      " b'this film plays like a demented episode of vh1 s where are they now or behind the music in the first half of the movie that depict his glory days abbie hoffman is unintentionally portrayed as a sort of delusional rock star you know the kind the poseur lead singer the pretty boy who didn t write any of the music doesn t have a clue but gets all the glory for nothing and chicks for free consequently he takes his success for granted abuses it and ultimately destroys it along with himself indeed hoffman s glory days ended abruptly when he was busted for dealing cocaine skipped bail and went into hiding br br the second part of the movie deals with that time in hiding in it we see hoffman as a pathetic crybaby endlessly blaming everyone anyone but himself for his downfall eventually the times pass him by completely and he can never to come to grips with that how sad the end end credits roll and oh no we learn that abbie hoffman eventually committed suicide in 1989 br br i m sure this is not the image the filmmakers intended for hoffman in making this movie given that tom hayden and gerald lefcourt were involved i m sure they intended this film as some kind of homage to the life of a man who was after all an icon of the 60 s and of the left s anti war movement in this they have failed miserably the film presents abbie hoffman as a mindless caricature we are never told about what drives him how did he arrive at his views how did he manage to capture the imagination of a whole generation how did he organize such a vast movement why at the height of his fame did he get involved in dealing cocaine why who knows and since the filmmakers don t seem to ultimately who cares'\n",
      " b'disney s done it again the company that made mr magoo and george of the jungle has made another movie that barely resembles the cartoon on which it is based and keeps none of the spirit of the original br br inspector gadget was one of my favorite cartoons when i was a young one and for a movie of it to exist may have been a dream come true back then now that that movie does exist i was severely disappointed even outraged br br first we have the characters br br gadget himself has the gadgets that made him such a fun character in the original cartoon with well done special effects accompanying them and he even has some of the naivete of the original gadget but he is now more competent and is expected to solve the crime himself while penny and brain just watch br br penny has little to do while she played a major role in the cartoon discovering the crime and halting it and occasionally getting captured by the mad agents now she is simply introduced and then forgotten although she does at least sneak into claw s base br br claw is the movie s version of dr claw who was a rather sinister raspy voiced man who wore metallic gloves and sat in his chair his face hidden from view as he stroked his cat and oversaw various crimes now he is simply a man with a claw for a hand with no mystery behind the character br br brain and mad cat exist in the movie but are rather insignificant to it br br even small parts of the cartoon aren t spared in this butchering the famous expression wowsers was mysteriously changed to wowser and gadget s gadgetmobile now looks different and talks br br there is even product endorsements everywhere why is yahoo advertised on a sign why does the gadgetmobile have buttons for m m s or skittles br br fans of the cartoon will hate it others might will likely find the movie below par and when all is said and done this movie is another attempt to make some quick bucks off another old show'\n",
      " b'while i have never been a fan of the original scooby doo due to its horrid production values it appears like shakespeare compared to this pile of crap brought to us by hanna barbera without a doubt scrappy doo is about the most annoying and awful character created for children and this includes the teletubbies as well as tommy the tapeworm whose bright idea was it to create some sort of short mutant dog and enable it to speak and then saddle the scooby doo characters with it whoever it is deserves to die or watch this show i think death is preferable the bottom line is that the little dog is simply unfunny annoying and grates on the nerves and this is only in the better episodes after many years it would have been better to just end the franchise than create this mess i can see why in the live action scooby doo movie they made the villain scrappy doo since practically everyone hates him'\n",
      " b'if we really want to get serious and find osama bin laden then we should take this stinker down to gitmo and force the detainees to watch it they ll be singing within minutes of course i m sure that making them watch this god awful dreck violates the geneva convention in several ways br br look my 5 year old daughter isn t allowed to watch tv at home so take her to her grandparents or cousins and she s a little tv zombie she got up and walked away after about ten minutes that s how bad this is br br you know when the person responsible for this garbage was a young writer i bet he or she had dreams of the great american novel now they have to look in the mirror every morning with the realization that they wrote what is possibly the worst hour of television in the history of the medium br br and we wonder why the rest of the world hates us'\n",
      " b'emma thompson alan rickman carla gugino and gil bellows are a delight in this sexy caper this film is smart edge of your seat entertainment for adults and what a relief that is in these days of big concept predictable cartoons great music and camera work add to the fun that is this new orleans set puzzle highly recommended ten stars'\n",
      " b'brief marital infidelity comes back to haunt loving wife grace needham portrayed by the always sexy nastassja kinski br br she had left town and her depressing husband to embark on a trip to sunny miami where she was pursued and ultimately seduced by julian grant a handsomely evil and manipulative business executive who is portrayed very well by william baldwin why do all of the baldwin brothers play evil people so damn well br br the seducing of grace took place as the two drank champagne on a deserted beach they reached privately by sailboat grace admitted she drank too much for her own good and revealed the many problems in her marriage julian gained her confidence by claiming he would never allow those types of problems to occur if he had a relationship with grace julian s manipulation continued as he described a lost at sea fantasy involving the now uninhibited grace who sat near listening to his every word and becoming more and more engaged with his romantic dream br br his manipulation paid off as a few subtle nudges led to grace s soft kisses paused momentarily by her pulling back as if suddenly thinking to herself what am i doing i m a wife i m a mother i have a real life real responsibilities sure the two of us have talked about being together lost at sea but that is just a fantasy look at what we re doing here the consequences are real we re really alone on a secluded beach am i going to let this fantasy really happen br br she succumbs to the dream as her kisses became more passionate the once guarded grace who used to respond to men s propositions by saying i m married enjoyed watching as julian unbuttoned her shirt leading to more kisses body caresses and her climbing onto julian s lap she smiles kisses moans laughs and frequently looks up at the sun throughout what unfortunately was a brief love making scene in which everybody seemed to have most of their clothes on br br while i thoroughly enjoyed the look of illicit passion on grace s face as the once devoted wife was being thoroughly satisfied by having sex with a man that clearly enjoys manipulating others i will say that on the whole the scene was undeserving of the movie s r rating br br julian returned home to find her husband rejuvenated from his securing of a high paying job and she is excited about being able to return to a normal life where she can once again be a loving wife and caring mother br br but the evil julian grant reenters the picture and is not willing to give up so easily on grace grace has a plan to rid her life of julian but will it work br br obviously i don t want to ruin the remaining story line for you however i will say that i always enjoy movies involving sexual pretense by a wife especially when she exhibits uninhibited attraction and behavior that is normally reserved for her husband but in actuality is seeking revenge against the antagonist this movie would have been much much better if the movie had included more of that in the story line my feelings are if the movie brings it up then the movie should finish it and this movie definitely brought it up unfortunately certain constraints in the story line prevented this from being significantly pursued there are many other movies available that succeed with that very point and i ll include their titles in the recommendations portion of this section i m also open to receiving emailed suggestions of other movies that contain a good story line involving sexual pretense on the part of a seemingly devoted wife br br overall nastassja kinski and william baldwin are both very good the movie is not'\n",
      " b'cosby in my opinion is a must see cbs hit i m not sure if i ve never seen every episode but i still enjoyed it it s hard to say which one is my favorite also i really loved the theme song if you ask me even though i liked everyone it would have been nice if madeline kahn hadn t passed away during the show s run since that happened i ve always wondered what the show would have been like everyone always gave a good performance the production design was spectacular the costumes were well designed and the writing was always very strong in conclusion even though it can be seen on tbs now i strongly recommend you catch it just in case it goes off the air for good'\n",
      " b'a wildly uneven film where the major problem is the uneasy mix of comedy and thriller to me the unusual premise is clearly a comedic one and they should have gone for an all out comedy for example rock has some funny lines but occasionally he is too unlikable for a comedy the scene where betty s husband gets scalped is too nasty for what should have been a less violent comedy an even better example is the hollywood leftist writer preaching to us tritely through freeman s character early on about the plight of the indians i mean yawn they should have given freeman something funny to say in that segment but that is of course much more difficult than to simply write him a boring pc speech br br there is yet more new age pc ness in the form of the ending the girl not only doesn t get the boy she gets no boy at all in fact the message is that the girl needs no boy at all bit of a feminist statement there the first half hour is weak but the movie gets better ironically once zellweger gets to kinnear i say ironically because i m not much of a fan of kinnear s though he s solid here zellweger is very cute as usual she has the sort of all american cute looks which should appeal to almost every guy and i have to wonder why more of such women aren t represented nowadays instead of the dogs who inexplicably became stars such as diaz roberts aniston lopez or barrymore br br since the movie tries to be very serious at times i have no choice but to criticize freeman s character which is the gangster s equivalent of the movie world s hooker with the heart of gold there is also absolutely nothing in the relationship between freeman and rock to suggest even remotely that they were father and son'\n",
      " b'this is a truly magnificent and heartwrenching film ripstein s locations are spectacular extremely detailed and well lit the dialogue is extraordinarily garc a m rquez no doubt about it fernando luj n and marisa paredes give us outstanding performances as the colonel and his wife br br you must see it'\n",
      " b'excellent writing and wild cast the tech is poor but it s obviously very low budget looks like they didn t cut the negative but had to release on a video output in any case one of the most inventive comedies i ve seen lately the screenwriter in particular is fine'\n",
      " b'surely no saturday morning tv kids show was ever done this poorly after all those producers had to count on the audience coming back well in this awful offering they could at least count the money they saved on sets the script could have been a reject from some long forgotten space opera serial with a few smarmy lines added for cool dude gerald mohr to murmur to naura hayden no director could have done anything decent with such a loony storyline so the action just plods boringly along the spaceship props are absurd a bulova wall clock and portable typewriter for example but the planet sets have got to be some of the worst in cinematic history most are crude drawings and it s all bathed in an often misfocused red light even mohr s bare hairy chest is used as a prop and it s a bad one as rib thin as the plot any viewer who can make it to the end of this movie will hear a message from the martians and will probably agree completely'\n",
      " b'that might be a bit harsh for me saying that but sadly so far in his directing career its true just have a look at what he as done so far they barely make it past the 3 star mark br br why did i watch this movie 2 reasons lucy lawless and heroes star greg grunberg lucy was outstanding in this movie her performance carries the whole movie i do hope she gets a blockbuster and breaks into the bigger league of actors she clearly has the skills greg was not so impressive typical tv acting style br br the movie is oddly categorized as a horror the only horror is short flashbacks and they last a max of 2 5 seconds with a little blood in them i personally would call this more a drama thriller br br but no matter how interesting the story actually is bad directing editing and acting appart from lucy destroys it you get no real connection to the actors something which is very important in a story like this one you just sit there watching feeling nothing its like watching a bad tv soap actually i think the tv soap would be more interesting br br my advice stay away from this movie or better yet just stay away from anything michael hurst is involved with'\n",
      " b'the d i 4 outta 5 stars wow i certainly did not expect to be enjoying this movie as much as i did i had never even heard of it until i saw it sitting in the discount video bin one day i figured jack webb playing an army drill instructor might be good for a chuckle but figured the drama would pale in comparison to such recent movie d i s as portrayed in full metal jacket or an officer and a gentleman boy was i wrong this is probably the best work webb has ever done far and away better than his one note dragnet performances the delivery of his tough guy dialogue is just brilliant done in his patented deadpan monotone and yet you know that the guy means every word of it the story might seem a little hokey compared to the grittier military movies that have followed but i still found the movie fascinating and compelling even a completely unnecessarily musical interlude in an army nightclub had me hooked anyone know where i can get a copy of that terrific ray coniff song if n you don t somebody else will webb plays the toughest dang drill instructor ever and he s under pressure to kick out the deadbeat private owen but by golly he sees a man buried somewhere in that sissyboy and he s gonna drag him out kicking and screaming great stuff'\n",
      " b'this movie is based on the true story of iowa housewife lucille fray who got breast cancer after the birth of her 10th child realizing that the state would take the children away from her ineffectual alcoholic husband she devoted the last year of her life traveling around the state to find new homes for each of the children a terrific script which still holds up 20 years after it was first made the grown children many of whom had not seen each other since their mother died in the late 50 s were reunited on that s incredible prior to the film s airing in 1983 barbara stanwyck won the emmy for best actress in a tv movie or mini series but during her acceptance speech she went out of her way to single ann margret out for her moving performance'\n",
      " b'i was expecting a very funny movie instead i got a movie with a few funny jokes and many that just didn t work i didn t like the idea of bringing in sherlock holmes and moriarty s descendants it was confusing it would have been more funny if they just had someone new instead of moriarty resurrected some of the things were funny burt kwouk was very funny as always mccloud on the horse was funny the mcgarrett from hawaii 5 0 was not even mcgarrett like connie booth obviously is very good with accents she is from indiana but played english and a new yorker pretty well unfortunately she was not presented much into the script i was expecting a more funny film instead i got a rather confusing movie with a poor script rather ironic since both booth and cleese were together on this one maybe they were about to break up in 77'\n",
      " b'when i was a younger oh about 2 i watched barney for the first time and liked it but back then i didn t exactly have a brain either and now i look back and see what a horrible show barney really is first of all everything on that show is creepy barney the main character is a horrendous 9 foot tall talking purple dinosaur that teaches 13 year olds about imagination shudders b j i know what your thinking about his name is a smaller yet creepier yellow dinosaur that is put in to be supposudly cool but in fact he is the exact opposite after watching a few episodes with b j dumbly trudging in with his slightly turned back cap and making a few no so funny jokes i wanted to scream baby bop oh oh god vomits oh oh oh anyway baby bop is the worst idea of a character ever she is a green triceratops it s a dinosaur that carries a yellow blanket her remarks of hee hee hee and barney s praises cries of super deeee doooper make it hard to sit through each episode as the seventh graders learn about shapes and manners br br and that my friend is what makes this show truly horrible'\n",
      " b'i saw this movie for the first time just a short while ago if you ask me it does not get the credit it deserves it is a little like american pie meets fast times at ridgemont high but with more depth it handles the same issues as both movies but in a way that holds with it some grain of truth the ending is sad but that is how life is i think everyone should see it i have it on dvd form and it took such a long time to find it too that should say something heh and another thing i will add is that it is quite difficult finding the soundtrack i believe they stopped it but the soundtrack to this movie is amazing it has songs by artists like the commodores u2 devo reo speedwagon the cars kc and the sunshine band and many more'\n",
      " b'a clever and bizarre angle to beauty is in the eye of the beholder at times you think this is campy and over the top but the underlying poetic soul comes across strong and believable thanks to the performances of the two leads one worth tracking down'\n",
      " b'infamous horror films seldom measure up the hype that surrounds them and i have yet to come across a worse offender than wes craven s the hills have eyes having held back from watching this for years i was really pleased when i got it for christmas and waited for an evening when my girlfriend was out to settle down and watch it knowing her extreme dislike for anything genuinely horrifying i needn t have bothered br br after a promising if familiar start that firmly sets the film in the desolution usa world of survival horror things rapidly go to pieces when the protagonists and antagonists meet in the deserted wasteland br br looking like it was shot on a budget of 5 with the cannibal clan s costumes hired from a dodgy fancy dress shop that specialises in faux caveman and red indian attire the story follows an annoying bunch of unsympathetic wasps who take a detour on a road trip to california to look for a silver mine in a nuclear testing zone when they break down they are set upon by the local family of flesh eaters and have to fight to survive br br while hoping for another deliverance texas chainsaw massacre wrong turn or devil s rejects i actually realised i d stumbled across something that should have remained dusty and unwatched in a backstreet video store s bargain bin br br with gallons of tomato ketchup for blood and a couple of gruesome wound close ups i can kind of see how an 18 certificate in the uk is justified but with those close ups trimmed this wouldn t have looked out of place as a saturday afternoon thriller on itv br br the whole silver mine nuclear test site subplot is just a mcguffin to justify pitching the civilised family against the primitives but given how easily the savages get their asses whupped it stretches credibility to think that they had survived for a generation preying on passers by br br and then there s the ending or lack thereof the hills have eyes seems to be missing either a third act or at the very least a satisfying denouement instead i was just left wondering yeah and'\n",
      " b'it s difficult to know where this adaptation starts going wrong because i think the problem begins with the books themselves alexander mccall smith has worked out that you read them not for the detective stories but for his deeply condescending and completely spurious vision of an africa that does not exist he s done for botswana what borat did for kazakhstan not as successfully but based in as much fact br br once i realised this it ceased to gall me that jill scott an american singer actress is cast as mma ramotswe if she is to represent a land that is not africa how appropriate that she is a black woman who is not african she s not the only american on the cast mma makutsi is played by anika noni rose both women are far far too young for the roles they re playing and far too glamorous both brutally murder the local accents and both focus so entirely on this brutality that they fail to offer much in the way of acting scott s mma ramotswe is bouncy cute and soft rose s mma makutsi is an annoying motor mouthed bitch br br the result is almost unwatchable the principal cast is redeemed only by the presence of lucian msamati who turns in a decent performance as mr jlb matekoni hes comes off smarter and more intense than in the books but i find myself unable to blame msamati for this he s a shining light in an ocean of suckage the contradictions between his performance and the books are clearly laid at the feet of whichever committee of butchers wrote the script br br to me mccall smith s writing has always been highly entertaining yet notoriously bad he refuses to be edited as a result his books contain experiments in grammar that border on the scientific and characters that change name mid sentence it is therefore something of an achievement that the writing team on this project actually made it worse br br the dialogue is now largely anglicised characters speak of opening up and sensitivity to needs mma ramotswe and mr jlb matekoni flirt openly mma makutsi moans about not having a computer but given her constantly restyled hair makeup and jewellery i m surprised she doesn t have a macbook in her handbag along with her visa card br br so what are we left with here it s difficult to be upset with this crappy adaptation because honestly most of the things i like about the original books are apocryphal anyway mccall smith paints a fictional botswana populated with cute non threatening black people who are full of amusing and palatable wisdom nuggets it reads well despite linguistic travesty but it is a vision of how a certain type of white person wishes black people were it just isn t true br br given that it s hardly surprising that this show sucks as much as it does it remains to be seen whether european and american audiences will even notice however'\n",
      " b'if the caper genre owes a lot to walter huston it also has a debt of gratitude to jules dassin a man that was ahead of his times and who suffered a lot because of his blacklisting when edward dmytryk accused him of being a communist the end of his american career would have meant the end of mr dassin but moving to europe proved he was bigger than the same people that had contributed to his hollywood demise br br rififi is an elegant film in which all the right elements come together thanks to mr dassin s vision he decided to adapt auguste le breton s novel because he saw the possibilities for turning it into a caper film that became an instant classic jules dassin was penniless in paris when he discovered the city that were going to serve as the background to his film the bad weather paid off for mr dassin as the streets were always wet and not much had to be done to show them that way br br when we first meet tony he is playing cards tony appears to be in bad health he coughs all the time and sweats profusely after losing all his money he goes to see jo the swede who tells him about a possibility for a robbery at maupin webb the fancy jewelry store at a tony section of paris they pass the idea through mario who suggests cesar the milanese an expert safe cracker br br tony who has come out of prison recently learns that mado his former lover is now with grutter a creep that owns a night club upon confronting mado instead of love all he feels is contempt and the meeting ends badly and he throws her out of his place grutter has no love for tony who is his natural enemy because of his connection with mado br br when the day arrives the gang is able to get to the apartment building where on the second floor right above the jewelry store the owner lives but he is away everything goes well and the gang gets away with the jewels cesar the milanese a typical ladies man takes a ring as a souvenir which in turn he gives the chanteuse at the grutter s night club this tactical mistake is the spark which unravels the well thought plan br br jean servais made an excellent tony he showed a tired man who was possibly doing his last robbery carl mohner robert manuel and the director jules dassin are seen as jo mario and cesar the quartet jewelry thieves marie sabouret plays mado marcel lupovici plays grutter with a subdued intensity robert hussein who would go to direct movies later on makes an impression with his remi one of grutter s men br br the film best asset is the great camera work by philippe agostini who captured the atmosphere of paris and the locales where all these criminals operate from georges auric s music plays well with the action in the film jules dassin was peculiar in his choice of films that he directed and unfortunately that is our loss because this man was a genius as proved mainly with the naked city night and the city and rififi'\n",
      " b'let me get this straight the church has a safety lock down mechanism to keep the spirits from leaving but the ultimate solution is bringing it to the ground lofl maybe i m missing the plot maybe this guy is from the ed wood school of film making or something this movie is about as useless as the church itself hey maybe that s the point that whole rosemary s baby esq segment was hilarity i can go to my corner halloween costume shop and get better drag than that the entire film needs to be remade properly there were so many things that were played down so many things that could have made me jump out of my seat and through the ceiling i m not sure if the fault lies with the writing or editing but what i saw should not have this high of a rating'\n",
      " b'having watched the first scene i realized the acting was so bad that it couldn t possibly pick up later superficial and artificial with frequent attempts to look professional through references to technology the way a five year old tries to make it sound as if he knows what he s talking about br br the second to second storyline is completely unrealistic and just about every single decision the screenwriter did was the kind you expect from a below average grade school student the overall storyline was as unoriginal and predictable as a pack of sausages the few attempts to make the dialogs sound intelligent was limited to neurotic apologetic behavior a ten year old might like it but it would take a five year old to accept the lack of realism how does advanced cell function allow someone to bypass a code lock by touching it as if with a magic wand pick out one out of 100s of voices through a ventilation system thereby ripping off superman and repair a home computer by just sensing whats wrong instead of looking for faults actually that scene is a neat example the fault was that one of the cooling pipes aluminum ribbons on the cpu was broken the way it would look if a exhaust pipe on a v8 engine is ripped off by an explosion this is something that can t happen and if it did it wouldn t prevent the computer from working there is no electrical current passing through this ribbon but when he without doing it himself his arms worked by autopilot because the cells in his body was super efficient put a push pin into the rip a desktop with icons appeared on the screen immediately without booting br br and so it goes all the way like when he escaped an interrogation room in the nsa headquarters by lighting a lighter below a fire sensor resulting in open doors throughout the building naturally nsa didn t predict this sharp witted approach to escaping nor did they put any guards outside his room or anywhere else to guard a living walking breakthrough in military nanotechnology so he walked out and got a cab examples like this one are not only numerous there is in fact just about no single scene that makes sense br br also the so called great effects were terrible he threw a basketball back to a kid in the park and the kid was thrown back horizontally 20 feet into a tree no acceleration or deceleration but constant speed and height like a motorized trolley i m sure if i paused and looked for the cables that kept the posture of this kid the way only cables can they probably didn t know how to or bother to erase them completely if someone is thrown that far into a tree they would at least say ouch or rather be hospitalized with broken bones but the kid was just just confused and amazed br br moronic that s the word for every creative decision made throughout the entire production i m going to put the director s name on my own personal blacklist someone as poorly skilled as him cannot improve i feel like demanding compensation for having wasted 45 minutes of my life for watching it and the time it took to write this although it felt therapeutic it was traumatic to realize how little it takes to get a pilot approved the only excuse a slightly intelligent person could have to watch this voluntarily would be imprisonment or lobotomy'\n",
      " b'oh dear what a disappointment i ve been watching old westerns on british tv for decades and i wasn t aware of this one until its showing yesterday most other scott westerns come around every few years or so and are usually worth watching again br br the rich colour and outdoor sets were good but that s all i can say about this film i have to agree with most of the other negative comments already made several times i felt like turning it off and finally i did halfway through something i hardly ever do br br scott seemed unusually oily in charming the girls his two sidekicks were annoying and so was the mexican bandit lad and i ve a feeling the army uniforms were 20 years or so too modern not that this has bothered makers of many other westerns br br perhaps it got better in the second half but i couldn t be bothered to wait and see'\n",
      " b'in retrospect the 1970s was a golden era for the american cinema as demonstrated and explored by this documentary directed by ted demme and richard lagravenese this ifc effort serves to illustrate and clarify the main idea of what that time meant for the careers of these illustrious people seen in the documentary br br the amazing body of work that remains is a legacy to all the people involved in the art of making movies in that period the decade was marked by the end of the viet nam war and the turbulent finale of those years of jimmy carter s presidency br br one thing comes out clear films today don t measure against the movies that came out during that creative decade because the industry as a whole has changed dramatically the big studios nowadays want to go to tame pictures that will be instant hits without any consideration to content or integrity as long as the bottom line shows millions of dollars in revenues br br the other thing that emerges after hearing some of america s best creative minds speak is the importance of the independent film spirit because it is about the only thing that afford its creators great moral and artistic rewards br br this documentary is a must see for all movie fans'\n",
      " b'while it was filmed at a florida national guard site tigerland totally reminded me of fort polk la firing ranges maneuver areas waist deep water and all the movie was fairly authentic and the characters similar to those same ones at my ait in 1974 the difference between the tigerland year 1971 and mine of 1974 is all the drill sergeants and instructors knew they weren t going back to vietnam as it was pretty much all over so training was very relaxed not a challenge at all that was the precursor to all our troubles in the 70s and 80s which i know for a fact as i stayed in until 2004 i never heard anyone mention tigerland but the army did have realistic vietnam training villages at different bases across the u s vietnam vets tell me that up to 1972 basic ait could be pretty rough and rugged because the trainers had been there and were mandated to train vietnam bound men those skills to make it although that was not always the case both a drill sergeant at polk and later one of my vietnam vet ncos when we had become instructors at a basic training brigade at fort bliss told me there was nothing they could do to get anyone ready and people just had to find out and figure out for themselves this movie rates high'\n",
      " b'when i bought 4 dvds for 5 oo in a local shop it should have been warning enough that this movie was not up to the usual standard of david selznick productions with a cast containing such names as james stewart and carole lombard i was looking forward to a real treat as many other commentators have said it is an odd mixture of plot and scenes that doesn t quite convince however i am so glad that i did view this film as i now have the memorable saying never let the seeds stop you from enjoying the watermelon to live by this should sum up everyone s life pick out those seeds or spit them out or swallow them and then enjoy the watermelon life itself'\n",
      " b'this is a top car flick its a work of art yer a work of art all classic cars no plastic fantastic i have watched it over over again i have worn out two video tapes and will wear out lots more lots more car lovers young or old will love this film watch it more than 1 time so hire it or buy it just see it i wish they would make more car movies like this v8 power not gassed up little whipper snippers br br shes a 351 right motor magic the heap the chariot br br you ve got to learn to feel the power'\n",
      " b'this movie has to be the worst film i have seen there is a reason it was made to be a mow movie of the week the continuity was all wrong palm trees in a chicago setting even though it was filmed in toronto canada the effects were left to be desired for the year of 2004 hello lord of the rings had better cgi than that but i guess they also had the money for it the budget will for sure affect the outcome but anyone that calls this mow more than a 2 needs to go back to film and tv school next time remember that care and time make a classic not rushing for a tornado box office or tv smash hit br br also i know networks can reuse footage from old networks or affiliates but using 80 s footage for 2004 i have a hard time buying that'\n",
      " b'any movie that has a line of dialogue that goes something like this judy s getting ready for her date butthole has to be good i found this on dvd unrated unedited and was pleasantly surprised a lot of hard work was put into making this movie i actually enjoyed this more that a lot of 80s movies i have seen great addition to my movie collection br br the buildup was great sets up the scares for the rest of the movie loved the gore and the t a i never thought eyeballs being gouged out would look like popping boils the color of the eye splatter was gross i keep thinking that rog looked like tiger woods but more black anyone agree'\n",
      " b'while i had wanted to se this film since the first time i watched the trailer i was in for a deep surprise with this film while some of the elements and actions of the characters seemed a little too cartoonish the dark nature of the film really makes this a much different experience instead of the feel good happy story this film takes you in another direction that proves to be uplifting but also disturbing most kids won t understand some of the darker moments in the film which makes this film rather watchable for adults i was also impressed with the cinematography using animation and digital animation to create a seamless network of pans and tilts the musical score was once again solid proving hans zimmer is the go to guy when it comes to animated scores and i never thought i would say i actually enjoyed brian adams music'\n",
      " b'not only was he invariably annoying to listen to but he had no jokes i swear some fobby asian guy telling yo momma jokes would ve been funnier than leary s crap well maybe funny for a couple minutes but at least i ll be able to laugh at least once leary claimed he stopped taking drugs during one of his jokes apparently he was still high on something he was just some crackhead imprecating rants mostly drug related one of his jokes was something like i wouldn t use crack especially having the same name as between my ass oh man how did he come up with that one i swear the only guy that needs to shut the f k up is denis leary thank god i didn t have to see him live this guy totally sucks br br if you re easily amused by swearing and jokes where you can come up with yourself then waste your time with this junk'\n",
      " b'the above profile was written by me when i used the nick of oldwerewolf56 which is still my email address i still believe andy devine s character of frisky is the best twilight zone s episodes ever and i watch this episode at least once a year as i consider frisby to be a fortunate man as he has many friends who love him dearly br br in case many of you are too young to remember i m 61 andy devine hosted a children s entertainment show in the 50 s i believe called andy s gang on it he had three assistants a cat named midnight who played the violin a mouse named squeaky who played an a hand organ and a devilish toad named froggy who s could appear and disappear at will embarrassing many of andy s funny guest stars like billy gilbert'\n",
      " b'contains spoilers br br the truly exquisite sean young who in some scenes with her hair poofed up looks something like elizabeth taylor is striking in her opening moments in this film sitting in the back of a police car waiting to signal a bust her face and body are tense and distracted unfortunately once the bust is over young s strained demeanor never changes this is one fatally inhibited actress br br one has only to compare young to the performer playing her coworker and best friend arnetia walker to grasp what is missing in young walker is open emotional and at ease at all times in that there s no apparent barrier between what she may be feeling and her expression of it she is an open book young on the other hand acts in the skittish self conscious way you might expect your neighbor to act were they suddenly thrown into starring in a film basically she doesn t have a clue br br with this major void looming at the center of the movie we re left to ponder the implausiblities of the story for instance after miss young is kidnapped by the criminal she s trailing and locked in a closet she breaks the door down when left alone granted she s dressed only in a bra and panties but in a similar situation with a psycho captor due to return any moment would you head for the door or take the time to go through his dresser take out some clothes and get dressed i would guess that this and other scenes are trying to suggest some sort of mixed emotions miss young s character is experiencing but young can not convey this type of complexity br br there are a few affecting moments in the film such as the short police interviews with the criminal s past victims but overall this is an aimless endeavor it s too bad miss young was replaced while filming the pair of comic book style films that might have exploited her limitations with some humor batman and dick tracy because her floundering while attempting to play actual people is oddly touching watching miss young try to act at least in this thriller is a sad spectacle'\n",
      " b'i am a jane eyre lover and a purist and this version includes almost all of the important details of the book and the characters are portrayed as i imagined them jane eyre is a complex story of great richness and can t be delivered properly in a feature length format so it needs a tv mini series timothy dalton s rochester is probably the best ever there has been a lot of discussion about how attractive he is and his age in the book jane the narrator describes him as about 35 and not young but not yet middle aged i think timothy dalton was about 38 when he made this so that is about right also we only have jane s opinion of whether rochester is handsome she only just met him and he asks her bluntly what she thinks as an inexperienced and humble girl i can t imagine her saying she did think him handsome the actor playing rochester needs to show us the character of the man and this is fulfilled to perfection i love the relationship between the two leads which is the crucial thing about this story and the humour of their encounters other versions have blown it but this gets it right the 2006 version with toby stephens aged 37 years is in progress on bbc1 and is very good indeed so i will decide whether that is my favourite when it is completed br br on viewing this series again after watching the 2006 version i have decided that this version with timothy dalton and zelah clark is the best charlotte bronte s dialogue is preserved and this is essential to the power of the story modernisation just doesn t work it s a victorian story and having archaic poetic speech suits the characters this version has an excellent cast zelah clark is tiny and the difference in height between her and rochester is important timothy dalton has real presence and is an amazing actor there are no extra scenes to divert from the plot and the screenplay includes all the essential scenes but leaves out unnecessary details making it to the point and gripping i recommend it to all true jane eyre fans'\n",
      " b'i loved this show i was waiting for it to come out on dvd it never has does anyone know how to get the show available on dvd i have contacted lifetime tv and a few others and nothing please let me know if there is a way we can have this series on dvd iwould be first in line to purchase it i really got hooked on this show i do not understand how a bunch of other tv shows are available on dvd but not any day now i am sure there are many of us out there who would love to have this series on dvd or even vhs i thought of contacting the production company has anyone else out there tried to contact anyone for this information'\n",
      " b'i bought jack o a number of months ago at a blockbuster video sale and at the time i wasn t expecting anything outstanding from it upon watching it i realized i not only got less than i could have ever bargained for but a whole lot more as well it seems strange i know and it is but it s perfectly fitting when you consider that the utter weirdness that is jack o br br the movie follows a young boy named shawn kelly somehow thru ancestral ties he is marked for death at the hands of a demented scythe wielding pumpkin man this pumpkin man was killed by shawn s great grandfather uncle cousin etc and now that the villain has been resurrected shawn s death is apparently crucial to his hell bred mission of vengeance anyway much horror ensues as jack o hacks his way thru various neighbors before battling shawn to the finish br br i m not so much here to discuss the plot as i am to determine who may find any worth in this movie i can honestly tell you that jack o is one of the most poorly made movies in the history of time the acting is deadpan except when it should be the script is apparently a 1st grade group project and the production budget must not have exceeded 150 some of the most laughable death scenes are carried out in this anti thriller and they re all the more humorous when you realize director steve latshaw actually seems serious in his movie making br br and yet i heartily enjoyed the film i can call it a terrible horror movie yes but i can also say i had a great time watching it with my friends and have watched it several times since that fateful first viewing many people including some of my friends will find this movie intolerable and needlessly time consuming and that s understandable if you re like me and enjoy ridiculously bad horror movies that take themselves seriously you ll find jack o an instant classic which is also understandable br br that s why it s so hard to rate this movie if i were rating jack o s quality as a film i wouldn t give it anything in fact the studio would owe me stars yet if i were rating it s on the basis of pure enjoyment i d give it an 8 or a 9 i ll give it a 4 so to be somewhere in the middle i recommend everyone go out rent this and form their own conclusion'\n",
      " b'so well made no cgi crap has anyone else been on the jumping crocs tour of darwin s adelaide river before black water was way realistic rogue was a bit cringeworthy br br thought the blonde chick was excellent in it haven t really seen her before and the other chick is a babe she is always excellent br br v suspenseful i would compare it to jaws over any other man eating animal flick br br got the hole aussie thing down pat without going ott with struths and crikeys as well br br loved it'\n",
      " b'john boorman s 1998 the general was hailed as a major comeback though it s hard to see why on the evidence of the film itself one of three films made that year about famed northern irish criminal martin cahill alongside ordinary decent criminal and vicious circles it has an abundance of incident and style the film was shot in colour but released in b w scope in some territories but makes absolutely no impact and just goes on forever with a main character who threatens witnesses car bombs doctors causes a hundred people to lose their jobs tries to buy off the sexually abused daughter of one of his gang to keep out of jail and nails one of his own to a snooker table yet still remains a popular local legend an attractive enough personality for his wife to not only approve but actually suggest a m nage a trios with her sister it needs a charismatic central performance to sell the character and the film it doesn t get it instead it s lumbered with what may well be brendan gleeson s worst and most disinterested performance he delivers his lines and stands in the right place but there s nothing to suggest either a local hero or the inner workings of a complex character on the plus side this helps not to overglamorize a character who is nothing more than an egotistical thug but it s at odds with a script that seems to be expecting us to love him and his antics br br there s a minor section that picks up interest when the ira whips up a local hate campaign against the general and his men painting them as anti social drug dealers purely because cahill won t share his loot from a robbery with them but its temporary resolution is so vaguely shot something to do with cahill donning a balaclava and joining the protesters which we re expected to find lovably cheeky that it s just thrown away things are more successful in the last third as the pressure mounts and his army falls apart but by then it s too late to really care adrian dunbar maria doyle kennedy and the gorgeous angeline ball do good work in adoring supporting roles but jon voight s hammy garda beat cop seems to be there more for american sales than moral balance overcompensating for gleeson s comatose non involvement in what feels like a total misfire come back zardoz all is forgiven'\n",
      " b'i really enjoyed this movie the acting by the adult actors was great although i did find the main kid a little stiff but he carried himself very well for being a new talent the humor is very sublime and not in your face like most hollywood comedy junk i e the nutty professor if you have a short attention span and are used to the typical hollywood stuff you probably wouldn t like this as it is a bit slower paced i picked it up on blu ray and i have to say the image quality is top notch probably one of the better looking blu rays i ve seen so far the extras were cool too they deleted quite a bit but that s probably a good thing as most of the deleted scenes didn t really add anything'\n",
      " b'from the opening scene aboard a crowded train where a ruthless pickpocket is at work richard widmark stealing from a woman s purse jean peters pickup on south street is relentlessly fascinating to watch partly it s because the acting is uniformly strong from the entire cast the b w photography is crisp and adds to the starkness of the story and characters and because samuel fuller s direction puts him in the same league with the biggies like john asphalt jungle huston in fact it has the same urgency as the huston film about a heist that goes wrong but the payoff is not quite as strong br br jean peters is excellent as the hard edged girl whom widmark describes as being knocked around a lot she gives a lot of raw energy and sex appeal to her role of the not too bright woman carrying a micro film in her purse for her boyfriend richard kiley something the fbi already knows about they re on her trail when the theft occurs br br thelma ritter adds realism to her portrait of a woman called moe who buys and sells anything to make a profit and ends up paying for it with her life she s particularly touching in her final scene with kiley br br this one is guaranteed to hold your attention through its one hour and twenty minute running time good noir from fox and notable for the performances of widmark peters and ritter'\n",
      " b'i grew up in royersford pa the town where jerry s market was i remember my whole family going out to watch the filming i remember a guy showing the blob to me and my brothers in a bucket i also would like to share that my mother was in the movie her hair style was the same as aneta corsaut s and she was ill one evening and they saw my mom and asked her to sit in the car with steve mcqueen for some shots from behind they payed her 25 00 and gave her a story to tell until she passed away this past august my mom was not a teenager and she was a few months from giving birth to my little sister'\n",
      " b'one of our all time family favorites when we need a laugh we just put this one in and laugh all way thru like it is the first time we ve seen it this film has good clean family humor pauly shore is brilliant with no plans for the thanksgiving holiday crawl shore is invited to spend the holiday with a conservative coed becca crawl being a big city boy must adjust to the farm life if he is to fall in love with becca but crawl isn t the only one who is learning new things crawl teaches becca and her parents how to be more open about their feelings and accepting others this is fun for viewers of all ages'\n",
      " b'being a high school student i have to take a health class this year the topic is drugs we learn about the harm they can cause a person from what we talk about i still believe and know that drugs can really mess a person up anyway my teacher wanted us to watch this naturally we groan and start to sleep but like the rest of my class i actually did enjoy this movie it was totally real and not sugar coated at all the characters were amazing and believable even the plot was outstandingly realistic and believable what i liked about this movie mainly was how it got the point of the effect s drugs can take on an abuser and the consequences the person has to deal with everyone reassures themselves that nothing bad will happen to them well lets get serious anything can happen in a small town even to your best friend like sam and chris this movie shows it a person can really learn a lot from watching this it was pretty effective'\n",
      " b'having read all of sarah waters books i was eagerly looking forward to a bbc adaptation of fingersmith especially since tipping the velvet had been done so well by old familiar andrew davies br br i was not disappointed with the results in fact i think this might be on a par with ttv both romantic and entertaining and not as so many ignorant people would have you believe a pointless lesbian romp having been a fan of elaine cassidy s since seeing her guileless turn in felicia s journey i thought she embodied both hard deception and a growing fragility as maud her transformation was believable and impressive to watch i recognised sally hawkins as zena blake from tipping the velvet a small role primarily so i didn t have as many expectations but she was astounding in the role of sue trinder her eyes were mesmerising conveying everything from rage to absolute despair the two of them acting together combining these talents made this drama unmissable of course imelda staunton was amazing as usual she is unmistakably a national treasure and the supporting cast were all of a high standard even the direction from the fairly unknown aisling walsh used contrasting yet beautiful shades of blue for briar and brown for london br br however as much praise must be given to ransley the script writer to turn a 600 page book where every line is of the highest quality into a three hour extravaganza is a huge feat he illuminated the main revelations at a steady pace whilst giving us plenty of back story and character development at the same time he has my full admiration br br in conclusion a brilliant adaptation where all involved gave 100 and making this one of the best bbc dramas i ve seen'\n",
      " b'this film contain far too much meaningless violence too much shooting and blood the acting seems very unrealistic and is generally poor the only reason to see this film is if you like very old cars'\n",
      " b'karen and her boyfriend jerry move into their new los angeles apartment they discover an old brass bed that karen takes a liking to unfortunately it has a really sinister history involving kinky sex murders deathbed tries to be a creepy supernatural tale but fails miserably the action is slow the acting is nothing special and there is no suspense whatsoever even the sex scenes are lame the climax is pretty gory and violent so fans of splatter should be pleased however the first hour of deathbed is deadly dull and offers some tired horror movie conventions and cheap scares definitely one to avoid my rating 4 out of 10 and that s being generous watch re animator or castle freak instead'\n",
      " b'this is a really fun breezy light hearted romantic comedy you cannot go wrong with meg ryan s cute perkiness combined with albert einstein s genius normally i m not a fan of completely fabricated fictional tales about actual people now deceased and not able to defend themselves but i think the late einstein might himself have gotten a chuckle out of this one br br it s the 1950 s princeton new jersey in the spring the story revolves around a pretty young scatter brained mathematician catherine meg ryan who is all set to marry a stuffy jerk a behavioral researcher named james merely because he has the brains she s looking for in the father of her future children however it s love at first sight when her car breaks and she meets an auto mechanic named ed tim robbins as she doesn t think ed is intelligent enough her uncle none other than albert einstein plays match maker assisted in his endeavors by three mischievous cronies all theoretical physicists uncle albert must make ed appear suitably smart so concocts a charade portraying him as a physicist naturally with amusing results br br walter matthau is his usual hilarious self and pulls off the character of einstein quite effectively with his three professorial buddies kurt nathan and boris a lot of laughs ensue the real einstein had a genuine human side and this film just takes it one outrageous step further if you suspend all logic you can almost imagine this silly story happening br br it might not be rocket science despite its main character but it is a wonderful sweet refreshing movie one of the best of the comedy romance genre'\n",
      " b'the hindi remake of mrs doubtfire starring and directed by kamal hassan is a somewhat shoddy version and not as good as expected br br kamal hassan clearly struggles with hindi dialogs even after all these years and cannot handle even one scene effortlessly the guy has aged and should give it a rest hassan doesn t bring anything new to the role or to the character as say dustin hoffman does to tootsie or marathi actor macchindranath kambli does to mavshi s aunt s character in moruchi mavshi moru s auntie comedy play br br what was the kid doing playing with firecrackers when it wasn t diwali most of chachi s romantic cross connections vs amrish paresh and then johny walker seem redundant to the main storyline tabu s bathing scene was unnecessary the family is north indian but must be reminded of karva chauth night by a maharashtrian chachi yeah right br br the fine acting skills of not one but four actors namely tabu om puri the late amrish puri and paresh rawal have been wasted in this film br br watch the original mrs doubtfire clean crisp and crackling with fun quite unlike chachi 420'\n",
      " b'the real problem with this story is that there s not much story to the story there s hardly any plot to speak of widower buys an electric grandma for his kids one kid resists electric grandma then finally accepts her then the kids grow up and grandma leaves really very little happens it s much more of a premise than a story br br moreover strip it of it s schmaltz and you have a story that had already done before and better the lonely same basic idea person initially can t accept the love of a robot because it s just a machine then eventually yields and comes to love the robot the biggest difference is that the lonely is much more powerful as both the protagonist and we the audience are shocked abruptly back to reality and forced to remember that in the end the robot really is just a mechanism br br i also find the story highly flawed in that the electric grandmother is just too perfect she s not only human she s super human she s wiser than a real person she has no traces of mechanicalness to her at all and she makes marbles appear out of thin air it frankly really chafes at credulity to think that she s a machine'\n",
      " b'this is a movie about a black man buying a airline company and turning the company into a african centric over the top airliner they even portray the owner as not only being in control of the airline but also controlling part of the air terminal at the airport one day this guy wins 100 million dollars a the next time you see him he is walking all over the airport acting like the owner of the airport everyone calls this movie a parody but nothing about this movie shouts parody this movie is a flop and will forever be in the 4 95 bin at wal mart br br i can t even come to terms to why mgm would waste 16 million dollars on this movie this movie doesn t even warrant straight to video status the writers one black and one white should be blackballed from hollywood forever not only do they over stereotype blacks they portray them as ignorant human beings i would be ashamed of going to a movie that constantly humiliates me don t waste your time at the video store wal mart pay per view or on a sunday afternoon when the movie is shown on tbs'\n",
      " b'watching this i mainly noticed the ad placements dhl aquawhite strips rockstar and more it s one product placement after another it s quite obvious how this movie got its funding jessica simpson s acting is laughable any dick shouldn t ever get work because he plays the same lame character the story is just a backdrop for this very long commercial i can t believe this movie was even considered for theatrical release the longer you watch this movie the more you re embarrassed for everyone involved the only minor saving grace is larry miller and rachael lee cook who gets almost no screen time as jessica s cousin i m embarrassed i watched the whole thing i would recommend avoiding this one'\n",
      " b'it does not surprise me that this short 91 minutes b w movie that was made 50 years ago in the soviet union during the short period called ottepel or the thaw has gained so much love and admiration among the movie lovers over the world it is sublime and beautifully filmed some scenes feel like there were made way ahead of their time sergei urusevsky s camera work and creative discoveries were included in the text books and widely imitated the film tells the moving and timeless story of love destroyed by merciless war but eternally alive in the memory of a young woman it is also the film about loyalty memories ability to live on when it seems there is nothing to live for it is about forgiveness and about hope the film received absolutely deservingly the grand prix at cannes film festival and tatiana samoilova was chosen as a recipient of a special award at cannes for playing veronika the young girl happily in love with the best man in the world in the beginning of the movie after separation with her beloved who went to the front the loss of her family in the bomb ride and the marriage to the man she never loved and only wished he never existed she turned to the shadow of herself she became dead inside her long journey to redemption to finally accepting death of her beloved and to learning how to live with it is a fascinating and heartbreaking one and it simply won t leave any viewer indifferent br br for me the movie is very personal and dear because i was born and grew up in the city where its characters lived and were so happy in the beginning i walked the same streets squares and bridges over the moskva river every family in the former soviet union had lost at least one but often more than one family member to a combat or to the concentration camp or to the ghetto or to hunger cold and illnesses during wwii and my family is not exception my mother and grandmother knew the horrors of war and never healing pain of losses not just from the movies and the books cranes are flying speaks to me clearly and honestly and touches me very deeply it is a masterpiece of movie making but it is a part of my life my background my memory and my past'\n",
      " b'this film has very tight and well planned dialogue acting and choreography br br recommended film for anyone who wants to see masterful writing and plot br br question does anyone know where the house is actually located it is one of the most interesting houses a 19thc windmill'\n",
      " b'this really is a movie that you need to see twice when i first saw this film i was really drawn into the story while the majority of the story takes place inside of a hotel room the stories that buddy nick drake wonderful allusion and daphne share take you outside of their room and into their world through their conversations you get a feel for the loneliness and pain that each feels the soundtrack accompanies the movie perfectly dark lo fi and intriguing when you see the film the second time around you can pick up all of the clues that you missed the first time around leading up to one of the best ending i have seen in a long time i hope to see this movie find a distributor for the dvd so that it will be more accessible great movie you won t be disappointed'\n",
      " b'the sexploitation movie era of the late sixties and early seventies began with the allowance of gratuitous nudity in mainstream films and ended with the legalization of hardcore porn it s peak years were between 1968 and 1972 one of the most loved and talented actresses of the era was monica gayle who had a small but fanatic cult of followers she was actually able to act unlike many who filled the lead roles of these flicks and her subsequent credits proved it and her seemingly deliberate fade into obscurity right when her career was taking off only heightens her mystique br br gary graver the director was also a talent probably too talented for the sexploitation genre and his skill combined with monica gayle s screen presence makes sandra the making of a woman a pleasantly enjoyable experience the film never drags and you won t have your finger pressed on the fast forward button'\n",
      " b'as long as you can suffer it if you like watching people waking up getting up getting dressed having a shower preparing dinner watching each other having sex in the dark then going back to bed to sleep if you like tacky flats narrow bedrooms and kitchens long minutes of silence if you like getting bored for two hours feeling the thrill of real intimate false art then you will like it but if you don t just try to see a good movie there are thousands as long as you are here but do we want to stay this german movie got the award of the torino gay film festival italian journalists still don t understand why the jury took such a bad decision as the festival presented lot of talented movies maybe to be nice with a german as they don t often get awards well the lives of others did but this one is excellent but not gay so maybe it is a question of fashion germans are they in again no matter what or maybe only for a hustler s glance of some directors'\n",
      " b'i ve seen this movie about 6 or 7 times and it truly gets funnier every time perhaps what i enjoy most is the tired character paradigms that the movie offers us the somber all american male protagonist his blonde girlfriend the theater nerd with glasses a brunette girl the antagonistic jock and brunette girl 2 however we re then presented with two magician martial arts experts with mullets driving a convertible if anyone can explain that please contact me among other highlights are bobby johnston s portrayal of the jock character dell and his trademark line that s why i keep her around in watching johnston s performance it comes as no surprise that his career quickly descended into the realm of soft core porn spoiler also after multiple viewings i still have absolutely no idea what that big demon at the end says at any point it s just electronically muffled noises oh well that s probably for the better and lastly why are all the demons so slippery is wet skin scarier it certainly didn t help in this film'\n",
      " b'the beautifully engaging song with the same name as the film won the best song oscar in 1955 br br love is a many splendored thing br br it s the april rose that only grows in the early spring br br love is nature s way of giving a reason to be living br br that golden crown that makes a man a king br br once on a high and windy hill br br in the morning mist two lovers kissed and the world stood still br br then your fingers touched my silent heart and taught it how to sing br br yes true love a many splendored thing br br how can we forget such a beautiful song henry king the director had the privilege to work with jennifer jones twice that year for this film and the greatly under rated film good morning miss dove jones was nominated for splendored thing but she could have been easily nominated for miss dove as well br br william holden is just great as the war correspondent sent to report on the communist revolution in 1949 china his love for jones an oriental doctor was endearing and so memorable to watch br br while the ending is not pleasing this is still one of the greatest romances ever put on the screen'\n",
      " b'as a camera operator i couldn t help but admire the great look that this picture achieved the performances were excellent as was the story just when i thought this film was about to slow down it didn t heart pounding tension great pacing through editing and a score that knows when to be quiet all come together here under competent and capable direction the camera was always in the right place love that'\n",
      " b'i loves this movie because it showed that they were not killing for fun but to save the ones they loved heath ledger and orlando bloom did a great job portraying ned and joe it has a few quick inappropriate scenes but is all right other than that the language is very mild and sometimes don t even know it is there this movie shows that just because they are outlaws does not mean that they are vicious killers i hope that people will watch this movie and learn about important times in history like this one there is one thing that fascinates me about this movie is that they got their inspiration for their armor from a book ned looked at also that that is how people remember them from their armor i hope that people will watch this movie and get interested as i have'\n",
      " b'maybe it s just a personal affection for this screen version of the mika waltari novel or a fondness for things egyptian i grew up loving to visit the mummies in boston s museum of fine arts but i think maltin is a tad tough on this rather good film the production values are great regarding color and cinematography and it appears some effort went into historical authenticity much of it from the novel i m sure purdom is admittedly a bit stiff in the lead role but one can accept this as part of sinuhe s character victor mature is well victor mature peter ustinov is a delight to watch in this type of role which he always did so well and so wittily bella darvi s performance as nefer is classically camp and i find even michael wilding s rather dry portrayal of akenaten to have its own appeal br br the historical oddity of akenaten s monotheism a brief detour in ancient egypt s theological history is interesting as is akenaten himself and well worth reading about the religious wars portrayed here have a basis in fact br br an interesting footnote regarding darvi whose birth name was bayla wegier she was a polish emigre who producer darryl zanuck and his wife violet took under their wing i believe they may even have adopted her her screen name darvi is formed from zannuck s and his wife s first names she continued her acting career in france but never achieved great success and after a rather unhappy life died at her own hand in 1971 br br altogether this is an interesting film and enjoyable to watch for the visual values alone american movie classics shows this occasionally in letterbox which is essential to capturing the scope and sweep of the story'\n",
      " b'i couldn t believe that the adult swim guys came up with this character i laughed for days just thinking about this show having finally seen the pilot i guess i will stick around for a few more episodes assy is pretty funny and the whole crew of police show characters are around but assy is hard to understand and that was a little frustrating most of the humor revolves around the fact that the title character is literally a walking ass with nothing else but legs that sport socks with garters and feet with traditional wing tips assy drinks too much and plays by his own rules as you might have guessed the only other funny moments are assy shooting many many people and spending time at home in the bathroom it is not squidbillies funny but it is worth a look']\n",
      "-----------------------\n",
      "label:  [0 0 0 0 0 1 0 1 0 1 1 0 0 1 1 0 0 1 1 0 0 1 0 0 0 1 1 0 1 0 1 1 0 1 0 1 1\n",
      " 0 1 0 1 1 1 1 1 1 0 0 1 0 0 0 0 1 1 1 1 0 0 1 1 1 1 1]\n",
      "-----------------------\n",
      "total len:  64\n"
     ]
    }
   ],
   "source": [
    "# print first batch from train dataset\n",
    "\n",
    "for example, label in train_dataset.take(1):\n",
    "    print(\"example : \", example.numpy())\n",
    "    print(\"-----------------------\")\n",
    "    print(\"label: \", label.numpy())\n",
    "    print(\"-----------------------\")\n",
    "    print(\"total len: \", len(label.numpy()))"
   ]
  },
  {
   "cell_type": "markdown",
   "id": "overall-joyce",
   "metadata": {},
   "source": [
    "### 4. Creating your training and validation splits"
   ]
  },
  {
   "cell_type": "code",
   "execution_count": 31,
   "id": "adjustable-heavy",
   "metadata": {},
   "outputs": [],
   "source": [
    "# create validation dataset\n",
    "val_dataset = train_dataset.take(100) \n",
    "train_dataset = train_dataset.skip(100)\n",
    "\n",
    "# select first 100 batch from train dataset for validation data\n",
    "# each bacth will contain 64 samples and skip first 100 batch from train dataset"
   ]
  },
  {
   "cell_type": "markdown",
   "id": "proud-footage",
   "metadata": {},
   "source": [
    "### 5. Create the text encoder \n"
   ]
  },
  {
   "cell_type": "markdown",
   "id": "living-comment",
   "metadata": {},
   "source": [
    "the raw text data needs to be processed before it can be used in a model. The simplest way to process text for training is using the\n",
    "textvectorization layer this layer has many capbiliites."
   ]
  },
  {
   "cell_type": "code",
   "execution_count": 32,
   "id": "differential-paintball",
   "metadata": {},
   "outputs": [],
   "source": [
    "# Create the layer, and pass the dataset text to the layer's .adapt method\n",
    "\n",
    "VOCAB_SIZE = 1000\n",
    "encoder = tf.keras.layers.experimental.preprocessing.TextVectorization(max_tokens=VOCAB_SIZE)\n",
    "encoder.adapt(train_dataset.map(lambda text, label: text))"
   ]
  },
  {
   "cell_type": "code",
   "execution_count": 33,
   "id": "international-particular",
   "metadata": {},
   "outputs": [
    {
     "data": {
      "text/plain": [
       "array(['', '[UNK]', 'the', 'and', 'a', 'of', 'to', 'is', 'br', 'it', 'in',\n",
       "       'i', 'this', 'that', 's', 'was', 'as', 'movie', 'for', 'with'],\n",
       "      dtype='<U14')"
      ]
     },
     "execution_count": 33,
     "metadata": {},
     "output_type": "execute_result"
    }
   ],
   "source": [
    "# create vocabulary of words\n",
    "vocab = np.array(encoder.get_vocabulary())\n",
    "\n",
    "# print top 20 vocab\n",
    "vocab[0:20]"
   ]
  },
  {
   "cell_type": "code",
   "execution_count": 34,
   "id": "tested-sleep",
   "metadata": {},
   "outputs": [
    {
     "data": {
      "text/plain": [
       "1000"
      ]
     },
     "execution_count": 34,
     "metadata": {},
     "output_type": "execute_result"
    }
   ],
   "source": [
    "len(vocab)"
   ]
  },
  {
   "cell_type": "code",
   "execution_count": 35,
   "id": "clean-legislation",
   "metadata": {},
   "outputs": [],
   "source": [
    "encoded_example = encoder(\"This is a nice pen!\").numpy()"
   ]
  },
  {
   "cell_type": "code",
   "execution_count": 36,
   "id": "fleet-friendly",
   "metadata": {},
   "outputs": [
    {
     "data": {
      "text/plain": [
       "array([ 12,   7,   4, 336,   1], dtype=int64)"
      ]
     },
     "execution_count": 36,
     "metadata": {},
     "output_type": "execute_result"
    }
   ],
   "source": [
    "encoded_example "
   ]
  },
  {
   "cell_type": "code",
   "execution_count": 38,
   "id": "located-compound",
   "metadata": {},
   "outputs": [
    {
     "data": {
      "text/plain": [
       "'nice'"
      ]
     },
     "execution_count": 38,
     "metadata": {},
     "output_type": "execute_result"
    }
   ],
   "source": [
    "encoder.get_vocabulary()[336]"
   ]
  },
  {
   "cell_type": "code",
   "execution_count": 39,
   "id": "knowing-details",
   "metadata": {},
   "outputs": [
    {
     "data": {
      "text/plain": [
       "array(['', '[UNK]', 'the', 'and', 'a', 'of', 'to', 'is', 'br', 'it', 'in',\n",
       "       'i', 'this', 'that', 's', 'was', 'as', 'movie', 'for', 'with',\n",
       "       'but', 'film', 'you', 'on', 't', 'not', 'are', 'he', 'his', 'have',\n",
       "       'one', 'be', 'all', 'at', 'they', 'by', 'an', 'who', 'so', 'from',\n",
       "       'like', 'there', 'or', 'just', 'her', 'about', 'out', 'if', 'has',\n",
       "       'what', 'some', 'good', 'can', 'more', 'very', 'when', 'she', 'up',\n",
       "       'time', 'no', 'even', 'my', 'would', 'which', 'really', 'only',\n",
       "       'story', 'their', 'see', 'had', 'me', 'well', 'were', 'we', 'than',\n",
       "       'much', 'bad', 'get', 'other', 'great', 'do', 'people', 'been',\n",
       "       'will', 'also', 'because', 'into', 'how', 'don', 'most', 'him',\n",
       "       'first', 'made', 'its', 'then', 'them', 'make', 'way', 'could',\n",
       "       'too', 'movies', 'after', 'any', 'think', 'characters', 'watch',\n",
       "       'films', 'character', 'two', 'many', 'seen', 'plot', 'being',\n",
       "       'love', 'acting', 'never', 'life', 'where', 'best', 'did', 'show',\n",
       "       'know', 'little', 'over', 'ever', 'off', 'man', 'does', 'better',\n",
       "       'your', 'end', 'here', 'scene', 'still', 'these', 'say', 'scenes',\n",
       "       'while', 'why', 've', 'something', 'm', 'such', 'go', 'should',\n",
       "       'back', 'through', 'those', 'now', 'real', 'watching', 'thing',\n",
       "       're', 'actors', 'funny', 'didn', 'director', 'though', '10',\n",
       "       'doesn', 'another', 'years', 'old', 'work', 'actually', 'before',\n",
       "       'look', 'nothing', 'makes', 'find', 'new', 'going', 'lot', 'same',\n",
       "       'every', 'part', 'few', 'again', 'world', 'down', 'cast', 'us',\n",
       "       'quite', 'things', 'want', 'pretty', 'horror', 'around', 'seems',\n",
       "       'take', 'however', 'young', 'big', 'fact', 'thought', 'got',\n",
       "       'both', 'long', 'enough', 'give', 'between', 'own', 'must',\n",
       "       'comedy', 'action', 'right', 'series', 'music', 'may', 'without',\n",
       "       'guy', 'always', 'd', 'times', 'saw', 'almost', 'isn', 'original',\n",
       "       'role', 'gets', 'done', 'come', 'point', 'interesting', 'least',\n",
       "       'whole', 'family', 'far', 'minutes', 'bit', 'feel', 'tv', 'script',\n",
       "       'll', 'might', '2', 'am', 'making', 'last', 'since', 'anything',\n",
       "       'probably', 'away', 'kind', 'performance', 'girl', 'yet', 'fun',\n",
       "       'anyone', 'day', 'worst', 'woman', 'hard', 'sure', 'rather',\n",
       "       'each', 'found', 'played', 'our', 'looking', 'believe', 'although',\n",
       "       'screen', 'especially', 'trying', 'dvd', 'having', 'course',\n",
       "       'everything', 'book', 'goes', 'set', 'worth', 'ending', 'maybe',\n",
       "       'put', 'comes', 'sense', 'actor', 'shows', 'different', 'three',\n",
       "       'place', 'someone', 'let', 'reason', 'play', 'american', 'main',\n",
       "       'year', 'once', 'job', 'together', 'looks', 'money', 'watched',\n",
       "       'true', 'wasn', 'half', 'effects', 'everyone', 'later', 'war',\n",
       "       'plays', 'said', 'high', 'black', 'audience', 'seem', 'takes',\n",
       "       'during', 'john', 'instead', 'seeing', 'himself', 'night',\n",
       "       'special', 'beautiful', '1', 'version', 'left', 'wife',\n",
       "       'excellent', 'house', 'idea', 'shot', 'death', 'mind', 'else',\n",
       "       'star', 'fan', 'simply', 'father', 'second', 'budget', 'men',\n",
       "       'nice', 'short', 'read', 'used', 'completely', 'top', '3', 'poor',\n",
       "       'less', 'along', 'line', 'home', 'either', 'help', 'hollywood',\n",
       "       'wrong', 'boring', 'kids', 'dead', 'friends', 'low', 'enjoy',\n",
       "       'women', 'try', 'camera', 'classic', 'production', 'use', 'given',\n",
       "       'full', 'school', 'need', 'performances', 'couple', 'rest', 'next',\n",
       "       'until', 'stupid', 'awful', 'truly', 'recommend', 'sex', 'start',\n",
       "       'video', 'remember', 'tell', 'moments', 'human', 'understand',\n",
       "       'came', 'won', 'itself', 'getting', 'perhaps', 'terrible', 'mean',\n",
       "       'person', 'face', 'keep', 'mother', 'name', 'small', 'perfect',\n",
       "       'wonderful', 'stars', 'others', 'playing', 'often', 'boy',\n",
       "       'definitely', 'early', 'head', 'style', 'written', 'doing',\n",
       "       'children', 'lost', 'lines', 'piece', 'episode', 'case', 'went',\n",
       "       'yes', 'oh', 'absolutely', 'gives', 'entertaining', 'dialogue',\n",
       "       'live', 'overall', 'laugh', 'friend', 'couldn', 'guys', 'finally',\n",
       "       'liked', 'certainly', 'title', 'called', 'cinema', 'worse',\n",
       "       'picture', 'sort', 'drama', 'supposed', 'white', 'hope', 'loved',\n",
       "       'felt', 'become', 'entire', 'based', 'dark', 'against', 'mr', '4',\n",
       "       'totally', 'problem', 'several', '5', 'beginning', 'game', 'waste',\n",
       "       'under', 'fans', 'sound', 'final', 'direction', 'despite', 'turn',\n",
       "       'wanted', 'lead', 'example', 'care', 'seemed', 'lives', 'evil',\n",
       "       'becomes', 'able', 'humor', 'killer', 'b', 'already', 'guess',\n",
       "       'unfortunately', 'heart', 'days', 'history', 'son', 'throughout',\n",
       "       'fine', 'quality', 'side', 'run', 'amazing', 'flick', 'wants',\n",
       "       'act', 'art', 'writing', 'town', 'today', 'horrible', 'viewer',\n",
       "       'child', 'michael', 'gave', 'works', 'close', 'genre', 'enjoyed',\n",
       "       'brilliant', 'tries', 'kill', 'turns', 'past', 'matter',\n",
       "       'favorite', 'car', 'behind', 'girls', 'late', 'city', 'directed',\n",
       "       'god', 'eyes', 'hand', 'parts', 'themselves', 'soon', 'hour',\n",
       "       'expect', 'etc', 'obviously', 'sometimes', 'kid', 'decent',\n",
       "       'actress', 'starts', 'stuff', 'daughter', 'says', 'killed',\n",
       "       'myself', 'highly', 'stop', 'thinking', 'type', 'experience',\n",
       "       'group', 'anyway', 'feeling', 'voice', 'self', 'coming', 'heard',\n",
       "       'blood', 'moment', 'writer', 'except', 'happens', 'strong',\n",
       "       'fight', 'stories', 'known', 'hero', 'hit', 'leave', 'slow',\n",
       "       'please', 'ok', 'violence', 'cannot', 'happen', 'police',\n",
       "       'particularly', 'extremely', 'cut', 'took', 'lack', 'score',\n",
       "       'living', 'roles', 'chance', 'including', 'taken', 'serious',\n",
       "       'hilarious', 'told', 'david', 'wonder', 'murder', 'age', 'james',\n",
       "       'involved', 'obvious', 'brother', 'crap', 'husband', 'happened',\n",
       "       'save', 'song', 'simple', 'hell', 'robert', 'attempt', 'shown',\n",
       "       'english', 'gore', 'complete', 'cool', 'seriously', 'released',\n",
       "       'interest', 'wouldn', 'looked', 'jokes', 'opening', 'ago',\n",
       "       'across', 'hours', 'reality', 'alone', 'exactly', 'view',\n",
       "       'possible', 'four', 'sad', 'yourself', 'running', 'important',\n",
       "       'talent', 'level', 'body', 'saying', 'none', 'whose', 'ends',\n",
       "       'wish', 'light', 'cinematography', 'shots', 'usually', 'power',\n",
       "       'huge', 'annoying', 'order', 'career', 'somewhat', 'taking',\n",
       "       'usual', 'documentary', 'change', 'ridiculous', 'opinion', 'knew',\n",
       "       'started', 'major', 'number', 'rating', 'room', 'relationship',\n",
       "       'call', 'ones', 'beyond', 'scary', 'modern', 'novel', 'female',\n",
       "       'words', 'jack', 'happy', 'television', 'middle', 'turned',\n",
       "       'country', 'mostly', 'talking', 'disappointed', 'strange', 'silly',\n",
       "       'non', 'miss', 'knows', 'apparently', 'word', 'musical', 'aren',\n",
       "       'earth', 'attention', 'thriller', 'upon', 'british', 'basically',\n",
       "       'due', 'french', 'team', 'finds', 'clearly', 'o', 'fast', '7',\n",
       "       'five', 'problems', 'predictable', 'king', 'class', 'ten', 'talk',\n",
       "       'single', 'local', 'entertainment', 'cheap', 'sequence', 'near',\n",
       "       'episodes', 'above', 'whether', 'sets', 'review', 'clich', 'tells',\n",
       "       'enjoyable', 'dialog', '8', 'moving', 'easily', 'songs', 'future',\n",
       "       'straight', 'haven', 'events', 'comic', 'supporting', 'add',\n",
       "       'certain', 'easy', 'appears', 'giving', 'similar', 'space',\n",
       "       'message', 'falls', 'george', 'soundtrack', 'lots', 'surprised',\n",
       "       'suspense', 'eye', 'mention', 'theater', 'die', 'theme',\n",
       "       'romantic', 'named', 'filmed', 'fall', 'among', 'needs', 'clear',\n",
       "       '9', 'minute', 'tried', 'monster', 'e', 'rock', 'dull', 'release',\n",
       "       'bring', 'sorry', 'parents', 'gone', 'hate', 'bunch', 'subject',\n",
       "       'comments', 'within', 'kept', 'feature', 'showing', 'working',\n",
       "       'nearly', 'tale', 'using', 'means', 'dr', 'avoid', 'fantastic',\n",
       "       'ways', 'richard', 'realistic', 'deal', 'stand', 'oscar', 'stay',\n",
       "       'okay', 'doubt', 'feels', 'lady', 'effort', 'crime', 'sister',\n",
       "       'viewing', 'storyline', 'buy', 'points', 'form', 'peter', 'dog',\n",
       "       'editing', 'viewers', 'sequel', 'famous', 'elements', 'rent',\n",
       "       'paul', 'move', 'material', 'typical', 'red', 'follow', 'tom',\n",
       "       'somehow', 'leads', 'greatest', 'forget', 'general', 'reviews',\n",
       "       'imagine', 'believable', 'herself', 'check', 'begins', 'average',\n",
       "       'eventually', 'york', 'imdb', 'america', 'actual', 'period',\n",
       "       'mystery', 'brought', 'situation', '20', 'weak', 'premise',\n",
       "       'animation', 'doctor', 'hear', 'learn', 'poorly', 'free', 'third',\n",
       "       'dance', 'surprise', 'whatever', 'open', 'expected', 'boys',\n",
       "       'atmosphere', 'society', 'hot', 'wait', 'figure', 'particular',\n",
       "       'indeed', 'deep', 'acted', 'note', 'killing', 'gay', 'fi', 'male',\n",
       "       'crew', 'sci', 'shame', 'difficult', 'romance', 'question', 'sit',\n",
       "       'possibly', 'decided', 'hands', 'western', 'lee', 'air', 'season',\n",
       "       'street', 'interested', 'emotional', 'write', 'lame', 'reading',\n",
       "       'otherwise', 'leaves', 'needed', 'forced', 'nature', 'box', 'whom',\n",
       "       'sexual', 'joe', 'memorable', 'de', 'masterpiece', 'credits',\n",
       "       'meet', 'comment', 'plus', 'footage', 'sounds', 'sequences',\n",
       "       'perfectly', 'cop', 'cheesy', 'unless', 'begin', 'truth', 'weird',\n",
       "       'became', 'features', 'business', 'forward', 'beauty', 'inside',\n",
       "       'previous', 'island', 'screenplay', 'meets', 'girlfriend',\n",
       "       'superb', 'result', 'nor', 'setting', 'fire', 'dumb', 'incredibly',\n",
       "       'mark', 'keeps', 'joke', 'personal', 'japanese', 'baby', 'effect',\n",
       "       'crazy', 'badly', 'total', 'disney', 'background', 'copy',\n",
       "       'unique', 'towards', 'writers', 'stage', 'quickly', 'laughs',\n",
       "       'dramatic', '30', 'earlier', 'worked', 'older', 'ask', '80',\n",
       "       'dream', 'bill', 'creepy', 'directors', 'apart', 'following',\n",
       "       'directing', 'wasted', 'secret', 'water', 'development', 'mess',\n",
       "       'portrayed', 'pay', 'various', 'rich', 'realize', 'appear',\n",
       "       'front', 'powerful', 'plenty', 'present', 'reasons', 'meant',\n",
       "       'spent', 'brings', 'rate', 'william', 'deserves', 'battle', 'era',\n",
       "       'c', 'cute', 'return', 'leading', 'outside', 'admit', 'break',\n",
       "       'success', 'gun', 'cover'], dtype='<U14')"
      ]
     },
     "execution_count": 39,
     "metadata": {},
     "output_type": "execute_result"
    }
   ],
   "source": [
    "vocab"
   ]
  },
  {
   "cell_type": "markdown",
   "id": "terminal-sucking",
   "metadata": {},
   "source": [
    "with default settings, the process is not completely reversible. two reason for this\n",
    "1. the dfualt value for preprocessing.textvectorization standrdize argument is \"lower_and_strip_punctuation\"\n",
    "2. the limited vocabulary size and lack of character-based fallback result in some unknown tokens."
   ]
  },
  {
   "cell_type": "markdown",
   "id": "domestic-warrior",
   "metadata": {},
   "source": [
    "### 6. Defining your RNN model architecture"
   ]
  },
  {
   "cell_type": "code",
   "execution_count": 40,
   "id": "temporal-education",
   "metadata": {},
   "outputs": [],
   "source": [
    "# create RNN model\n",
    "model = tf.keras.Sequential([\n",
    "    encoder,\n",
    "    tf.keras.layers.Embedding(input_dim=len(encoder.get_vocabulary()), output_dim=64, mask_zero=True), # word2vec\n",
    "    tf.keras.layers.SimpleRNN(64),\n",
    "#     tf.keras.layers.Bidirectional(tf.keras.layers.LSTM(64))\n",
    "    tf.keras.layers.Dense(64, activation=\"relu\"),\n",
    "    tf.keras.layers.Dense(1) # tf.keras.layers.Dense(3, activation=\"softmax\")\n",
    "])\n",
    "\n",
    "# note: if you use activation =sigmoid you will get the probability score for model not the negative scores\n",
    "# but if you use by defualt value then you will get negative and positive value\n"
   ]
  },
  {
   "cell_type": "markdown",
   "id": "emerging-sentence",
   "metadata": {},
   "source": [
    "1. this model can be build as a tf.keras.Sequential.\n",
    "2. the first layer is the encoder, which converts the text to a sequence of token indices.\n",
    "3. after the encoder is an embedding layer. an embedding layer stores one vector per word. when called it converts the sequences\n",
    "of word indices to sequences of vectors. theses vecotrs are trainable. after training (on enough data), words with similar meanings ofter have similar vectors\n",
    "4. a recurrent neurel network (RNN) process sequences input by iterating through the elements. RNN pass the outputs from timestep to their input on the next timestep\n",
    "- The tf.keras.layers.bidirectioinal wrapper can aslo be used with an rnn layer. this propagates the input forward and backwards through the rnn layer and then concatenates the final output\n",
    "- the main advanatage to a bidirectional rnn is that the signal from the beginning of the input dosent need to be process all the way through very timestep to affect the output\n",
    "- the main disadvantage of a bidirectional rnn is that you cant efficiently stream predictions as words are being added to the end \n",
    "\n",
    "5. after the rnn has converted the sequences to a single vector the tow layers.dense do some final processing, and convert from this vector representation to a single logit as the classification output.\n"
   ]
  },
  {
   "cell_type": "code",
   "execution_count": 41,
   "id": "bridal-clear",
   "metadata": {},
   "outputs": [
    {
     "name": "stdout",
     "output_type": "stream",
     "text": [
      "[[-0.0042223]]\n"
     ]
    }
   ],
   "source": [
    "# pass sample input\n",
    "\n",
    "sample_text = (\"the movie was cool. the animatioin and the graphics werer out of this world. i would recommend this movie\")\n",
    "\n",
    "predictions = model.predict(np.array([sample_text]))\n",
    "print(predictions)\n"
   ]
  },
  {
   "cell_type": "code",
   "execution_count": 42,
   "id": "alone-klein",
   "metadata": {},
   "outputs": [
    {
     "name": "stdout",
     "output_type": "stream",
     "text": [
      "tf.Tensor(\n",
      "[[[ 0.03111998  0.00097088  0.04630357  0.03117417  0.0235528 ]\n",
      "  [ 0.02879236 -0.04715673  0.0203712   0.02912954 -0.00874227]\n",
      "  [-0.00787934  0.03056041 -0.04410345 -0.0010224  -0.03109237]\n",
      "  [ 0.00817149  0.03311319  0.01500256 -0.04828158  0.04157067]]], shape=(1, 4, 5), dtype=float32)\n"
     ]
    }
   ],
   "source": [
    "# play with models (uncomment one one layer at time and check the output)\n",
    "model2 = tf.keras.Sequential([\n",
    "    encoder,\n",
    "    tf.keras.layers.Embedding(input_dim=len(encoder.get_vocabulary()), output_dim=5, mask_zero=True),\n",
    "#     tf.keras.layers.SimpleRNN(5),\n",
    "#     tf.keras.layers.Bidirectional(tf.keras.layers.LSTM(5))\n",
    "#     tf.keras.layers.Dense(5, activation=\"relu\"),\n",
    "#     tf.keras.layers.Dense(1)\n",
    "])\n",
    "\n",
    "sample_text = (\"the movie was cool\")\n",
    "predictions = model2(np.array([sample_text]))\n",
    "print(predictions)"
   ]
  },
  {
   "cell_type": "markdown",
   "id": "surprising-prague",
   "metadata": {},
   "source": [
    "### 7. Compiling your RNN model"
   ]
  },
  {
   "cell_type": "code",
   "execution_count": 43,
   "id": "ceramic-cover",
   "metadata": {},
   "outputs": [],
   "source": [
    "# compile the model\n",
    "\n",
    "# for binary classification\n",
    "model.compile(loss=tf.keras.losses.BinaryCrossentropy(from_logits=True),\n",
    "              optimizer=tf.keras.optimizers.Adam(1e-4),\n",
    "              metrics=['accuracy'])\n",
    "\n",
    "\n",
    "# for 3 level \n",
    "# model.compile(loss='sparse_categorical_crossentropy',\n",
    "#               optimizer=tf.keras.optimizers.Adam(1e-4),\n",
    "#               metrics=['accuracy'])\n",
    "\n",
    "\n"
   ]
  },
  {
   "cell_type": "markdown",
   "id": "automated-royal",
   "metadata": {},
   "source": [
    "### 8. Training your model on your training data"
   ]
  },
  {
   "cell_type": "code",
   "execution_count": 44,
   "id": "controversial-contamination",
   "metadata": {},
   "outputs": [
    {
     "name": "stdout",
     "output_type": "stream",
     "text": [
      "Epoch 1/15\n",
      "525/525 [==============================] - 203s 362ms/step - loss: 0.6916 - accuracy: 0.4992 - val_loss: 0.6491 - val_accuracy: 0.5489\n",
      "Epoch 2/15\n",
      "525/525 [==============================] - 177s 337ms/step - loss: 0.6635 - accuracy: 0.5268 - val_loss: 0.6343 - val_accuracy: 0.6103\n",
      "Epoch 3/15\n",
      "525/525 [==============================] - 168s 321ms/step - loss: 0.4960 - accuracy: 0.7360 - val_loss: 0.3526 - val_accuracy: 0.8447\n",
      "Epoch 4/15\n",
      "525/525 [==============================] - 170s 322ms/step - loss: 0.3510 - accuracy: 0.8483 - val_loss: 0.3163 - val_accuracy: 0.8623\n",
      "Epoch 5/15\n",
      "525/525 [==============================] - 168s 319ms/step - loss: 0.3135 - accuracy: 0.8653 - val_loss: 0.3091 - val_accuracy: 0.8708\n",
      "Epoch 6/15\n",
      "525/525 [==============================] - 172s 327ms/step - loss: 0.3001 - accuracy: 0.8736 - val_loss: 0.2910 - val_accuracy: 0.8833\n",
      "Epoch 7/15\n",
      "525/525 [==============================] - 167s 318ms/step - loss: 0.2974 - accuracy: 0.8762 - val_loss: 0.2964 - val_accuracy: 0.8802\n",
      "Epoch 8/15\n",
      "525/525 [==============================] - 165s 314ms/step - loss: 0.2884 - accuracy: 0.8771 - val_loss: 0.2786 - val_accuracy: 0.8855\n",
      "Epoch 9/15\n",
      "525/525 [==============================] - 168s 319ms/step - loss: 0.2825 - accuracy: 0.8795 - val_loss: 0.2904 - val_accuracy: 0.8697\n",
      "Epoch 10/15\n",
      "525/525 [==============================] - 164s 313ms/step - loss: 0.2712 - accuracy: 0.8851 - val_loss: 0.2703 - val_accuracy: 0.8902\n",
      "Epoch 11/15\n",
      "525/525 [==============================] - 4400s 8s/step - loss: 0.2727 - accuracy: 0.8813 - val_loss: 0.2572 - val_accuracy: 0.8948\n",
      "Epoch 12/15\n",
      "525/525 [==============================] - 169s 322ms/step - loss: 0.2625 - accuracy: 0.8896 - val_loss: 0.2484 - val_accuracy: 0.8992\n",
      "Epoch 13/15\n",
      "525/525 [==============================] - 178s 338ms/step - loss: 0.2580 - accuracy: 0.8908 - val_loss: 0.2830 - val_accuracy: 0.8819\n",
      "Epoch 14/15\n",
      "525/525 [==============================] - 169s 321ms/step - loss: 0.2421 - accuracy: 0.8985 - val_loss: 0.2571 - val_accuracy: 0.8970\n",
      "Epoch 15/15\n",
      "525/525 [==============================] - 163s 311ms/step - loss: 0.2358 - accuracy: 0.9029 - val_loss: 0.2407 - val_accuracy: 0.9027\n"
     ]
    }
   ],
   "source": [
    "EPOCHS = 15\n",
    "\n",
    "results =model.fit(train_dataset,\n",
    "                  epochs=EPOCHS,\n",
    "                  validation_data=val_dataset)"
   ]
  },
  {
   "cell_type": "markdown",
   "id": "frozen-oliver",
   "metadata": {},
   "source": [
    "### 9. Evaluating your model on your test data"
   ]
  },
  {
   "cell_type": "code",
   "execution_count": 45,
   "id": "catholic-store",
   "metadata": {},
   "outputs": [
    {
     "data": {
      "text/plain": [
       "<AxesSubplot:xlabel='sentiment', ylabel='count'>"
      ]
     },
     "execution_count": 45,
     "metadata": {},
     "output_type": "execute_result"
    },
    {
     "data": {
      "image/png": "[encoded data removed]",
      "text/plain": [
       "<Figure size 432x288 with 1 Axes>"
      ]
     },
     "metadata": {},
     "output_type": "display_data"
    }
   ],
   "source": [
    "sns.countplot(df_test[\"sentiment\"])"
   ]
  },
  {
   "cell_type": "code",
   "execution_count": 46,
   "id": "fancy-center",
   "metadata": {},
   "outputs": [
    {
     "name": "stdout",
     "output_type": "stream",
     "text": [
      "This train_dataset contain 49.93% Neutral Sentiment tweet\n",
      "This train_dataset contain 50.07% Positive Sentiment tweet\n"
     ]
    }
   ],
   "source": [
    "Neg = round(df_test[\"sentiment\"].value_counts()[1]/len(df_test) * 100, 2)\n",
    "Pos = round(df_test[\"sentiment\"].value_counts()[0]/len(df_test) * 100, 2)\n",
    "\n",
    "\n",
    "print('This train_dataset contain {}% Neutral Sentiment tweet'.format(Neg))\n",
    "print('This train_dataset contain {}% Positive Sentiment tweet'.format(Pos))"
   ]
  },
  {
   "cell_type": "code",
   "execution_count": 47,
   "id": "critical-empire",
   "metadata": {},
   "outputs": [
    {
     "data": {
      "text/html": [
       "<div>\n",
       "<style scoped>\n",
       "    .dataframe tbody tr th:only-of-type {\n",
       "        vertical-align: middle;\n",
       "    }\n",
       "\n",
       "    .dataframe tbody tr th {\n",
       "        vertical-align: top;\n",
       "    }\n",
       "\n",
       "    .dataframe thead th {\n",
       "        text-align: right;\n",
       "    }\n",
       "</style>\n",
       "<table border=\"1\" class=\"dataframe\">\n",
       "  <thead>\n",
       "    <tr style=\"text-align: right;\">\n",
       "      <th></th>\n",
       "      <th>review</th>\n",
       "      <th>sentiment</th>\n",
       "      <th>clean_review</th>\n",
       "      <th>label</th>\n",
       "    </tr>\n",
       "  </thead>\n",
       "  <tbody>\n",
       "    <tr>\n",
       "      <th>0</th>\n",
       "      <td>First off I want to say that I lean liberal on...</td>\n",
       "      <td>negative</td>\n",
       "      <td>first off i want to say that i lean liberal on...</td>\n",
       "      <td>0</td>\n",
       "    </tr>\n",
       "    <tr>\n",
       "      <th>1</th>\n",
       "      <td>I was excited to see a sitcom that would hopef...</td>\n",
       "      <td>negative</td>\n",
       "      <td>i was excited to see a sitcom that would hopef...</td>\n",
       "      <td>0</td>\n",
       "    </tr>\n",
       "    <tr>\n",
       "      <th>2</th>\n",
       "      <td>When you look at the cover and read stuff abou...</td>\n",
       "      <td>negative</td>\n",
       "      <td>when you look at the cover and read stuff abou...</td>\n",
       "      <td>0</td>\n",
       "    </tr>\n",
       "    <tr>\n",
       "      <th>3</th>\n",
       "      <td>Like many others, I counted on the appearance ...</td>\n",
       "      <td>negative</td>\n",
       "      <td>like many others i counted on the appearance o...</td>\n",
       "      <td>0</td>\n",
       "    </tr>\n",
       "    <tr>\n",
       "      <th>4</th>\n",
       "      <td>This movie was on t.v the other day, and I did...</td>\n",
       "      <td>negative</td>\n",
       "      <td>this movie was on t v the other day and i didn...</td>\n",
       "      <td>0</td>\n",
       "    </tr>\n",
       "    <tr>\n",
       "      <th>5</th>\n",
       "      <td>Hickory Dickory Dock was a good Poirot mystery...</td>\n",
       "      <td>positive</td>\n",
       "      <td>hickory dickory dock was a good poirot mystery...</td>\n",
       "      <td>1</td>\n",
       "    </tr>\n",
       "    <tr>\n",
       "      <th>6</th>\n",
       "      <td>\"One Crazy Summer\" is the funniest, craziest (...</td>\n",
       "      <td>positive</td>\n",
       "      <td>one crazy summer is the funniest craziest not ...</td>\n",
       "      <td>1</td>\n",
       "    </tr>\n",
       "    <tr>\n",
       "      <th>7</th>\n",
       "      <td>Low-budget schlockmeister Herschell Gordon Lew...</td>\n",
       "      <td>negative</td>\n",
       "      <td>low budget schlockmeister herschell gordon lew...</td>\n",
       "      <td>0</td>\n",
       "    </tr>\n",
       "    <tr>\n",
       "      <th>8</th>\n",
       "      <td>this was absolutely the most tragic pile of ci...</td>\n",
       "      <td>negative</td>\n",
       "      <td>this was absolutely the most tragic pile of ci...</td>\n",
       "      <td>0</td>\n",
       "    </tr>\n",
       "    <tr>\n",
       "      <th>9</th>\n",
       "      <td>I have never understood the appeal of this sho...</td>\n",
       "      <td>negative</td>\n",
       "      <td>i have never understood the appeal of this sho...</td>\n",
       "      <td>0</td>\n",
       "    </tr>\n",
       "  </tbody>\n",
       "</table>\n",
       "</div>"
      ],
      "text/plain": [
       "                                              review sentiment  \\\n",
       "0  First off I want to say that I lean liberal on...  negative   \n",
       "1  I was excited to see a sitcom that would hopef...  negative   \n",
       "2  When you look at the cover and read stuff abou...  negative   \n",
       "3  Like many others, I counted on the appearance ...  negative   \n",
       "4  This movie was on t.v the other day, and I did...  negative   \n",
       "5  Hickory Dickory Dock was a good Poirot mystery...  positive   \n",
       "6  \"One Crazy Summer\" is the funniest, craziest (...  positive   \n",
       "7  Low-budget schlockmeister Herschell Gordon Lew...  negative   \n",
       "8  this was absolutely the most tragic pile of ci...  negative   \n",
       "9  I have never understood the appeal of this sho...  negative   \n",
       "\n",
       "                                        clean_review  label  \n",
       "0  first off i want to say that i lean liberal on...      0  \n",
       "1  i was excited to see a sitcom that would hopef...      0  \n",
       "2  when you look at the cover and read stuff abou...      0  \n",
       "3  like many others i counted on the appearance o...      0  \n",
       "4  this movie was on t v the other day and i didn...      0  \n",
       "5  hickory dickory dock was a good poirot mystery...      1  \n",
       "6  one crazy summer is the funniest craziest not ...      1  \n",
       "7  low budget schlockmeister herschell gordon lew...      0  \n",
       "8  this was absolutely the most tragic pile of ci...      0  \n",
       "9  i have never understood the appeal of this sho...      0  "
      ]
     },
     "execution_count": 47,
     "metadata": {},
     "output_type": "execute_result"
    }
   ],
   "source": [
    "# clean text\n",
    "df_test[\"clean_review\"] = df_test[\"review\"].apply(lambda text : clean_review(text))\n",
    "\n",
    "# create a label columns using manual label encoding\n",
    "lab = {\"positive\":1,\"negative\":0}\n",
    "df_test['label']= df_test[\"sentiment\"].map(lab)\n",
    "df_test.head(10)"
   ]
  },
  {
   "cell_type": "code",
   "execution_count": 48,
   "id": "pregnant-layout",
   "metadata": {},
   "outputs": [
    {
     "data": {
      "text/html": [
       "<div>\n",
       "<style scoped>\n",
       "    .dataframe tbody tr th:only-of-type {\n",
       "        vertical-align: middle;\n",
       "    }\n",
       "\n",
       "    .dataframe tbody tr th {\n",
       "        vertical-align: top;\n",
       "    }\n",
       "\n",
       "    .dataframe thead th {\n",
       "        text-align: right;\n",
       "    }\n",
       "</style>\n",
       "<table border=\"1\" class=\"dataframe\">\n",
       "  <thead>\n",
       "    <tr style=\"text-align: right;\">\n",
       "      <th></th>\n",
       "      <th>clean_review</th>\n",
       "      <th>label</th>\n",
       "    </tr>\n",
       "  </thead>\n",
       "  <tbody>\n",
       "    <tr>\n",
       "      <th>0</th>\n",
       "      <td>first off i want to say that i lean liberal on...</td>\n",
       "      <td>0</td>\n",
       "    </tr>\n",
       "    <tr>\n",
       "      <th>1</th>\n",
       "      <td>i was excited to see a sitcom that would hopef...</td>\n",
       "      <td>0</td>\n",
       "    </tr>\n",
       "    <tr>\n",
       "      <th>2</th>\n",
       "      <td>when you look at the cover and read stuff abou...</td>\n",
       "      <td>0</td>\n",
       "    </tr>\n",
       "    <tr>\n",
       "      <th>3</th>\n",
       "      <td>like many others i counted on the appearance o...</td>\n",
       "      <td>0</td>\n",
       "    </tr>\n",
       "    <tr>\n",
       "      <th>4</th>\n",
       "      <td>this movie was on t v the other day and i didn...</td>\n",
       "      <td>0</td>\n",
       "    </tr>\n",
       "  </tbody>\n",
       "</table>\n",
       "</div>"
      ],
      "text/plain": [
       "                                        clean_review  label\n",
       "0  first off i want to say that i lean liberal on...      0\n",
       "1  i was excited to see a sitcom that would hopef...      0\n",
       "2  when you look at the cover and read stuff abou...      0\n",
       "3  like many others i counted on the appearance o...      0\n",
       "4  this movie was on t v the other day and i didn...      0"
      ]
     },
     "execution_count": 48,
     "metadata": {},
     "output_type": "execute_result"
    }
   ],
   "source": [
    "df_test = df_test[[\"clean_review\", \"label\"]]\n",
    "df_test.head()"
   ]
  },
  {
   "cell_type": "code",
   "execution_count": 49,
   "id": "olive-python",
   "metadata": {},
   "outputs": [
    {
     "data": {
      "text/plain": [
       "clean_review    0\n",
       "label           0\n",
       "dtype: int64"
      ]
     },
     "execution_count": 49,
     "metadata": {},
     "output_type": "execute_result"
    }
   ],
   "source": [
    "# check missing values \n",
    "df_test.isna().sum()"
   ]
  },
  {
   "cell_type": "code",
   "execution_count": 50,
   "id": "stainless-thing",
   "metadata": {},
   "outputs": [],
   "source": [
    "# convert testing dataset into tensorflow dataset format\n",
    "\n",
    "test_dataset = (\n",
    "    tf.data.Dataset.from_tensor_slices(\n",
    "        (\n",
    "            tf.cast(df_test[\"clean_review\"].values, tf.string),\n",
    "            tf.cast(df_test['label'].values, tf.int32)\n",
    "        )\n",
    "    )\n",
    ")\n",
    "\n",
    "# creeate batches in test dataset\n",
    "test_dataset = test_dataset.batch(BATCH_SIZE).prefetch(tf.data.AUTOTUNE)\n"
   ]
  },
  {
   "cell_type": "code",
   "execution_count": 51,
   "id": "sunrise-creativity",
   "metadata": {},
   "outputs": [
    {
     "name": "stdout",
     "output_type": "stream",
     "text": [
      "example :  [b'first off i want to say that i lean liberal on the political scale and i found the movie offensive i managed to watch the whole doggone disgrace of a film this movie brings a low to original ideas yes it was original thus my 2 stars instead of 1 are our film writers that uncreative that they can only come up with this acting was horrible and the characters were unlikeable for the most part the lead lady in the story had no good qualities at all they made her bf into some sort of a bad guy and i did not see that at all maybe i missed something i do not know he was the most down to earth relevant character in the movie i did not shell out any money for this garbage i almost wish peta would come to the rescue of this awful offensive movie and form a protest disgusting thats all i have to say anymore'\n",
      " b'i was excited to see a sitcom that would hopefully represent indian candians but i found this show to be not funny at all the producers and cast are probably happy to get both bad and good feed back because as far as they are concerned it s getting talked about i was ready for some stereotyping and have no problem with it because stereotypes exist for a reason they are usually true but there really wasn t anything funny about these stereotypical characters the fresh of the boat dad who doesn t understand his daughter the radical feminist muslim daughter who by the way is a terrible actress and the young modern indian man trying to run his mosque as politically correct as he can he s a pretty good actor i only see him getting better br br it is very contrived and the dialog doesn t flow that well there was so much potential for something like this but sadly i think it failed and don t really care to watch another episode br br i did however enjoy watching a great canadian actress sheila mccarthy again she s always a treat and a natural at everything she does too bad her daughter in the show doesn t have the same acting abilities'\n",
      " b'when you look at the cover and read stuff about it an entirely different type of movie comes to mind than what you get here then again maybe i read the summary for the other movie called mausolem instead as there were two movies of this title released about the same time with both featuring plots that had key elements in common however reading stuff about that movie here i know i saw this one and not that one and that movie is even less what one would imagine a movie with that title would be about i will be honest i expect more of a zombie type picture and you get that in this movie to some degree however there is more stuff involving the occult and strange powers as the opening scene of the people being taken away by the coroner at the beginning of the film will attest to the movie also has the old theme of kids going somewhere they do not belong to have some crazy party in this case it is in fact a mausoleum the other movie i do not think really has that key feature playing that prominent role in the movie and i see the score for this one is higher too still it was just not the movie i was expecting'\n",
      " b'like many others i counted on the appearance of dennis hopper to make this not a complete waste of time i was sadly mistaken everything negative said about this flic is more than true what takes the cake however is the horrible horrible storyline for the main character br br here s why the planet might be destroyed the only way to recover from it for the entire human race to be saved trough it is to get as many smart capable nice competent people into an underground hide out and dennis hopper is the lone seer scientist with vision who was prepared for the worst and who has realized this but what s the main motivation of stevens sonny d angelo he s angry because dennis has decided who is to be saved or to be doomed while it clearly explained to stevens that dennis character has done everything to warn people of the danger but that he was laughed at the hopper character was the boy with the finger in the dike and now stevens is blaming him for picking and choosing and if that isn t enough he wants to stop everybody from entering this hideout because it isn t fair and he s responsible for the death of the one guy who is humanity s saviour oh my god how stupid can you get br br what s also maddening that imdb forces one to write minimal ten lines about this piece of crap i mean two million in budget what could have been done with that think clerks blair witch and lotsa other movies who have been made for under 100 000 dollars and were still better aaaaargh i count myself lucky that i didn t pay one penny to see this crap and to sit through the end of this utter ber crap is one the most heroic things i ve done this year it s no wonder that the writers of this pile of dung had jobs as camera operator and title designer before'\n",
      " b'this movie was on t v the other day and i didn t enjoy it at all the first george of the jungle was a good comedy but the sequel completely awful the new actor and actress to play the lead roles weren t good at all they should of had the original actor brendon fraiser and original actress i forgot her name so this movie gets the 0 out of ten rating not a film that you can sit down and watch and enjoy this is a film that you turn to another channel or take it back to the shop if hired or bought it was good to see ape the ape back but wasn t as fun as the first they should of had the new george as georges son grown up and still had bredon and whats her face in the film that would ve been a bit better then it was'\n",
      " b'hickory dickory dock was a good poirot mystery i confess i have not read the book despite being an avid agatha christie fan the adaptation isn t without its problems there were times when the humour and there were valiant attempts to get it right was a little overdone and the events leading up to the final solution were rather rushed i also thought there were some slow moments so some of the mystery felt padded however i loved how hickory dickory dock was filmed it had a very similar visual style to the brilliant abc murders and it really set the atmosphere what with the dark camera work and dark lighting the darker moments were somewhat creepy this was helped by one of the most haunting music scores in a poirot adaptation maybe not as disturbing as the one in one two buckle my shoe which gave me nightmares the plot is complex with all the essential ingredients though not as convoluted as buckle my shoe and in some way that is a good thing the acting was very good david suchet is impeccable i know i can t use this word forever but i can t think of a better word to describe his performance in the series as poirot and phillip jackson and pauline moran do justice to their integral characters brilliantly and the students had great personalities and well developed on the whole particularly damian lewis as leonard all in all solid mystery but doesn t rank along the best 7 5 10 bethany cox'\n",
      " b'one crazy summer is the funniest craziest not necessarily the best movie i have ever seen br br just when one crazy scene is done another emerges it never lets you rest just one thing after another the soundtrack is great the songs are the right ones for the scenes br br it is also a clean movie little that is dirty in it br br of course it has the story of the guys you wouldn t trust with your lunch money taking up a challenge and winning over people with more resources who d want to see it if they failed there is a serious side in that parents and children do not live up to each others dreams one should always have an open mind and weigh all the options this applies both to parents and children in one crazy summer the parents are wrong this is not always the case'\n",
      " b'low budget schlockmeister herschell gordon lewis reaches a new low even for him with the gore gore girls a film snicker that possesses all of his technical trademarks badly recorded sound poor lighting and ott gore this would be tolerable even a bit charming if the film at least had an interesting plot blood feast in all its ridiculous glory is a fine example but girls is a total snooze completely unlikable pompous ass private investigator abraham gentry frank kress is recruited by a newspaper reporter to find out who s been murdering out of shape strippers you ll stop caring who the culprit is long before these two are wrapping up the case as before the appeal isn t the plot but the creative methods of bloodletting including a girl s fanny being tenderized with a wooden mallet and the occasional flashes of then risqu skin but this just isn t enough to elevate the material above tedium'\n",
      " b'this was absolutely the most tragic pile of cinema to which i have ever born witness not only was the name a complete misnomer since the film has next to nothing to do with piranhas but the acting is as hollow and stale as the attempt to actually make some kind of plot when you watch this film you cannot help but spend every waking second questioning when you ve had enough and it s time to turn it off unfortunately i waited until the end in my case that s two hours of my life that i will never be able to reclaim'\n",
      " b'i have never understood the appeal of this show the acting is poor debra jo rupp being a notable exception the plots of most episodes are trite and uninspiring the dialogue is weak the jokes unfunny and it is painful to try and sit through even half an episode furthermore the link between this show and the 70s is extremely tenuous beyond the style of dress and the scenery and background used for the show it seems to be nothing more than a modern sitcom with the same old unfunny clich d scripts that modern sitcoms have dressed up as depicting a show from twenty years ago in the hope that it will gain some nostalgic viewers or something like that both happy days and the wonder years employ the same technique much more effectively and are actually a pleasure to watch in contrast to this horrible pathetic excuse for a show'\n",
      " b'mr bug goes to town was the last major achievement the fleischer studios produced the quality of the superman series produced at the same time is evident in this extraordinary film br br the music and lyrics by frank loesser and hoagy carmichael with assistance by flieshcer veteran sammy timberg are quite good but not as much as the scoring of the picture by leigh harline who also scored snow white for disney harline s atmospheric music is superb and a treat for the ears br br the layout and staging of the picture was years ahead of it s time and once again the fleischer s background artists outdid themselves the techincolored beauty of the film cannot be denied and while hoppity the grasshopper is the star the characters of swat the fly and smack the mosquito steal the picture swat s voicing by jack mercer of popeye fame is priceless kenny gardner brother in law of guy lombardo and a featured vocalist in his band does his usual pleasant job in the role of dick dickinsen br br the movie has been criticized for all the wrong reasons the fleischer studios were animation experts par excellence and this shows very clearly in the finished product the movie is tuneful the story great for all ages and the final scenes of the bugs scrambling for their lives upon a rising skyscraper is some of the best staging and animation of any animated film past and present br br do not miss this wonderfully hand drawn film also don t fail to appreciate the title sequence with the most elaborate example of max fleischer s remarkable 3 d sterioptical process which took four months to construct and employed 16 000 tiny panes of glass in the electrified buildings of manhattan br br do not miss mr bug goes to town aka hoppity goes to town i ll wager you ll be bug eyed at the results'\n",
      " b'this is one of my two or three favorite stooges shorts and undoubtedly christine mcintyre s best performance with the trio she is good in a number of other shorts but here she is absolutely brilliant her singing is not funny at all in fact it is downright beautiful but the plot is constructed in such a way that the singing enhances the humor rather than detracting from it we listen to mcintyre sing the entirety of voice of spring no less than three times but it never gets old partly because we don t tire of her voice and partly because it blends so well with the stooges antics the use of operatic soprano in a comedy is reminiscent of kitty carlisle s role in the marx brothers a night at the opera but the singing is much more a part of the comedy here than in opera and mcintyre perhaps more in other performances than here exhibited a comedic talent of her own that carlisle never did the stooges buffoonery mcintyre s singing and a well constructed plot combine for 5 out of 5 stars'\n",
      " b'this is supposed to be based on wilkie collins the woman in white but the only resemblance it bore to that story were the characters names the time period and the settings if they were going to change the story so thoroughly i don t understand why they needed to keep up the pretense that it came from wilkie collins go read the book it s much better'\n",
      " b'of all the british imperialist movies like four feathers charge of the light brigade for example this movie stands out as the cream of the crop it reflects a time when the sun never set on the british empire get over it i won t go into why because so many others have expressed the many reasons that makes this film great i have visited the alabama hills and have photographed the pass through which the british marched and it remains as it was unchanged by time and encroachment by man and vandals and even though i know it s coming seeing din lying dead on a stretcher and when these lines are read br br yes din din din br br you lazarushian leather gunga din br br though i ve belted you and flayed you br br by the livin gawd that made you br br you re a better man than i am gunga din br br i still at 54 years of age get misty eyed and anyone who says they don t is a liar the range of emotions within it is the mark of a great movie like the ending of another great film of mice and men'\n",
      " b'james cagney racketeer and political ward heeler get to become a deputy commissioner of corrections and visits a boys reform school the catch is that cagney is not in it for the graft he genuinely wants to make a difference in the lives of the kids there because he comes from a background like their s br br the villain of the piece is dudley digges who is a grafting chiseler and a sanctimonious hypocrite to boot one of the subtexts of the plot of the mayor of hell is that these kids are mostly immigrants and those that judge them and are in positions of power are those who are here a few generations note in the mess hall scene as digges offers a prayer of thanks for the food they are about to receive digges is eating well but the kids are getting quality you wouldn t feed to your pet br br cagney has his own troubles back in the city with some of his henchmen and he has to take it on the lam that puts digges back in charge and setting up the film for it s climax br br the mayor of hell was a typical product from the working class studio and because it was pre code it gets pretty gruesome at times a later version of this crime school with humphrey bogart and the dead end kids was a more sanitized remake br br although cagney is fine in the lead role as is madge evans the school nurse the acting honors go to dudley digges hard to believe that the same man could portray the drunken but kindly one legged ship s surgeon in mutiny on the bounty but digges is a fine player and a joy to watch in every film he s in br br this film is not shown to often because of the racial and ethnic stereotypes it portrays a whole lot of minorities would be offended today still it s a fine film br br interestingly enough a few years ago the film sleepers came out and it touched on some of the same issues i guess films about reform schools don t change in any time'\n",
      " b'i loved this film not being a swooning ed wood jr fan i prefer to appreciate his boundless enthusiasm and acknowledge his shortcomings his movies are fun but his personal story is one racked with pain i hoped and was delighted to find that this film would be about understanding his turbulent life rather than simply heaping him with posthumous praise from beginning to end this film evolves from a documentary into a mythology leaving the cast and the viewer unexpectedly connected to each other and to ed wood jr br br what we get are people who knew ed wood the best talking about him from all perspectives positive and negative and showing us their character as much as ed s we get insight into ed s personal and professional life from his romances to his drinking to his sexuality to his friends to his enemies and even to his film making br br the film itself is shot in a low budget way that seems done out of respect for ed as if using the techniques of most theatrically released movies from 1996 would be disrespectful sort of like wearing a nicer suit than the president the set designer uses a sense of humor and also a great deal of insight when matching each cast member with their background br br fans will be excited to hear personal testimony regarding ed wood controversies and new comers will be amazed that this man was real the dvd is full of impossible to find gems crossroads of lorado and photo galleries but the real treasure of this film is the surprisingly engaging and interconnected story br br ed wood had a habit of defining people through their association with him for better or worse to the point where one woman will go down in history as swimming pool owner for once letting him and his friends be baptized in her pool this ability to define a person s legacy comes through universally as the most amazing effect of the film is to not only give a well rounded idea of the man that was ed wood jr but also to give a comprehensive view of the community that he created somehow without ever having more that one cast member being interviewed on screen at a time the connection that ed wood created amongst the various people in his life becomes clear and the viewer is left with great sense of involvement br br even the title hints at the b list horror genre but by the end we see that even this is a kindness what begins as unrelated stories by random people ends with the conclusion that all of the cast will be forever weaved into an unpredictably cohesive fabric that history will bring into haunting unity with wood s legend br br in many ways a living contradiction ed wood jr could not be condensed to a single viewpoint this collaborative effort is the closest to knowing him that we can ever get being itself a juxtaposition of themes it is at once respectful provocative thoughtful gripping fun sad kind and fulfilling'\n",
      " b'having already seen the original jack frost i never thought that jack frost 2 would be as absurd as it is boy was i wrong then again a pix movies have a way of showing unbelievably bad material even worse than you might expect i believe this is the first a pix sequel and it may be an indication of what to expect in the future more a pix sequels br br it s hard to watch this without laughing especially during the later parts of the movie in which jack frost s offspring which are essentially snowballs with eyes arms a mouth and sharp teeth start killing people with the typical comedic dialogue and silly voices to go with it they are shown both as puppets with a stick underneath to move them and as computer animation which i have to say looks very cheesy the computer animation surprised me as the first jack frost had no such effects br br i d strongly recommend that you see the original jack frost before seeing this one both of which it would be preferable to watch with a group of friends to get the full amusement out of it and because it would make more sense sense being a relative term br br now only if there was uncle sam 2'\n",
      " b'i had been subjected to this movie for a relationship class in my school as figured it was nothing captivating and nothing new though it tries to be original by focusing on the teen father instead of the mother showing the problems that the dad would go through it had an interesting side to it but it just doesn t live up to its originality due to the fact nothing else in this movie was original we have the main character who has the older sister who like in every other movie like this has a thing against him we have the stay at home mother who expects too much and when he gives more she feels offended and leaves him in the dust then we have the father who is always gone then the girls side we have the parents who want everything and expect her to be perfect at all she does on to the story like i said it was interesting but the lack of good acting from the entire cast and the lack of any good writing or storytelling everything about this fell into clich the little nerd kid in school starts studying with girl they get together have sex and then boom we have a little kid perhaps it could ve been better had the writing been well better and had the acting been improved i ve seriously gotten more emotion out of leatherface and his chainsaw than i did out of any actor in this film and that s pretty bad seeing as the leatherface movies are crap and horridly acted so far the only interesting teen pregnancy movie i ve seen was juno so far the comical side of this serious situation has proved more entertaining while still giving the same message like i said the idea was original most of these films focus on the teen mother but this one chose not to instead it focuses on the drama of the father but again the originality does not save this movie from mediocrity i really hope someone decides to either re make this movie with a better cast and a better writer or just make another similar film because this one was wasted potential'\n",
      " b'this movie is stuffed full of stock horror movie goodies chained lunatics pre meditated murder a mad vaguely lesbian female scientist with an even madder father who wears a mask because of his horrible disfigurement poisoning spooky castles werewolves male and female adultery slain lovers tibetan mystics the half man half plant victim of some unnamed experiment grave robbing mind control walled up bodies a car crash on a lonely road electrocution knights in armour the lot all topped off with an incredibly awful score and some of the worst foley work ever done br br the script is incomprehensible even by badly dubbed spanish horror movie standards and some of the editing is just bizarre in one scene where the lead female evil scientist goes to visit our heroine in her bedroom for one of the badly dubbed that is fantastical i do not understand explain to me again how this is exposition scenes that litter this movie there is a sudden hand held cutaway of the girl s thighs as she gets out of bed for no apparent reason at all other than to cover a cut in the bad scientist s mwahaha all your werewolfs belong mine speech though why they went to the bother i don t know because there are plenty of other jarring jump cuts all over the place even allowing for the atrocious pan and scan of the print i saw br br the director was according to one interview with the star drunk for most of the shoot and the film looks like it it is an incoherent mess it s made even more incoherent by the inclusion of werewolf rampage footage from a different film the mark of the wolf man made 4 years earlier featuring the same actor but playing the part with more aggression and with a different shirt and make up is there a word in spanish for continuity and more padding of another actor in the wolfman get up ambling about in long shot br br the music is incredibly bad varying almost at random from full orchestral creepy house music to bosannova to the longest piano and gong duet ever recorded thinking about it it might not have been a duet it might have been a solo the piano part was so simple it could have been picked out with one hand while the player whacked away at the gong with the other br br this is one of the most bewilderedly trance state inducing bad movies of the year so far for me enjoy br br favourite line ilona this madness and perversity will turn against you how true br br favourite shot the lover discovering his girlfriend slain dropping the candle in a cartoon like demonstration of surprise rank amateur directing there'\n",
      " b'there are times when finishing a film one wishes to have a refund for the time just spent this was one of those times i almost gave up with only 15 minutes left to endure and i wish i had br br the pace that a man goes from a straight laced controlled life to one of complete spinelessness and irresponsibility could never be this rapid br br from a graduation celebration to the predictable ending tristan price jesse metcalfe man of privilege and culture allows himself to be seduced by a woman by violence and by mind altering substances of course the woman part is understandable when observing the talents of the beautiful april nathalie kelley but the in for a penny in for a pound aspect of the drugs violence and dedication to a person he has just met is impossible to understand br br frankly besides being able to stare at nathalie kelley and monica keena this film has no redeeming qualities save your money save your time do anything else'\n",
      " b'another film to punish us for the crime of enjoying pulp fiction br br if you like watching people get killed by machine gun fire for an hour and a half this ll probably fit the bill fans of the debut episode of aeon flux wherein the title character slays literally thousands of seemingly faceless soldiers single handedly will really go for it br br otherwise it s not exactly a clever movie in fact all it is is an excuse for a bunch of young people to act rude and shoot people sometimes an entire scene goes by and the only thing that happens is you guessed it someone gets shot or to spice things up twenty people get shot first they re just sitting there the next minute they re sitting there dead yahoo br br rough plot a young american goes to paris an american in paris get it hires a prostitute the ethereal julie delpy gets in touch with some old french buddies one of which has aids they plan and attempt a bank heist of course movie convention states that no bank robberies on film go off w o a hitch and this hitch takes up about three quarters of the running time it s like dog day afternoon without the sidney lumet s wit patience or humanity while at the bank things go wrong surprise and the parisian with aids goes wacko with his uzi several hundred times no spoilers here but suffice to say that you re at such an emotional distance from these characters that it s not likely you ll care who lives and who dies by the end of the film br br some have called it stylish perhaps it is but it s someone else s style it s a movie that s already been done and killing zoe is trapped by convention nowhere in the course of the movie does the director roger avary co winner of the pulp fiction screenplay oscar do anything really original stylish funky or outrageous unless you consider the fact that no movie that has taken place inside a bank has had such a high body count there isn t anything else to set this one apart from the multitude'\n",
      " b'when the romulans come they will not be bearing gifts no they bring with them war war and conquest as any familiar with this episode know it is a redux of the war film the enemy below from the fifties the obvious difference is that instead of a battleship and a submarine or an american destroyer german u boat engaged in lethal war games it is two starships in outer space in trek history about 100 years before the events here according to this episode earth fought the romulan wars after about 5 years of conflict a stalemate brought about a treaty and the institution of the neutral zone a boundary between us and the romulan empire now on this stardate the treaty appears to be broken as our outposts are being attacked and destroyed by some weapon of immense power yes the romulans are back testing their new war toy and kirk must now earn his pay he must make decisions that would affect this sector of the galaxy such as figuring out how to avoid a oh i dunno an interstellar war maybe br br i think what makes this episode so effective is that it doesn t shy away from the grim aspects of war as one would expect of a mere tv episode from the sixties especially an episode from a science fiction show it s all very tense and gripping like the best war films such as when kirk sits down with his key officers for what amounts to a war council the writers and the actors aren t kidding around here this is all preparation for a ghastly conflict potentially the beginning of another years long battleground in the final analysis kirk s aim is to keep this battleground to just the two ships but even then it s an endeavor fraught with peril and probable casualties in fact i believe this episode holds the record for ship casualties by the end of it right at the start of the episode we see the devastation such battle can produce in that supposedly well protected outpost then begin the cat and mouse war games between the enterprise and the romulan ship it s as exciting as any conflict we ve seen on the big screen of course if you re not into war films you d have to look for other things to admire in this episode br br what elevates this episode even further is the revelation of just what and who the romulans are it s an electric shock of a sort now we have even further inter crew conflict on the bridge of the enterprise war does tend to bring out the worst in some people due to still nasty attitudes about race in this future the tension is ratcheted up even further kirk has his hands full in this one i suppose the one weakness in the story is the convenient relenting of the bigotry issue by the conclusion on the romulan side actor lenard makes his first appearance in the trek universe as the romulan commander he s terrific in the role the flip side of capt kirk or capt pike take your pick done up to resemble spock more than a little surprisingly his character is not war hungry as we would expect another eye opener for this episode the actor would next return to this universe as sarek spock s father so he s nothing if not versatile it s also telling how the first appearance of such characters as the romulans is usually their best shot as it is here they showed up in the enterprise incident next'\n",
      " b'this was a movie that i had heard about all my life growing up but had never seen it until a few years ago it s reputation truly proceeded it i knew of michael myers had seen the mask saw commercials for all of the crummy sequels that followed but i was growing up during the decade where jason and freddy had a deadly grip on the horror game and never thought much of the halloween franchise boy how i was being cheated with cheap knock offs br br halloween is a genuinely terrifying movie now by today s standards it isn t as graphic and visceral but this film delivers on all the other levels most horror movies fail to achieve today the atmosphere that john carpenter creates is so creepy and the fact that it is set in a quaint mid west town is a testament to his ability the lighting effects are down right horrifying with the shape seemingly appearing and disappearing into the shadows at will the simple yet brutally effective music score only adds to the suspense br br the performances by all the players are well done with specific nods to jamie lee curtis and donald pleasance ms curtis is such a good laurie strode because she is so likable and vulnerable it is all the more frightening when she is being stalked by michael myers because the director and viewer have invested so much into her we want her to survive and get away br br donald pleasance plays dr loomis like a man on a mission and it works well he adds a sense of urgency to the predicament the town finds itself in because he knows what evil stalks their streets br br overall not only is halloween a great horror movie but also a great film it works on many levels and draws the audience in and never lets up this should be standard viewing for anyone wanting to experience a truly scary movie and for an even more frightful time try watching it alone with the lights off don t be surprised if you think you see the shape lurking around in the shadows'\n",
      " b'let me begin by saying that there is no bigger fan of the original lonesome dove than i both the pulitzer prize winning book and the towering mini series adapted from it stand alone in my experience as moving dramatic believable and engrossing works there is no comparison between lonesome dove and any western film at least not since the legendary collaborations of john ford and john wayne it was with real reservations that i sat down to watch this new mini series what with mcmurtry s non participation and the missing original cast members after watching the first episode it was clear that this is no lonesome dove in almost every measurable way this sequel falls short of the original but so what i wasn t expecting it to measure up taken as an effort of it s own this film is engaging entertaining and of a very good quality if it were done as a new story not as a sequel to lonesome dove there is no question in my mind that it would not have received as many negative ratings jon voight did a creditable job as call barbara hershey was a terrific clara and the new characters like gideon walker and agostina vega were well rendered and believable louis gossett jr deserves special mention as the horse wrangler isom pickett the film made me care about the characters and i don t ask any more than that from an actor it is unfortunate that this worthy effort stands in the shadow of it s predecessor it is worth viewing in it s own right'\n",
      " b'i wasn t really interested in seeing step up but my friend just kept bugging and bugging me to see this film especially since she is so in love with channing tatum i tease her constantly about it saying how that s the only reason why she loved the movie but she somehow convinced me that it was a movie worth seeing that if i loved movies like dirty dancing take the lead and save the last dance that i should love step up eh what the heck i guess every movie in some way has it s right to a view br br well you know those movies i just mentioned up top dirty dancing take the lead and save the last dance well put them in a blender with some gangsta love in it and that s what you have not to mention if you ve seen those movies well frankly you have seen step up because channing is lower class with street smarts who just naturally feels the music while that snobby up class girl must follow step by step how will they ever fall in love if they are so different after all this is their chance to step up to the passion the mystery and the lust of the dance br br ok that was a silly plot explanation but like i said as long as you ve seen those movies i mentioned or even if you just saw the plot you get the movie i don t understand how it actually has a 5 5 rating i bet it s those channing lovers lol i m kidding with you guys but it s all good i guess i just didn t get what others did with the passion the mystery that is the dance oh antonio bandares where are you when we need you br br 4 10'\n",
      " b'i haven t seen bsg i tried to watch it once in the middle of the show but couldn t get into it however i saw caprica rebirth yesterday i felt a little lost so i decided to watch the pilot today and i must say i was pleasantly surprised i think this is a promising show and the only side effect it had on me is that now i want to watch bsg as well br br but what i really liked is that i didn t have to be a hardcore bsg fan to understand what s going on in caprica from what i have read in the net they were trying to reach the female population since bsg reached way more men and at least in my case it worked br br however i suggest that if you are trying to watch the show do it from the beginning starting with the pilot'\n",
      " b'well it turned out as i expected visual overload but nothing else added to the original what did surprise me however was that the storyline was fairly drastically changed compared to the 1968 flick initially this awoke my interest but what eventually surprised was that the new twists and turns a were apparently invented in order to present us with a typical hollywood like product and b made the whole storyline improbable the 1968 story was breathtakingly straightforward and included no time storms or any bogus of that sort it just stated that when you come home after a long journey things might have changed a bit earth might have fallen in the hands of apes for example like many old movies it s main ingredient was suspense hell does anyone understand that word these days in this burton movie an attempt has been made to turn the whole thing into an action movie but at what cost surely the images are overwhelming and a lot of time and money has been put into the design of a complete ape culture even ape music but what s wrong br br first the suspension of disbelief is made very hard because the apes have a lot of hollywood human traits i refer especially to ari and the slave trader these traits include emotional skills like irony sarcasm and an overtly displayed array of subtle emotions it makes you forget that the apes are apes which is essential br br second the humans talk of course we can imagine that humans will never forget how to speak but the fact that the apes had speech and the humans didn t made the ape human role switching very tangible and stressing in the 1968 version the wound in the throat that charlton heston gets there is essential to his survival and his later regained speech essential to his uniqueness and the interest that dr zira has in him so no need for things like human rights activists or ape human love in order to explain things br br third the fact that they talk ads a great deal to the implausibility but is a necessary twist in the new movie since capt davidson has to play the hollywood let s save the whole world and have a good ending for everyone and still make it to the lounge bar for a cool diet coke character oh my god will they never learn i new it from the start when there was only one guy who got lost they were in need of a hero and then the script writers go on reasoning we need one guy so why would one guy get lost because he tries to save an ape from an electromagnetic storm implausible but it s necessary because it shows the audience that he respects apes since in these modern and politically correct times we can t have a xenophobic ape hater like charlton heston s 68 character loose on the screen let s give them a bubblegum version br br fourth okay the general twist of the original discovering the truth of the 1968 film to the modern version he finds that his own mother ship crashed on the planet ages ago and that their lab apes developed their society where heston simply discovered that just somehow the apes overtook the earth while he was away is nicely done the second battle part comes as an anti climax that s because this movie has added the first two planet of the apes movies in one plot nice try but the chill you feel when davidson and you discover that he s lost on the planet forever just washes out due to the uninteresting battle part br br fifth the ending for chrissakes who came up with that a davidson crashes twice with his escape pod which seems an unsteerable object while the chimp manages to simply land gracefully come on who d believe that if the pods are really small space crafts davidson simply flies off into space at the end and not merely escape vessels he might have managed a safe landing at least once no and what about that ending i mean in the original film it was clear that everything took place on earth but here the whole movie takes place on a distant planet and suddenly the same there s a thade statue ape culture is on earth how come did the apes of the far planet evolve technologically flew into the time storm and colonised earth before davidson s mission took off why is thade worshiped stupid stupid stupid br br helena bonham carter is even adorable and beautiful as an ape but i d expected no less i preferred her ape above estella warren as a human but maybe i got some loose wire in my head nevertheless the only convincing apes were tim roth as thade wonderful and ari s household ape the ex general but i forgot his name br br nonono a lot of things could and should have been added altered to the 1968 pic but not the plot at least not in that way it was simple and clear and needed no additional explaining it was nicely tongue in cheek and caricatured don t stylize everything'\n",
      " b'cooley high was actually a drama with moments of comedy it was a reflection of high school life back in the day i attended coolidge high in washington d c from 1976 to 1979 and much of what was in cooley high was an every day thing at coolidge as a matter of fact after the movie came out everybody started calling coolidge cooley high getting high shooting dice chasing girls basement parties and fights that sums up high school life for many in d c back in the day i can t forget motown because motown music began and ended many a day back in the 70s the hits just kept coming however cooley high adds a layer of humanity over the craziness because when all was said and done just like in cooley high my classmates and i had a lot of love for each other and like the characters in cooley high there was life after high school but there was nothing like waking up every morning and experiencing each day to the fullest from homeroom to seventh period thirty years later we are getting ready to celebrate those good times cooley high is definitely a period piece that just gets better with time because like it or not the only thing left from those days are memories some good and some bad'\n",
      " b'this is a great movie for any fan of hong kong action movies asides from it s little plot the weak drama and bits of comedy antics the movie is action packed with gun fighting and martial arts action kept me entertained from beginning until the end i thought shannon lee was awesome in the movie br br having an action director like corey yuen is what keeps hong kong action going strong this modern action film is highly recommended'\n",
      " b'i m trying to understand what people liked about mirrormask i am an avid film viewer and hobbyist film maker as i was telling friends during my lunch hour mirrormask may well be my biggest movie disappointment of the year just like the short moongirl the film missed its marks several times during the movie it made attempts at humor it sets you up for the laugh instead of making you laugh it leaves you feeling empty the jokes reminded one of the recent star wars films they weren t funny unless you were five and the acting felt similarly terrible i ve seen actors actually act in front of a blue screen and i ve believed it but not in this film not for a second br br this film takes a formula and tries to apply it with pretty artwork and though the script is totally workable and the special effects quite beautiful it has no heart to it and fails miserably i left the film shaking my head and considered leaving the theater i felt hallow and miserable and still haven t gotten the sour taste out of my mouth from it i love independent film i encourage people to view independent films to support them but not this film this film shouldn t have been made at least not like this why did the director miss the marks so clearly they were clearly setup not just the humor but the emotions the drama even the lines were poorly timed and delivered it was like the film walked on three legs instead of four its steps are awkward and miss timed and it could fall over with the slightest push don t see this film i don t care who you are it isn t worth your time'\n",
      " b'loved the film this was my first glimpse at both reese witherspoon and jason london both of which are two of my favorites must say that no matter how many times i ve seen this movie i can t help but tear up one of those movies that should become a classic for all'\n",
      " b'over christmas break a group of college friends stay behind to help prepare the dorms to be torn down and replaced by apartment buildings to make the work a bit more difficult a murderous chucks wearing psycho is wandering the halls of the dorm preying on the group in various violent ways br br registered as one of the 74 video nasties listed by the u k in the 1980s the dorm that dripped blood had a good reputation built up for it prior to first viewing the term video nasty strikes into mind some images of some great explicit gore violence sex etc all the things a horror fan dreams of so after hearing all of that info i settled into pranks alt title expecting a sleazy slasher experience and that s what it tried to be but failed pretty much completely visually the film s not great the cinematography gore except for a couple scenes and overall direction all fail it s simply not enjoyable to watch the unoriginal script is lacking and often throws in random things without any real reason like the opening kill there are some cool death scenes including a pretty nice face melt which can be seen on the poster but that s about it for the positive the acting is pretty bad the story seems unimportant the killer isn t cool or scary and it suffers the one major error that any slasher flick should always avoid it s a bit boring overall for a film done by a few ucla film students for 90 000 which would be over double that today the dorm that dripped blood isn t a total mess it has a couple good things and is fairly watchable but as a slasher flick looking to be on the level of films like the house on sorority row and pieces it just cannot compare don t expect much and you may at least be entertained i hate to say it but this is one of the few films i ve seen that would actually be better with a remake and yet they go after great works like black christmas oh well br br obligatory horror elements br br subgenre slasher br br violence gore there are some brutally cool kills and the gore is okay for the most part but nothing special also they off screened some of the best murders br br sex nudity there s a little unappealing to me nudity but not very much br br cool killer s nah the ending monologue s of the killer made him her pretty uncool br br scares suspense a jump scare or two but nothing too effective br br mystery i suppose yeah but i simply didn t care enough and it s as obvious as the nose on the killer s face br br br br final verdict 3 75 10 bah humbug br br ap3'\n",
      " b'the mayor of hell has the feel of an early dead end kids film but with a much harder edge and very few light spots preceding the first appearance of the dead enders by four years james cagney has a full screen opening credit even though technically the mayor of the movie s title is actually portrayed by frankie darro one of several boys sent to reform school during the opening scenes darro s character is jimmy smith a young tough who s befriended by patsy gargan cagney and is elected to the position when gargan takes a chance at humanizing conditions at a state reformatory br br warner brothers made a lot of these types of films attempting to provide a conscience of sorts in an era that only too well knew about the effects of crime and poverty this movie is quite gritty with no apologies for ethnic stereotyping as in the submissive posture of a black father in court or the way a jewish kid gets to run a candy shop in the reform school the rules at the reformatory are simple enough work hard and keep your mouth shut step out of line and you answer personally to warden thompson dudley digges br br cagney s role in the story seems somewhat ambiguous since even though he makes a serious effort to improve conditions inside the reformatory on the outside he s still nominally in control of a criminal racket the film s attempt to juggle this dichotomy falls short in my estimation the finale attempts to wrap things up in a neat package as gargan awaits the outcome of a near fatal shooting of one of his henchmen not exactly the kind of role modeling one would look for in a film like this br br warner brothers would sanitize some of the elements of this story in a 1938 remake titled crime school featuring humphrey bogart in the cagney role and billy halop in the frankie darro part if you re partial to the dead end kids you ll probably like the latter film better since it also offers familiar faces like leo gorcey huntz hall bobby jordan and gabriel dell however the ending is somewhat muddied in that one too with bogart s warden character involved in a cover up of a prison breakout both films offer a romantic interest for the lead characters in mayor madge evans is a reform minded nurse that falls for cagney s character br br curiously a lot of james cagney s early films aren t commercially available so you ll have to keep your eyes peeled for a screening on turner classics or source the film from a private collector personally i can t get enough of this kind of stuff and find intriguing points of interest in the films of all genres from the thirties and forties'\n",
      " b'this two part tv mini series isn t as good as the original from 1966 but it s solid the original benefited from a huge number of things it was all in black and white it had a great jazz score and it was filmed at the real locations including the home of the doomed clutter family that was important because in the book and in the original movie the home is very much a character itself br br this remake was filmed in canada which i guess doubles okay for kansas the story tries to be as sympathetic to perry as it dares to and eric roberts plays him as a somewhat fey person his homosexuality barely hidden the gentler take by roberts doesn t quite work in the end though because it s hard to believe that his version of perry smith would just finally explode in a spasm of murder whereas robert blake s take on smith left you no doubt that his perry smith was an extremely dangerous character br br anthony edwards was excellent as the bombastic big mouthed and ultimately cowardly dick hickcock the brains of the outfit his performance compares very well to scott wilson s role in the original movie br br since this is a longer movie it allows more time to develop the clutter family and in this regard i think the 1996 movie has an advantage the clutters are just an outstanding decent family they ve never harmed another soul and it is just inexplicable that such a decent family is ultimately massacred in such a horrifying way it still boggles my mind that after the clutters were locked in the bathroom that herb clutter didn t force out the window so at least his children would have a chance to escape this movie has the thought occur to him but too late from what i read about the real home which is still standing the way the bathroom is configured they could ve opened the counter drawers and effectively barricaded the door which would ve forced the killers to blast their way in but it might ve bought time for some of the clutters to escape why the clutters didn t try this i have no idea br br fans of the book will recognize that this movie takes a lot of liberties with how the crime is committed but not too serious still it s distracting to viewers like me who have read tons about the case the actors playing the cops led by sam neill and leo rossi are uniformly excellent much better i think as a group than the actors in the original movie they know that to secure the noose around the necks of both of them they have to get them to confess and the officers come to the interview impeccably prepared they had already discovered the likely alibi the phony story of going to fort scott and had debunked every jot of it the officers then let smith hickcock just walk into their trap hickcock is a b s artist who figures he can convince anyone of anything and the officers respectfully let him tell his cover story but when they lower the boom on him he shatters very quickly it s very well filmed and acted and very gratifying to watch because the viewer naturally should loath hickcock in particular by this point a cowardly con man who needs the easily manipulated smith to do his killing for him supposedly hickcock later stated that the real reason for the crime wasn t to steal money from the clutters but to rape nancy clutter at least she was spared that degradation br br the actors playing the clutters are very good kevin tighe as herb clutter in particular the story sensitively deals with mrs clutter s emotional problems most likely clinical depression and mrs clutter displays remarkable inner strength when she firmly and strongly demands that the killers leave her daughter alone from what i ve read the clutters surviving family was particularly bothered by how bonnie clutter was portrayed in the book claiming it was entirely untrue but as an aside both of the killers related to the police how mr clutter asked them to not bother his wife because of her long illness capote might make up that fiction to make the character of bonnie more interesting but certainly the killers had no reason to falsely portray mrs clutter and no doubt much of the conversation in the book duplicated in the movies is right off the taped confessions of the killers so it would ve been nonsensical for herb to have said that and not have it be true'\n",
      " b'the pilot is extremely well done it lays out how the characters bond in future episodes i don t think anyone could have created a better pilot for this show it displays remarkable creativity on the writers part although not everything was straightened out because it was the very first episode a lot of events that happen in future seasons were demonstrated in the pilot an example would be ross and rachels future relationship even though the nervousness of a first episode appeared it was overcome by an amazing plot and outstanding cast choice br br bravo br br a great start to an unbeatable comedy'\n",
      " b'this miserable film is a remake of a 1927 film they should have let it remain that way br br what a colossal bomb douglas fairbanks displays absolutely no charisma here cesar romero is subjected to a role as a real jerk and bette grable sings with a chorus what i ll do to that hungarian br br the ridiculous plot deals with a picture of a woman in a castle in 1561 rome that saved the day by killing a conqueror fairbanks now let s fast forward to 300 years later where grable just married to the count romero faces a similar situation when on her wedding night there is an invasion by hungarian soldiers br br romero acts cowardly and flees before the army arrives he disguises himself as a gypsy and is made to remain at the castle when his violin playing pleases fairbanks the ending is worse than the entire wretched film when grable meets fairbanks to tell him the good news an enraged romero has annulled the marriage br br this poor imitation of a movie was made in 1948 as harry davenport a veteran supporting player who is in it died in 1949 this must have been his last film what a bomb to go out with after such a distinguished career br br walter abel co stars but he can do little with such poor writing the costumes look more like those that would come out of the stone age i can t fathom what fairbanks was wearing'\n",
      " b'i have to start off by apologizing because i thought the first 75 80 of this film was hilarious it s mostly because of brad pitt s performance spot on br br the acting by all involved was quite good but brad stole the movie the atmosphere was perfect in all respects i m not a giant pitt fan but this has got to be one of his best roles ever br br brutal honest gritty all good words to describe this movie br br i was reading a previous review and the person said that the reasoning behind early s violence isn t explained it is explained but they thankfully don t have to go into graphic detail to get their point across br br overall i gave this a 9 because every scene bar 1 or 2 was effective i think the humor in the first half or so is perfect for this movie underrated'\n",
      " b'this is burt reynolds citizen kane tragically nothing else he was ever involved in came close to approaching sharkey s machine it seemed to me that he put everything he had into it it is a movie that is in love with movies the opening sequence where detective sharkey single handedly rescues a bus load of hostages is an immensely exciting piece of cinema everything moves so quickly once it has started to go wrong that it appears to take on a life of its own a brilliantly achieved effect it looks cold tense and dangerous on mr reynolds streets the precinct house looks dirty and tired full of desperate people on both sides of the law shouting cursing out trying to do deals or just stay alive into this underworld descends the recently demoted sharkey a reward for a bungled drugs bust caused by a corrupt cop he and his team are part of the vice squad information they pick up concerning a crooked politician leads them into the world of high class call girls and ruthless drug barons watching the apartment of one such call girl rachel ward sharkey falls in love with her portrait on the wall i know i know and when a woman s body is found with its face shot off in one of the rooms he thinks its her well i did say it was a movie that loved movies the scene where she walks in on him works beautifully even if you have seen the original the film is full of good touches i particularly like charles durning s war story subtly acted and shot in sharp contrast to sharkey s abduction and torture which is suitably harsh and brutal i must mention vittorio gassman and henry silva as two disparate but equally evil brothers with absolutely no redeeming features whatsoever they are full on every time they re on screen and are no loss to society when their time comes mr silva s end being extra special indeed as has been mention this is a clint eastwood movie that clint never made the biggest compliment i can pay sharkey s machine is to point out that in my opinion clint eastwood couldn t have made a better job of it the soundtrack is of an equally high standard featuring sarah vaughan joe williams julie london chet baker and other top class artists randy crawford s street life plays behind the title sequence and i can never hear it without in my mind s eye seeing sharkey striding along the sidewalk like other correspondents i have never understood why this film was a bit of a flop i hope it is due for a critical revision particularly at a time when so many cop movies and shows without a quarter of its energy freshness and sheer joie de vivre are lauded from the rooftops if you re ever tempted to think of burt reynolds as a burnt out one trick pony put sharkey s machine in your video machine i promise you won t be disappointed'\n",
      " b'without a doubt one of tobe hoppor s best epic storytellng great special effects and the spacegirl vamp me baby'\n",
      " b'this must rank as one of cinema s greatest debacles i was wandering europe at the time and had the misfortune to stumble upon the crew making this movie in what was even then one of the world s idyllic unspoiled settings i was enlisted as an extra and what followed was an exhibition of modern day debauchery forget all the accusations you ve ever heard of peter mayall s intrusions on this rare piece of french life geoff reeve and his cohorts embarked on a level of revelry at the restaurant at les beaux that left the maitre d slack jawed in disbelief they were quite simply awful uncultured and undeserving of french hospitality'\n",
      " b'this anime is a must see for fans of evangelion it s an earlier work of anno hideaki but his unrestrained dramatic style is quite in place also those who didn t like evangelion might find this release to bit slightly more palatable gunbuster is rather unique to sci fi anime in that it s actually based on real science in fact the show has several little science lesson interludes explaining the physics behind some of the events in the movie one of the big dramatic points in the film is the relative passage of time at speeds near that of light the series does a wonderful job of dealing with the imaginably traumatic experience of leaving earth on a six month mission traveling near the speed of light and returning to an earth where ten years have passed the main character remains age 17 or 18 throughout the entire series while almost all of the other characters age considerably be warned this show is heavy on the sap at times it also has a couple of the most wholly unmerited breast shots that i have ever seen i found it fairly easy to ignore the skimpy uniforms and boo hoo scenes because the series is otherwise very good but viewers with a low sap tolerance might want to stay away from this one on an interesting note gainax as always managed to run out of money in the last couple of episodes however they managed to use black and white film and still action sketches to produce a good resolution anyway the ending is a bit silly but it left me with such a good feeling in my gut i couldn t help but love it gunbuster is in my opinion one of the finest pieces of anime around'\n",
      " b'don t see this movie bad acting and stupid gore effects a complete waste of time i was hoping to see a lot of cool murders and hot chicks instead the director depended on animal slaughter videos to shock you the watcher disgusting the murders are pretty lame basically strangulation one woman he stuffs worms in her mouth one he puts raw hamburgers on her face and strangles her btk btk broiler burger king s killer new sandwich ha ha i don t think this movie relied too much on actual facts i mean he real btk killer didn t carry around a bunch of rodents scorpions and worms and oh yeah a slaughtered cow head too go figure'\n",
      " b'i haven t any idea how commentators could regard this as a decent b western or how one commentator said the plot was more cohesive than most nothing could be farther from the truth this movie is one huge non sequitur it is an affront to the noble b western films of the 30 s i have seen many of wayne s early lone star and republic westerns and this one is easily the worst br br the bad guy is known as the shadow for crying out loud initially the shadow s scheme is holding up open sided stage coaches simultaneously his gang rustles all of the cattle in the territory then they decide to move on to bank robbery to do this they need to shoot up the town with a machine gun no explanation of why that s necessary or how he got that neato little toy br br no single scheme is revealed in enough detail to suggest a plot here the shadow is obviously just a generally bad guy with all kinds of generally evil schemes br br he imparts his instructions to his gang through a fake wall safe knock knock who s there he is apparently clairvoyant because whenever his henchmen need to talk to him they knock on the wall the safe opens and presto he s there i can just imagine that he has met them face to face and says i have some secret nefarious instructions to give you about our next evil deed meet me at the wall safe and i ll give em to you just why the shadow requires the safe to communicate with his army of outlaws is like most of the elements of this mess never explained br br he has a nifty tunnel to the ol hollow stump across the street from which vantage point various of his baddies perform assassinations he also has a hidden panel not in his secret lair behind the fake safe but out in the main room br br when not behind the safe he hangs out on his cow less ranch masquerading as rancher matlock we learn that he has murdered the true owners of the ranch two brothers and assumed the identity of one the daughter of the dead brother has recently arrived from 1930 s nyc judging by her wardrobe and she apparently never met her real uncle because he dupes her too br br if you thought that bad guys always wore black hats and good guys white hats you need to see this movie here the good guys all ditch their hats in favor of white head bands that make them look like they have all suffered head wounds before any shots have been fired it s like a game of pick up basketball only wayne has them tying bandanas round their heads instead of just taking off their shirts br br perhaps the weirdest of all is the ending immediately after subduing the shadow and his gang we jump far enough into the future to see wayne and his wife the erst while niece on the front porch of their home never mind that there has been scant romance there yak is playing with wayne s 3 4 year old son dressed up in injun garb hiyoo skookum fun br br no thanks to this nonsense wayne went on to become a screen legend only a super star packer or not could surmount this entry in a film resume long live the duke'\n",
      " b'office work especially in this era of computers multi functional copy machines e mail voice mail snail mail and temps is territory ripe with satirical possibilities a vein previously tapped in such films as clockwatchers and office space and very successfully this latest addition to the temp humor pool however haiku tunnel directed by josh kornbluth and jacob kornbluth fails to live up to it s predecessors and leaves the laughs somewhere outside the door waiting for a chance to sneak in unfortunately for the audience that chance never comes so what you get is a nice try but as the man once said no cigar br br as the narrator star of the film josh kornbluth playing josh kornbluth points out in the opening frames in a monologue delivered directly into the camera this story is pure fiction and takes place in the fictional city of san franc l isco it s an innovative if not very imaginatively presented disclaimer and not all that funny it is however a harbinger of what is to follow all of which like the disclaimer just isn t all that funny br br kornbluth plays kornbluth an aspiring novelist who supports himself working as a temp it s a job that suits him and it gives him time to slip in some work on his novel from time to time but when he goes to work for a lawyer bob shelby warren keith he does too good a job on the first day and shelby dispatches head secretary marlina d amore helen shumaker to kornbluth to persuade him to go perm the thought of working full time for the same company though initially strikes fear in the heart of kornbluth but he caves in and signs on for the position he s nervous about it but at least now the other secretaries acknowledge his presence which of course they would never do with a temp and if things get too rough he has seventeen important letters he s typed up that now just have to be mailed out to fall back on he s been holding them back because the mailing is the easy part and he needs that something easy to do in reserve in case it all gets to be too much for him these are important letters however and by the end of the week kornbluth still has them in reserve on his desk and it doesn t take a genius to figure out that when shelby finds out about it kornbluth s days as the fair haired boy are going to be over and quick br br the brothers kornbluth who not only directed but along with john bellucci also wrote the screenplay for this film should have taken a page out of the ben stiller book of comedy where it says if you play it straight they will laugh but they didn t and the audience won t because in comedy even looking at it as objectively as possible when the main character as well as most of the supporting characters in this case plays funny as in he knows he s being funny he never is and that s exactly what kornbluth does here so rather than being funny he comes across as insincere and pretentious a grievous error in judgment on the part of the kornbluths because by allowing it they sabotaged their own movie br br in trying to discern exactly why this movie doesn t work it comes down to two basic reasons the directing which if not necessarily bad is at least careless and secondly the performances beginning with that of josh kornbluth quite simply kornbluth just seems too impressed with himself to be effective here unlike stiller or even steve martin both of whom use self deprecating humor very effectively kornbluth apparently has an ego that simply will not allow putting himself in that light he seems to have a need to let his audience know that he the real kornbluth is in reality much more clever than kornbluth the character and being unable to get past that does him in as well as the film rather than give the millions of office workers who may see this film someone to whom they can relate or with whom they can identify kornbluth affects a condescending manner that only serves to alienate the very people he is attempting to reach so what it all comes down to is a case of poor directing and unconvincing acting and when you take into consideration that the screenplay itself was weak to begin with with an inexplicably narrow focus given the potential of the rich subject matter it s easy to understand why this one just doesn t fly br br the one saving grace of the film is the performance by warren keith as shelby whose subtle delivery is convincing and which in and of itself is fairly humorous the effectiveness of it is diminished however inasmuch as keith has to share his scenes with kornbluth which somewhat automatically cancels out his positive contributions to the project br br shumaker and sarah overman julie faustino also manage to keep their heads above water with their respective performances which are commendable if not entirely memorable they at least make their scenes watchable and overman even manages to elevate kornbluth s performance if only momentarily but it s still not enough to save the day or the film br br the supporting cast includes amy resnick mindy brian thorstenson clifford june lomena davonne joe bellan jimmy the mail clerk with a cameo appearance by a disheveled looking harry shearer as the orientation leader a role that begs for an answer to the question what was he thinking when he agreed to this in any work environment there will forever be situations arising that one way or another will unavoidably become fodder for someone s comedic cannon and the films depicting said situations will always be with us the good ones see paragraph one may even become classics in their own right haiku tunnel however will doubtfully remain very long amongst them for it s destiny lies elsewhere in a realm known only as obscurity i rate this one 1 10 br br br br'\n",
      " b'this film was not only one of john ford s own personal favorites but also numbered directors sergei m eisenstein and bertrand tavernier among its high profile admirers ironically i ve just caught up with it myself via criterion s recent 2 disc set after missing out on a couple of original language screenings of it on italian tv many years ago and again a few times on tv while in hollywood br br the film marked ford s first of nine collaborations with henry fonda and is also a quintessential example of ford s folksy americana vein a beautifully made and pictorially quite poetic piece of work the courtroom sequences and eventual revelation in its second half still pack quite a wallop apart from giving stalwart character actor donald meek a memorably meaty role as the prosecuting attorney br br fonda is of course perfectly cast as a bashful inexperienced but rigorous and humanistic lawyer who was destined to become president fonda would go on to portray other fictitious politicians on film most notably in franklin j schaffner s the best man 1964 and sidney lumet s fail safe 1964 and it s surprising now to learn that he was reluctant at the time about accepting the role of lincoln since in his view that was like playing god br br it is interesting to note here that ford had previously tackled abraham lincoln tangentially in the prisoner of shark island 1936 a superb but perhaps little known gem which has luckily just been released as a special edition dvd by the uk s veritable criterion stand in eureka s masters of cinema label besides i also have two more abraham lincoln films in my dvd collection which i ve yet to watch and incidentally both were directed by d w griffith the birth of a nation 1915 and abraham lincoln 1930 and had i not just received a bunch of films i ve never watched before just now i would have gladly given them a spin based on my highly satisfying viewing experience with young mr lincoln'\n",
      " b'this familiar story of an older man younger woman is surprisingly hard edged bikers hippies free love and jail bait mix surprisingly well in this forgotten black and white indie effort lead actress patricia wymer as the titular candy gives the finest performance of her career spanning all of 3 drive in epics wymer was precocious and fetching in the young graduates 1971 but gives a more serious performance in the babysitter the occasional violence and periodic nudity are somewhat surprising but well handled by the director leads wymer and george e carey sell the may december romance believably there are enough similarities between the babysitter and the young graduates to make one wonder if the same director helmed the latter film as well patricia wymer where are you br br hailing from seattle wa miss wymer had appeared as a dancer on the tv rock and roll show malibu u before gracing the cover as well as appearing in an eight page spread of the august 1968 issue of best for men a tasteful adults only magazine she also appeared as a coven witch in the popular 1969 cult drive in shocker the witchmaker br br the babysitter has finally made its home video debut as part of the eight film bci box set drive in cult classics vol 3 which is available from amazon com and some retail stores such as best buy'\n",
      " b'i have to admit that out of the many many thriller movies i have seen this has to be one of the worst i was shocked to discover that this piece of work had a 1 5 mil budget when it started i thought that the opening sequence was pretty good fairly standard for this kind of film but pretty good anyway but as the film progressed i began to feel distinctly uncomfortable with the lack of pace that i was seeing each sequence seemed to take hours the reason for this could have been that by now the film had already bored me to tears nothing was happening other than endless accusations peppered with confusing flashbacks and the occasional fit of bad temper well after wading through what felt like a lifetime of these scenes we finally reached the big finale an all singing all dancing demonstration of how lack of imagination can completely ruin what could have been a good film br br overall i found this movie predictable and tedious and i would not recommend this film to anyone other than those people i personally dislike but if you have a couple of hours to waste and you want to watch a thriller that is not even remotely scary this is the movie for you'\n",
      " b'andy lau and lau ching wan are both superb in johnny to s tautly directed crime thriller which puts most western efforts to shame think of it as the hong kong heat only better everything about the film screams class from the performances to the soundtrack the cinematography to the script the tone remains serious throughout but the film has a nice line in black humour friendship and romance at it s heart sure it gets a little preposterous later on but it would be a hard hearted viewer who didn t find something to love about this movie thank god hollywood hasn t yet re made and ruined a classic do yourself a favour and see this film'\n",
      " b'it could have been a marvelous story based on the ancient races of cat people but it wasn t br br this work could have been just that marvelous and replete with mythological references which kept my fascination fueled the lead characters charles brady played by brian krause and his mother mary played by alice krige were shallowly done had no depth of personality and were hardly likable or drawing not even m dchen amick who played tanya robertson s character fit into that description br br however as i ve said many times before when you adapt a stephen king novel for tv you simply must take into account the fact that his books aren t written for tv and his screenplay talent sadly lacks the fire and depth he exhibits as a novelist br br this is another botched attempt to take the magick of stephen king writing whether that is of his novels or an original screenplay to simply cut and paste his work onto the small screen his novels get completely bastardized in the process and all you end up creating is a nice movie nothing less but certainly nothing more his screenplays are hit and miss unfortunately this screenplay translation was a miss br br sorry sorry sorry movie br br this movie gets a 1 0 10 from br br the fiend'\n",
      " b'speck was apparently intended to be a biopic related to serial killer richard speck there is however not much killing to be found in this movie and none of it is explicitly shown the most disturbing scene in the entire movie is perhaps when speck stomps one of the eight unfortunate nurses to death in her own bathtub yet even this is merely implied and not shown save for a few unconvincing downward thrusts of mr speck s leg the most entertaining part of this movie is most likely the voice over which should be a testament to the mind numbingly boring nature of this movie every aspect of this movie is horrible unless you have a fondness for boredom don t bother this movie only clocks in at 72 minutes but it feels like an eternity'\n",
      " b'fast paced funny sexy and spectacular cagney is always terrific blondel charms you with her wit and energy it s obvious that this is a pre censorship film by the innuendo in the script the costumes and the way they touch each other and bikinis before there were bikinis this is no holds barred fun for everyone i don t understand the john garfield issue though does it matter whether or not he s in this film if he is he screen is so short that he s basically a prop you need to watch it frame by frame to even find him if he s there i m a big cagney fan but had never seen this one before i found it on turner classics i found it by wonderful accident sit back and enjoy the ride'\n",
      " b'as an actor i really like independent films but this one is amateur at best br br the boys go to vermont for a civil service yet when the plane lands it flies over a palm tree were the directors aware that palm trees are not in vermont pines yes palms no and the same for the wedding service again nice grove of palm trees br br when the boys are leaving vt they apparently could not get a ticket on any major airline since the plane that is filmed is federal express did they ship themselves overnight in a crate come on guys little details like this separate an indi film from totally amateur br br the christian brother is far gayer than arthur with his bleached hair and tribal band tattoo the two should have switched roles br br the minor characters are laughable and overact something terrible br br applause to the directors for making a gay film but pay some attention to your locations and casting next time'\n",
      " b'as much as i love ellen barkin who is really underrated i have to boo this movie if you can t tell who did it and why in the first half hour you obviously have never seen a psycho sexual thriller or have never watched 20 20 it s like the filmmakers and actors didn t care that they way they were shooting it and they way they were playing the characters would be a dead giveaway br br overall this movie serves to turn on the dirty perverts who like to mix violence and sex not a fun movie to sit through although if you like ellen barkin it s nice to see her place a tough lady'\n",
      " b'while william shater can always make me smile in anything he appears in and i especially love him as denny crane in boston legal well this show is all about glitz and dancing girls and screaming and jumping up and down br br it has none of the intelligence of millionaire none of the flair of deal or no deal br br this show is all about dancing and stupid things to fill in the time br br i watched it of course just to check it out i did watch it for over 45 minutes then i had to turn it off br br the best part of it was william shatner dancing on the stage he is a hoot unfortunately this show will not make it br br that s a given'\n",
      " b'there seems to be an overwhelming response to this movie yet no one with the insight to critique its methodology which is extremely flawed it simply continues to propogate journalistic style analysis which is that it plays off of the audiences lack of knowledge and prejudice in order to evoke an emotional decry and outburst of negative diatribe br br journalism 101 tell the viewer some fact only in order to predispose them into drawing conclusions which are predictable for instance the idea of civil war chaos looting etc were all supposedly unexpected responses to the collapse of governmental infrastructure following hussein s demise were these not all symptomatic of an already destitute culture doctrinal infighting as symptomatic of these veins of islam itself rather than a failure in police force to restrain and secure would they rather the us have declared marshall law i m sure the papers here would ve exploded with accusations of a police state and fascist force br br aside from the analytical idiocy of the film it takes a few sideliners and leaves the rest out claiming so and so refused to be interviewed yet the questions they would ve asked are no doubt already answered by the hundred inquisitions those individuals have already received would you as vice president deign to be interviewed by a first time writer producer which was most certainly already amped to twist your words they couldn t roll tape of condi to actually show her opinion and answer some of the logistics of the questions perhaps they never watched her hearing br br this is far from a neutral glimpse of the situation on the ground there this is another biased asinine approach by journalists which are by and large unthinking herds br br anyone wanting to comment on war ought at least have based their ideas on things a little more reliable than nbc coverage and cnn commentary these interpretations smack of the same vitriol which simply creates a further bipartisanism of those who want to think and those who want to be told by the media what to think'\n",
      " b'everyone likes the coolly created memorable heist movie alain delon provides the antihero melville provides the cool and a handful of other great talent yves montand gian maria volonte and andre bourvil mostly arrives to add a crisp engaging movie br br with very little dialog this is great because one certain aspect of the genre tends to be a lot of dialog involving the quick witted and their various repartees this movie however could be watched with the sound completely off and not too terribly much would be missed not to say the sound is bad oh no the jazzy soundtrack and the crisp audio catching the little movements makes the slow patient deliberation of the patients very compelling br br what s also really neat about this film is that the color cinematography is pretty fantastic usually when it comes to cinematography black and white movies tend to stick out in my mind but this film has some very strong and beautiful imagery that makes the movie pure visual pleasure to observe br br polarisdib'\n",
      " b'quai des orfevres directed by the brilliant henri georges clouzot is a film to treasure because it is one of the best exponents of french film making of the postwar years m clouzot adapting the steeman s novel longtime defence shows his genius in the way he sets the story and in the way he interconnects all the characters in this deeply satisfying movie that as dbdumonteil has pointed out in this forum it demonstrates how influential cluzot was and how much the next generation of french movie makers are indebted to the master especially claude chabrol br br the crisp black and white cinematography by armand thirard has been magnificently transferred to the criterion dvd we recently watched working with clouzot thirard makes the most of the dark tones and the shadows in most of the key scenes the music by francis lopez a man who created light music and operettas in france works well in the context of the film since the action takes place in the world of the music halls and night clubs br br louis jouvet who is seen as a police detective is perfect in the part this was one of his best screen appearances for an actor who was a pillar of the french theater jouvet clearly understood well the mechanics for the creation of his police inspector who is wiser and can look deeply into the souls of his suspects and ultimately steals the show from the others in an unfair comment by someone in this page jouvet s inspector is compared with peter falk s columbo the television detective frankly and no disrespect to mr falk intended it s like comparing a great champagne to a good house wine br br bernard blier is perfect as the jealous husband blier had the kind of face that one could associate with the man consumed with the passion his wife jenny lamour has awakened in him martineau is vulnerable and doesn t act rationally he is an easy suspect because he has done everything wrong as he finds in the middle of a crime he didn t commit but all the evidence points to the contrary br br the other great character in the film is dora the photographer it s clear by the way she interacts with jenny where her real interest lies simone renant is tragically appealing as this troubled woman and makes an enormous contribution to the film suzy delair playing jenny is appealing as the singer who suddenly leaps from obscurity to celebrity and attracts the kind of men like brignon the old lecher br br the film is one of the best clouzot directed during his distinguished career and one that will live forever because the way he brought all the elements together'\n",
      " b'i admit i had some trepidation when i first saw the previews for this film was vh 1 treading on hollow ground here i mean harris and quinn don t really look or even sound like john or paul but i have to admit this film really surprised me it s far from the exploitation film i expected instead it s a character study a low key whimsical and ultimately bittersweet look at friendship and the ultimate lesson we all learn it s hard if not impossible to capture what we once had and what has passed us by'\n",
      " b'once big action star who fell off the face of the earth ends up in a small town with a problem with drug dealers and a dead body of a federal agent reuniting with some former co stars to clean up the town br br low key often to the point of blandness action comedy mostly just doesn t work part of the problem is the casting chris klien as a former action hero he s not bad but he s really not believable as some one who was taken to be a tough guy as i said he s not bad he s just just miscast for what his back story is the real problem here is the combination of the script which really isn t funny and seems artificial at times and the direction which is pedestrian to the port of dullness there is no life in the way things are set up its as if the director had a list of shots and went by that list it makes for an un engaging film and yet the film occasionally springs to life such as the in the final show down that ends the film that sequence works but because the earlier parts of the film floundered its drained of much of its power br br i can t really recommend the film its worth a shot if you re a fan of the actors or are a huge fan of independent cinema in all its forms but otherwise this is just a disappointment'\n",
      " b'this film is just a shame orlando florida seems to becoming a more recognized filmmaking area like vancouver s rise to prominance the brothers was shot in central florida and this short film is a bit of a setback for the area which made great strides with the indie film walking across africa and the great hbo miniseries from earth to the moon br br i will try to be as honest as possible i think orlando was the perfect place to film the brothers it had the potential to give a new spin on the boy band craze after all both n sync and the backstreet boys come from this area but the brothers falls short probably because of a weak script both lead characters are flat with almost no development part of this could be the amatuer actors but some of it is certainly the way the script was written br br also a problem is the choice of jokes many of the jokes are too repetitive they do come off funny the first time but it does grow to be a bit boring some of the concert scenes are staged poorly and many of these scenes also don t seem to move the story along in any way br br i had high hopes for this one but alas its a disappointing effort i also hope the best for the upcoming feature based on this short but i think the best thing for filmmaker john figg is to move to different genres quickly comedy isn t his strong suit but its indisputable that he definitely is one of the more prominant filmmakers in the orlando area its just a shame that right now he s infamous not famous br br'\n",
      " b'brian keith as cole wlikerson and richard jaeckel as wade matlock make excellent villains they just love intimidating the locals in the most brutal way possible and sneer sexily at any suggestion that there might be a more humane way to achieve their ends it s a pity that goody goody glenn ford gets in their way'\n",
      " b'you can find an anti war statement here without looking too hard that layer is hackneyed or you can find a value neutral comment on the madness of war stripped of judgement that layer is completely uninteresting br br or you can watch this for the darn good entertainment value of duvall s one liners but that s just a coating for commercial mastication br br you can try to view this as a realistic vietnam war film but ask any veteran and he ll swat down that notion most vets will say it stinks br br or view it as a will he or won t he morality play nothing rich there either br br where i found the value was in the superb self reference coppola needed a container with great enough dimensions the war to fit the greatness of the skilled multi dimensional actor playing a great man br br brando the man was as much of a maverick as the kurtz character the studios were uncomfortable with his acting method yet he always excelled and won accolades the generals are uncomfortable with kurtz s unsound methods in spite of his strategic genius br br so coppola makes a movie all about brando s greatness to hammer on the point he places himself in the movie as hopper a manic photojournalist laden with multiple cameras to spout his praises brando himself is only seen in half light and silhouettes brilliant cinematography by storaro that only increases the actor s power and he goes out like the sacrificial bull to complete the narrative equation oh yes the horror br br other pieces of interest the great use of point of view camera perspectives including being in the firefight long before private ryan the ground breaking use of sound notably the ominous flanging sweeps and the sonic depiction of an acid trip br br don t get caught in the outer layers the rich part you should despoil from this is the brilliant core of sound vision and self reference'\n",
      " b'comedy central has a habit of putting on great programs at times chappelle s show the daily show colbert report and then there are those that some people love or hate stella dr katz then there are some shows that have their defenders but are just plain awful mencia and now sarah silverman br br this show is based on the fact silverman is self centered which can be funny colbert report but can be horrible mind of mencia it should shock no one that i believe the latter is the case this show is a parody of a sitcom and society a program so absurd it loses itself in its absurdity and it simply isn t funny a woman farting has been done in comedy many many times because its not something that s common we don t need 25 minutes of it when a criminal is disarmed by a queef it simply loses its appeal we saw it in jay and silent bob strike back except the women were hotter and the whole scene was more absurd making it better but the best comparison of this show is to stella except stella was more subtle which is what made the absurdist comedy funny it had better acting and i suppose a bit more of a fantastical realist view br br perhaps the fact some reviews are so negative i m very skeptical of the critical acclaim but do not dispute fan reaction to this show is the amount of advertising on it very obnoxious ads through many programs far outdo advertising on for other programs many people are wondering why sarah silverman has a career and others are still bitter when better shows have been canceled this show should ve never made it past the unaired pilot stage back to norm showed far more promise yet this show makes it further and as far as critics being correct many things have been universally panned have seen their status rise immensely last i checked britney spears gets good reviews too also take that comparison however you want because someone will no doubt accuse me of being psychotic on imdb for not liking this show'\n",
      " b'anyone who complains about peter jackson making movies too long should sit through this cbs event there s about 45 minutes of story padded by 2 hours of unnecessary subplots featuring bland by the book tv drama clich s bad science is a staple for crappy weather disaster movies so i m not going to complain about that silly science can be fun to watch if it s executed in an amusing fashion what kills this movie is it s 10 subplots all of which could be excised without destroying what is supposed to be the central plot the one character that is entertaining to watch in category 6 is tornado tommy despite being a very annoying stereotype br br note that i also didn t bother commenting on special effects their quality should come as no surprise br br not recommended']\n",
      "-----------------------\n",
      "label:  [0 0 0 0 0 1 1 0 0 0 1 1 0 1 1 1 0 0 1 0 0 1 1 1 0 1 0 1 1 0 1 0 1 1 1 0 1\n",
      " 1 1 0 1 0 0 0 1 1 0 1 0 0 1 0 0 0 0 1 1 1 0 0 1 1 0 0]\n",
      "-----------------------\n",
      "total len:  64\n"
     ]
    }
   ],
   "source": [
    "for example, label in test_dataset.take(1):\n",
    "    print(\"example : \", example.numpy())\n",
    "    print(\"-----------------------\")\n",
    "    print(\"label: \", label.numpy())\n",
    "    print(\"-----------------------\")\n",
    "    print(\"total len: \", len(label.numpy()))"
   ]
  },
  {
   "cell_type": "code",
   "execution_count": 52,
   "id": "outdoor-subject",
   "metadata": {},
   "outputs": [
    {
     "name": "stdout",
     "output_type": "stream",
     "text": [
      "157/157 [==============================] - 18s 110ms/step - loss: 0.3482 - accuracy: 0.8580\n"
     ]
    }
   ],
   "source": [
    "test_loss, test_acc = model.evaluate(test_dataset)"
   ]
  },
  {
   "cell_type": "code",
   "execution_count": 53,
   "id": "compound-settlement",
   "metadata": {},
   "outputs": [
    {
     "name": "stdout",
     "output_type": "stream",
     "text": [
      "Test Loss: 0.3481995165348053\n",
      "Test Accuracy: 0.8579999804496765\n"
     ]
    }
   ],
   "source": [
    "print(\"Test Loss: {}\".format(test_loss))\n",
    "print(\"Test Accuracy: {}\".format(test_acc))"
   ]
  },
  {
   "cell_type": "code",
   "execution_count": 54,
   "id": "limited-report",
   "metadata": {},
   "outputs": [
    {
     "data": {
      "image/png": "[encoded data removed]",
      "text/plain": [
       "<Figure size 720x576 with 1 Axes>"
      ]
     },
     "metadata": {},
     "output_type": "display_data"
    }
   ],
   "source": [
    "# plot the training and validation loss\n",
    "N = np.arange(0, EPOCHS)\n",
    "plt.style.use(\"ggplot\")\n",
    "plt.figure(figsize = [10,8])\n",
    "plt.plot(N, results.history[\"loss\"], label=\"train_loss\")\n",
    "plt.plot(N, results.history[\"val_loss\"], label=\"val_loss\")\n",
    "plt.title(\"RNN: Training & Validation Loss\")\n",
    "plt.xlabel(\"Epoch #\", weight=\"bold\")\n",
    "plt.ylabel(\"Loss\", weight=\"bold\")\n",
    "plt.legend()\n",
    "plt.show()"
   ]
  },
  {
   "cell_type": "code",
   "execution_count": 55,
   "id": "confidential-investment",
   "metadata": {},
   "outputs": [
    {
     "data": {
      "image/png": "[encoded data removed]",
      "text/plain": [
       "<Figure size 720x576 with 1 Axes>"
      ]
     },
     "metadata": {},
     "output_type": "display_data"
    }
   ],
   "source": [
    "# plot the training and validation accuracy\n",
    "N = np.arange(0, EPOCHS)\n",
    "plt.style.use(\"ggplot\")\n",
    "plt.figure(figsize = [10,8])\n",
    "plt.plot(N, results.history[\"accuracy\"], label=\"train_acc\")\n",
    "plt.plot(N, results.history[\"val_accuracy\"], label=\"val_acc\")\n",
    "plt.title(\"RNN: Training and Validation Accuracy\")\n",
    "plt.xlabel(\"Epoch #\", weight=\"bold\")\n",
    "plt.ylabel(\"Accuracy\", weight=\"bold\")\n",
    "plt.legend()\n",
    "plt.show()"
   ]
  },
  {
   "cell_type": "code",
   "execution_count": 56,
   "id": "opening-creation",
   "metadata": {},
   "outputs": [
    {
     "name": "stdout",
     "output_type": "stream",
     "text": [
      "[[-0.7759843]]\n",
      "negative\n"
     ]
    }
   ],
   "source": [
    "# predict on a sample text \n",
    "\n",
    "sample_text = (\"The movie was not Good, I would not recommend this movie.\")\n",
    "\n",
    "prediction = model.predict(np.array([sample_text]))\n",
    "print(prediction)\n",
    "\n",
    "if prediction[0][0] >= 0:\n",
    "    print(\"positive\")\n",
    "else:\n",
    "    print(\"negative\")\n"
   ]
  },
  {
   "cell_type": "code",
   "execution_count": 36,
   "id": "psychological-extra",
   "metadata": {},
   "outputs": [
    {
     "name": "stdout",
     "output_type": "stream",
     "text": [
      "[[7.7635174e-05 9.9932456e-01 5.9780240e-04]]\n",
      "Positive\n"
     ]
    }
   ],
   "source": [
    "\n",
    "# for 3 level\n",
    "# if np.argmax(prediction) == 0:\n",
    "#     print(\"Neutral\")\n",
    "# elif np.argmax(prediction) == 1:\n",
    "#     print(\"Positive\")\n",
    "# else:\n",
    "#     print(\"Negative\")"
   ]
  },
  {
   "cell_type": "markdown",
   "id": "nervous-duplicate",
   "metadata": {},
   "source": [
    "### 10. Saving the model"
   ]
  },
  {
   "cell_type": "code",
   "execution_count": 57,
   "id": "corporate-timeline",
   "metadata": {
    "scrolled": true
   },
   "outputs": [
    {
     "name": "stdout",
     "output_type": "stream",
     "text": [
      "[INFO] serializing network...\n",
      "INFO:tensorflow:Assets written to: model/sentiment_RNN_15epochs.model\\assets\n"
     ]
    }
   ],
   "source": [
    "# save the model to disk\n",
    "print(\"[INFO] serializing network...\")\n",
    "model.save(\"model/sentiment_RNN_15epochs.model\", save_format=\"H5\")"
   ]
  },
  {
   "cell_type": "code",
   "execution_count": 58,
   "id": "sunset-approval",
   "metadata": {},
   "outputs": [
    {
     "name": "stdout",
     "output_type": "stream",
     "text": [
      "[INFO] model loaded succesfully..\n"
     ]
    }
   ],
   "source": [
    "from tensorflow.keras.models import load_model\n",
    "new_model = load_model(\"model/sentiment_RNN_15epochs.model\")\n",
    "print(\"[INFO] model loaded succesfully..\")"
   ]
  },
  {
   "cell_type": "code",
   "execution_count": 59,
   "id": "weekly-newsletter",
   "metadata": {},
   "outputs": [
    {
     "name": "stdout",
     "output_type": "stream",
     "text": [
      "Model: \"sequential\"\n",
      "_________________________________________________________________\n",
      "Layer (type)                 Output Shape              Param #   \n",
      "=================================================================\n",
      "text_vectorization (TextVect (None, None)              0         \n",
      "_________________________________________________________________\n",
      "embedding (Embedding)        (None, None, 64)          64000     \n",
      "_________________________________________________________________\n",
      "simple_rnn (SimpleRNN)       (None, 64)                8256      \n",
      "_________________________________________________________________\n",
      "dense (Dense)                (None, 64)                4160      \n",
      "_________________________________________________________________\n",
      "dense_1 (Dense)              (None, 1)                 65        \n",
      "=================================================================\n",
      "Total params: 76,481\n",
      "Trainable params: 76,481\n",
      "Non-trainable params: 0\n",
      "_________________________________________________________________\n"
     ]
    }
   ],
   "source": [
    "new_model.summary()"
   ]
  },
  {
   "cell_type": "markdown",
   "id": "diverse-period",
   "metadata": {},
   "source": [
    "### 11. Making predictions for unseen data"
   ]
  },
  {
   "cell_type": "code",
   "execution_count": 60,
   "id": "registered-screen",
   "metadata": {},
   "outputs": [
    {
     "data": {
      "text/plain": [
       "clean_review    0\n",
       "label           0\n",
       "dtype: int64"
      ]
     },
     "execution_count": 60,
     "metadata": {},
     "output_type": "execute_result"
    }
   ],
   "source": [
    "# check missing value \n",
    "df_test.isnull().sum()"
   ]
  },
  {
   "cell_type": "code",
   "execution_count": 61,
   "id": "exposed-enhancement",
   "metadata": {},
   "outputs": [
    {
     "data": {
      "text/html": [
       "<div>\n",
       "<style scoped>\n",
       "    .dataframe tbody tr th:only-of-type {\n",
       "        vertical-align: middle;\n",
       "    }\n",
       "\n",
       "    .dataframe tbody tr th {\n",
       "        vertical-align: top;\n",
       "    }\n",
       "\n",
       "    .dataframe thead th {\n",
       "        text-align: right;\n",
       "    }\n",
       "</style>\n",
       "<table border=\"1\" class=\"dataframe\">\n",
       "  <thead>\n",
       "    <tr style=\"text-align: right;\">\n",
       "      <th></th>\n",
       "      <th>clean_review</th>\n",
       "      <th>label</th>\n",
       "    </tr>\n",
       "  </thead>\n",
       "  <tbody>\n",
       "    <tr>\n",
       "      <th>0</th>\n",
       "      <td>first off i want to say that i lean liberal on...</td>\n",
       "      <td>0</td>\n",
       "    </tr>\n",
       "    <tr>\n",
       "      <th>1</th>\n",
       "      <td>i was excited to see a sitcom that would hopef...</td>\n",
       "      <td>0</td>\n",
       "    </tr>\n",
       "    <tr>\n",
       "      <th>2</th>\n",
       "      <td>when you look at the cover and read stuff abou...</td>\n",
       "      <td>0</td>\n",
       "    </tr>\n",
       "    <tr>\n",
       "      <th>3</th>\n",
       "      <td>like many others i counted on the appearance o...</td>\n",
       "      <td>0</td>\n",
       "    </tr>\n",
       "    <tr>\n",
       "      <th>4</th>\n",
       "      <td>this movie was on t v the other day and i didn...</td>\n",
       "      <td>0</td>\n",
       "    </tr>\n",
       "  </tbody>\n",
       "</table>\n",
       "</div>"
      ],
      "text/plain": [
       "                                        clean_review  label\n",
       "0  first off i want to say that i lean liberal on...      0\n",
       "1  i was excited to see a sitcom that would hopef...      0\n",
       "2  when you look at the cover and read stuff abou...      0\n",
       "3  like many others i counted on the appearance o...      0\n",
       "4  this movie was on t v the other day and i didn...      0"
      ]
     },
     "execution_count": 61,
     "metadata": {},
     "output_type": "execute_result"
    }
   ],
   "source": [
    "df_test.head()"
   ]
  },
  {
   "cell_type": "code",
   "execution_count": 62,
   "id": "thorough-anniversary",
   "metadata": {},
   "outputs": [],
   "source": [
    "# Drop rows with any NaN in the clean text column only\n",
    "# df_test = df_test.dropna(how='any', subset=['clean_review'])"
   ]
  },
  {
   "cell_type": "code",
   "execution_count": 63,
   "id": "cutting-addiction",
   "metadata": {},
   "outputs": [],
   "source": [
    "# check missing value \n",
    "# df_test.isnull().sum()"
   ]
  },
  {
   "cell_type": "code",
   "execution_count": 64,
   "id": "former-seating",
   "metadata": {},
   "outputs": [],
   "source": [
    "# prediction on unseen data\n",
    "y_pred = model.predict(np.array(df_test[\"clean_review\"]))"
   ]
  },
  {
   "cell_type": "code",
   "execution_count": 65,
   "id": "revolutionary-passenger",
   "metadata": {},
   "outputs": [
    {
     "data": {
      "text/plain": [
       "array([[-4.255795  ],\n",
       "       [-4.8410945 ],\n",
       "       [-0.03729042],\n",
       "       [-4.6472926 ],\n",
       "       [-1.4698176 ],\n",
       "       [ 5.0009823 ],\n",
       "       [ 3.589117  ],\n",
       "       [-5.1224265 ],\n",
       "       [-2.34893   ],\n",
       "       [-3.6478853 ]], dtype=float32)"
      ]
     },
     "execution_count": 65,
     "metadata": {},
     "output_type": "execute_result"
    }
   ],
   "source": [
    "y_pred[:10] # confidence for each class"
   ]
  },
  {
   "cell_type": "code",
   "execution_count": 66,
   "id": "rotary-range",
   "metadata": {},
   "outputs": [],
   "source": [
    "# convert conf to 1 if +conf else 0\n",
    "y_pred_bool = []\n",
    "for conf in y_pred:\n",
    "    if conf[0] >= 0:\n",
    "        y_pred_bool.append(1)\n",
    "    else:\n",
    "        y_pred_bool.append(0)\n",
    "\n",
    "df_test[\"pred\"] = y_pred_bool"
   ]
  },
  {
   "cell_type": "code",
   "execution_count": 149,
   "id": "temporal-cleaning",
   "metadata": {},
   "outputs": [],
   "source": [
    "# create new column for prediction on 3 label\n",
    "# df_test[\"Predicted_label\"] = np.argmax(y_pred, axis=1)"
   ]
  },
  {
   "cell_type": "code",
   "execution_count": 67,
   "id": "saving-station",
   "metadata": {},
   "outputs": [
    {
     "data": {
      "text/html": [
       "<div>\n",
       "<style scoped>\n",
       "    .dataframe tbody tr th:only-of-type {\n",
       "        vertical-align: middle;\n",
       "    }\n",
       "\n",
       "    .dataframe tbody tr th {\n",
       "        vertical-align: top;\n",
       "    }\n",
       "\n",
       "    .dataframe thead th {\n",
       "        text-align: right;\n",
       "    }\n",
       "</style>\n",
       "<table border=\"1\" class=\"dataframe\">\n",
       "  <thead>\n",
       "    <tr style=\"text-align: right;\">\n",
       "      <th></th>\n",
       "      <th>clean_review</th>\n",
       "      <th>label</th>\n",
       "      <th>pred</th>\n",
       "    </tr>\n",
       "  </thead>\n",
       "  <tbody>\n",
       "    <tr>\n",
       "      <th>0</th>\n",
       "      <td>first off i want to say that i lean liberal on...</td>\n",
       "      <td>0</td>\n",
       "      <td>0</td>\n",
       "    </tr>\n",
       "    <tr>\n",
       "      <th>1</th>\n",
       "      <td>i was excited to see a sitcom that would hopef...</td>\n",
       "      <td>0</td>\n",
       "      <td>0</td>\n",
       "    </tr>\n",
       "    <tr>\n",
       "      <th>2</th>\n",
       "      <td>when you look at the cover and read stuff abou...</td>\n",
       "      <td>0</td>\n",
       "      <td>0</td>\n",
       "    </tr>\n",
       "    <tr>\n",
       "      <th>3</th>\n",
       "      <td>like many others i counted on the appearance o...</td>\n",
       "      <td>0</td>\n",
       "      <td>0</td>\n",
       "    </tr>\n",
       "    <tr>\n",
       "      <th>4</th>\n",
       "      <td>this movie was on t v the other day and i didn...</td>\n",
       "      <td>0</td>\n",
       "      <td>0</td>\n",
       "    </tr>\n",
       "  </tbody>\n",
       "</table>\n",
       "</div>"
      ],
      "text/plain": [
       "                                        clean_review  label  pred\n",
       "0  first off i want to say that i lean liberal on...      0     0\n",
       "1  i was excited to see a sitcom that would hopef...      0     0\n",
       "2  when you look at the cover and read stuff abou...      0     0\n",
       "3  like many others i counted on the appearance o...      0     0\n",
       "4  this movie was on t v the other day and i didn...      0     0"
      ]
     },
     "execution_count": 67,
     "metadata": {},
     "output_type": "execute_result"
    }
   ],
   "source": [
    "df_test.head()"
   ]
  },
  {
   "cell_type": "markdown",
   "id": "soviet-daniel",
   "metadata": {},
   "source": [
    "### 12. confusion matrix "
   ]
  },
  {
   "cell_type": "code",
   "execution_count": 68,
   "id": "controversial-interface",
   "metadata": {},
   "outputs": [],
   "source": [
    "def plot_confusion_metrix(y_true, y_pred,classes,\n",
    "                         normalize=False,\n",
    "                         title='Confusion Matrix',\n",
    "                         cmap=plt.cm.Blues):\n",
    "    \"\"\"\n",
    "    Objective\n",
    "    ----------\n",
    "    plot confussion matrix, classification report and accuracy score\n",
    "    \n",
    "    parameters\n",
    "    ----------\n",
    "    y_true : array-like of shape (n_samples,)\n",
    "        Ground truth (correct) target values.\n",
    "\n",
    "    y_pred : array-like of shape (n_samples,)\n",
    "        Estimated targets as returned by a classifier.\n",
    "    \n",
    "    classes : list\n",
    "        List of labels to index the matrix\n",
    "        \n",
    "    title : title for matrix\n",
    "    cmap : colormap for matrix \n",
    "    \n",
    "    returns \n",
    "    ----------\n",
    "   all accruacy matrix \n",
    "    \"\"\"\n",
    "    \n",
    "    \n",
    "    cm = confusion_matrix(y_true,y_pred)\n",
    "    \n",
    "    \n",
    "    if normalize:\n",
    "        cm = cm.astype('float') / cm.sum(axis=1)[:, np.newaxis]\n",
    "        print(\"Normalized Confusion Matrix\")\n",
    "    else:\n",
    "        print(\"Confusion Matrix, Without Normalisation\")\n",
    "\n",
    "    \n",
    "    plt.imshow(cm, interpolation='nearest',cmap=cmap)\n",
    "    plt.title(title)\n",
    "    plt.colorbar()\n",
    "    tick_marks = np.arange(len(classes))\n",
    "    plt.xticks(tick_marks,classes,rotation=35)\n",
    "    plt.yticks(tick_marks,classes)\n",
    "    \n",
    "    fmt = '.2f' if normalize else 'd'\n",
    "    thresh = cm.max() /2.\n",
    "    \n",
    "    for i , j in itertools.product(range(cm.shape[0]), range(cm.shape[0])):\n",
    "        plt.text(j, i, format(cm[i,j], fmt),\n",
    "                 horizontalalignment='center',\n",
    "                 color='white' if cm[i, j] > thresh else 'black')\n",
    "    \n",
    "    plt.ylabel('True label')\n",
    "    plt.xlabel('Predicted label')\n",
    "    # plt.tight_layout()\n",
    "    \n",
    "    plt.show()\n",
    "    \n",
    "    print(\"-----------------------------------------------------\")\n",
    "    print('Classification report')\n",
    "    print(classification_report(y_true,y_pred))\n",
    "    \n",
    "    print(\"-----------------------------------------------------\")\n",
    "    acc= accuracy_score(y_true,y_pred)\n",
    "    print(\"Accuracy of the model: \", acc)"
   ]
  },
  {
   "cell_type": "code",
   "execution_count": 69,
   "id": "computational-jenny",
   "metadata": {},
   "outputs": [
    {
     "name": "stdout",
     "output_type": "stream",
     "text": [
      "Confusion Matrix, Without Normalisation\n"
     ]
    },
    {
     "data": {
      "image/png": "[encoded data removed]",
      "text/plain": [
       "<Figure size 432x288 with 2 Axes>"
      ]
     },
     "metadata": {},
     "output_type": "display_data"
    },
    {
     "name": "stdout",
     "output_type": "stream",
     "text": [
      "-----------------------------------------------------\n",
      "Classification report\n",
      "              precision    recall  f1-score   support\n",
      "\n",
      "           0       0.86      0.84      0.85      4993\n",
      "           1       0.85      0.87      0.86      5007\n",
      "\n",
      "    accuracy                           0.86     10000\n",
      "   macro avg       0.86      0.86      0.86     10000\n",
      "weighted avg       0.86      0.86      0.86     10000\n",
      "\n",
      "-----------------------------------------------------\n",
      "Accuracy of the model:  0.8553\n"
     ]
    }
   ],
   "source": [
    "plot_confusion_metrix(df_test[\"label\"], df_test[\"pred\"],classes=[\"negative: 0\",\"positive: 1\"])"
   ]
  },
  {
   "cell_type": "markdown",
   "id": "hearing-tours",
   "metadata": {},
   "source": [
    "### 13. final submission "
   ]
  },
  {
   "cell_type": "code",
   "execution_count": 70,
   "id": "composed-tumor",
   "metadata": {},
   "outputs": [],
   "source": [
    "def label(a):\n",
    "    if a==0:\n",
    "        return \"Negative\"\n",
    "    elif a==1:\n",
    "        return \"Positive\"\n",
    "    "
   ]
  },
  {
   "cell_type": "code",
   "execution_count": 71,
   "id": "protecting-nightlife",
   "metadata": {},
   "outputs": [],
   "source": [
    "df_test[\"pred\"] = df_test[\"pred\"].apply(lambda a : label(a))\n",
    "df_test[\"label\"] = df_test[\"label\"].apply(lambda a : label(a))"
   ]
  },
  {
   "cell_type": "code",
   "execution_count": 72,
   "id": "clear-basic",
   "metadata": {},
   "outputs": [
    {
     "data": {
      "text/html": [
       "<div>\n",
       "<style scoped>\n",
       "    .dataframe tbody tr th:only-of-type {\n",
       "        vertical-align: middle;\n",
       "    }\n",
       "\n",
       "    .dataframe tbody tr th {\n",
       "        vertical-align: top;\n",
       "    }\n",
       "\n",
       "    .dataframe thead th {\n",
       "        text-align: right;\n",
       "    }\n",
       "</style>\n",
       "<table border=\"1\" class=\"dataframe\">\n",
       "  <thead>\n",
       "    <tr style=\"text-align: right;\">\n",
       "      <th></th>\n",
       "      <th>clean_review</th>\n",
       "      <th>label</th>\n",
       "      <th>pred</th>\n",
       "    </tr>\n",
       "  </thead>\n",
       "  <tbody>\n",
       "    <tr>\n",
       "      <th>0</th>\n",
       "      <td>first off i want to say that i lean liberal on...</td>\n",
       "      <td>Negative</td>\n",
       "      <td>Negative</td>\n",
       "    </tr>\n",
       "    <tr>\n",
       "      <th>1</th>\n",
       "      <td>i was excited to see a sitcom that would hopef...</td>\n",
       "      <td>Negative</td>\n",
       "      <td>Negative</td>\n",
       "    </tr>\n",
       "    <tr>\n",
       "      <th>2</th>\n",
       "      <td>when you look at the cover and read stuff abou...</td>\n",
       "      <td>Negative</td>\n",
       "      <td>Negative</td>\n",
       "    </tr>\n",
       "    <tr>\n",
       "      <th>3</th>\n",
       "      <td>like many others i counted on the appearance o...</td>\n",
       "      <td>Negative</td>\n",
       "      <td>Negative</td>\n",
       "    </tr>\n",
       "    <tr>\n",
       "      <th>4</th>\n",
       "      <td>this movie was on t v the other day and i didn...</td>\n",
       "      <td>Negative</td>\n",
       "      <td>Negative</td>\n",
       "    </tr>\n",
       "  </tbody>\n",
       "</table>\n",
       "</div>"
      ],
      "text/plain": [
       "                                        clean_review     label      pred\n",
       "0  first off i want to say that i lean liberal on...  Negative  Negative\n",
       "1  i was excited to see a sitcom that would hopef...  Negative  Negative\n",
       "2  when you look at the cover and read stuff abou...  Negative  Negative\n",
       "3  like many others i counted on the appearance o...  Negative  Negative\n",
       "4  this movie was on t v the other day and i didn...  Negative  Negative"
      ]
     },
     "execution_count": 72,
     "metadata": {},
     "output_type": "execute_result"
    }
   ],
   "source": [
    "df_test.head()"
   ]
  },
  {
   "cell_type": "code",
   "execution_count": 73,
   "id": "frozen-edgar",
   "metadata": {},
   "outputs": [],
   "source": [
    "df_test.to_csv(\"dataset/Test_Predictioin.csv\", index=False)"
   ]
  },
  {
   "cell_type": "markdown",
   "id": "classical-avenue",
   "metadata": {},
   "source": [
    "### 14. Future scope"
   ]
  },
  {
   "cell_type": "raw",
   "id": "australian-integration",
   "metadata": {},
   "source": [
    "\n",
    "1. parameter tunning\n",
    "2. use lstm layer insted of rnn\n",
    "3. stack two or more lstm layers\n",
    "4. add dropout\n",
    "5. change learning rate and epochs \n",
    "6. deploye the model "
   ]
  },
  {
   "cell_type": "raw",
   "id": "promising-gauge",
   "metadata": {},
   "source": [
    "# use simple lstm \n",
    "\n",
    "model = tf.keras.Sequential([\n",
    "    encoder,\n",
    "    tf.keras.layers.Embedding(input_dim=len(encoder.get_vocabulary()), output_dim=64, mask_zero=True), # word2vec\n",
    "    tf.keras.layers.LSTM(64)\n",
    "    tf.keras.layers.Dense(64, activation=\"relu\"),\n",
    "    tf.keras.layers.Dense(1) # tf.keras.layers.Dense(3, activation=\"softmax\")\n",
    "])"
   ]
  },
  {
   "cell_type": "raw",
   "id": "awful-privilege",
   "metadata": {},
   "source": [
    "#  stack two or more lstm layers\n",
    "model = tf.keras.Sequential([\n",
    "    encoder,\n",
    "    tf.keras.layers.Embedding(input_dim=len(encoder.get_vocabulary()), output_dim=64, mask_zero=True), # word2vec\n",
    "    tf.keras.layers.Bidirectional(tf.keras.layers.LSTM(64, return_sequence=True))\n",
    "    tf.keras.layers.Bidirectional(tf.keras.layers.LSTM(32))\n",
    "    tf.keras.layers.Dense(64, activation=\"relu\"),\n",
    "    tf.keras.layers.Dropout(0.4)\n",
    "    tf.keras.layers.Dense(1) # tf.keras.layers.Dense(3, activation=\"softmax\")\n",
    "])"
   ]
  },
  {
   "cell_type": "markdown",
   "id": "satellite-therapy",
   "metadata": {},
   "source": [
    "return_sequence :\n",
    "    - false: it returns only the last output for each input sequence (a 2D tensor of shape (batch_size, output_features)). this is the default\n",
    "        used in previous model\n",
    "    - true: the full sequences of successive outputs for each timestep is returned (a 3D tensor of shape(batch_size, timesteps, output_features))\n",
    "\n",
    "the intresting thing about using an rnn with return sequences=true is that the output still has 3axes like the input so it can be passed to another rnn layer like this.    "
   ]
  },
  {
   "cell_type": "markdown",
   "id": "computational-bunny",
   "metadata": {},
   "source": [
    "### THE END"
   ]
  },
  {
   "cell_type": "code",
   "execution_count": null,
   "id": "regulation-difference",
   "metadata": {},
   "outputs": [],
   "source": []
  },
  {
   "cell_type": "code",
   "execution_count": null,
   "id": "unusual-effects",
   "metadata": {},
   "outputs": [],
   "source": []
  },
  {
   "cell_type": "code",
   "execution_count": null,
   "id": "thorough-witch",
   "metadata": {},
   "outputs": [],
   "source": []
  },
  {
   "cell_type": "code",
   "execution_count": null,
   "id": "subjective-birthday",
   "metadata": {},
   "outputs": [],
   "source": []
  },
  {
   "cell_type": "code",
   "execution_count": null,
   "id": "gross-location",
   "metadata": {},
   "outputs": [],
   "source": []
  },
  {
   "cell_type": "code",
   "execution_count": null,
   "id": "genuine-sherman",
   "metadata": {},
   "outputs": [],
   "source": []
  },
  {
   "cell_type": "code",
   "execution_count": null,
   "id": "minimal-evaluation",
   "metadata": {},
   "outputs": [],
   "source": []
  },
  {
   "cell_type": "code",
   "execution_count": null,
   "id": "derived-trustee",
   "metadata": {},
   "outputs": [],
   "source": []
  },
  {
   "cell_type": "code",
   "execution_count": null,
   "id": "boolean-excuse",
   "metadata": {},
   "outputs": [],
   "source": []
  },
  {
   "cell_type": "code",
   "execution_count": null,
   "id": "polished-injury",
   "metadata": {},
   "outputs": [],
   "source": []
  },
  {
   "cell_type": "code",
   "execution_count": null,
   "id": "consolidated-sodium",
   "metadata": {},
   "outputs": [],
   "source": []
  },
  {
   "cell_type": "code",
   "execution_count": null,
   "id": "preliminary-inflation",
   "metadata": {},
   "outputs": [],
   "source": []
  },
  {
   "cell_type": "code",
   "execution_count": null,
   "id": "private-fraction",
   "metadata": {},
   "outputs": [],
   "source": []
  }
 ],
 "metadata": {
  "kernelspec": {
   "display_name": "tf24",
   "language": "python",
   "name": "tf24"
  },
  "language_info": {
   "codemirror_mode": {
    "name": "ipython",
    "version": 3
   },
   "file_extension": ".py",
   "mimetype": "text/x-python",
   "name": "python",
   "nbconvert_exporter": "python",
   "pygments_lexer": "ipython3",
   "version": "3.7.9"
  }
 },
 "nbformat": 4,
 "nbformat_minor": 5
}
